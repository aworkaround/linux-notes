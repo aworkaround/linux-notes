{
 "cells": [
  {
   "cell_type": "markdown",
   "metadata": {},
   "source": [
    "\n",
    "## libvirt \n",
    "\n",
    "Libvirt is collection of software that provides a convenient way to manage virtual machines and other virtualization functionality, such as storage and network interface management. \n",
    "\n",
    "- These software pieces include:\n",
    "    - a long term stable C API\n",
    "    - a daemon (libvirtd)\n",
    "    - a command line utility (virsh). \n",
    "    \n",
    "An primary goal of libvirt is to provide a single way to manage multiple different virtualization providers/hypervisors.    \n",
    "*No need to learn the hypervisor specific tools.*\n",
    "\n",
    "For example: 'virsh list --all' listS the existing virtual machines for any supported hypervisor (KVM, Xen, VMWare ESX, etc.) \n",
    "\n",
    "<img src=\"img/virt/libvirt.png\" style=\"width:60%\"/>\n",
    "\n",
    "### major functionality provided by libvirt?\n",
    "\n",
    "Some of the major libvirt features are:\n",
    "\n",
    "- VM management: \n",
    "    - Various domain lifecycle operations such as start, stop, pause, save, restore, and migrate. \n",
    "    - Hotplug operations for many device types including disk and network interfaces, memory, and cpus.\n",
    "- Remote machine support\n",
    "- Storage management\n",
    "- Network interface management\n",
    "- Virtual NAT and Route based networking\n"
   ]
  },
  {
   "cell_type": "code",
   "execution_count": null,
   "metadata": {
    "collapsed": true
   },
   "outputs": [],
   "source": [
    "sudo apt-get install qemu-kvm"
   ]
  },
  {
   "cell_type": "code",
   "execution_count": null,
   "metadata": {
    "collapsed": true
   },
   "outputs": [],
   "source": [
    "sudo apt-get install libvirt-bin virtinstall virt-manager"
   ]
  },
  {
   "cell_type": "code",
   "execution_count": null,
   "metadata": {
    "collapsed": true
   },
   "outputs": [],
   "source": [
    "sudo gpasswd -a milad libvirtd"
   ]
  },
  {
   "cell_type": "code",
   "execution_count": 2,
   "metadata": {},
   "outputs": [
    {
     "name": "stdout",
     "output_type": "stream",
     "text": [
      " Id    Name                           State\n",
      "----------------------------------------------------\n",
      "\n"
     ]
    }
   ],
   "source": [
    "virsh list"
   ]
  },
  {
   "cell_type": "code",
   "execution_count": 1,
   "metadata": {},
   "outputs": [
    {
     "name": "stdout",
     "output_type": "stream",
     "text": [
      " Name                 State      Autostart     Persistent\n",
      "----------------------------------------------------------\n",
      " default              active     yes           yes\n",
      "\n"
     ]
    }
   ],
   "source": [
    "virsh net-list"
   ]
  },
  {
   "cell_type": "code",
   "execution_count": null,
   "metadata": {
    "collapsed": true
   },
   "outputs": [],
   "source": [
    "virsh # go to interactive mode"
   ]
  },
  {
   "cell_type": "code",
   "execution_count": 3,
   "metadata": {},
   "outputs": [
    {
     "name": "stdout",
     "output_type": "stream",
     "text": [
      "  NAME\n",
      "    net-destroy - destroy (stop) a network\n",
      "\n",
      "  SYNOPSIS\n",
      "    net-destroy <network>\n",
      "\n",
      "  DESCRIPTION\n",
      "    Forcefully stop a given network.\n",
      "\n",
      "  OPTIONS\n",
      "    [--network] <string>  network name or uuid\n",
      "\n",
      "\n"
     ]
    }
   ],
   "source": [
    "virsh net-destroy --help"
   ]
  },
  {
   "cell_type": "markdown",
   "metadata": {},
   "source": [
    "stoping a network"
   ]
  },
  {
   "cell_type": "code",
   "execution_count": 5,
   "metadata": {},
   "outputs": [
    {
     "name": "stdout",
     "output_type": "stream",
     "text": [
      "Network default destroyed\n",
      "\n"
     ]
    }
   ],
   "source": [
    "virsh net-destroy default"
   ]
  },
  {
   "cell_type": "code",
   "execution_count": 8,
   "metadata": {},
   "outputs": [
    {
     "name": "stdout",
     "output_type": "stream",
     "text": [
      " Name                 State      Autostart     Persistent\n",
      "----------------------------------------------------------\n",
      "\n"
     ]
    }
   ],
   "source": [
    "virsh net-list"
   ]
  },
  {
   "cell_type": "code",
   "execution_count": 7,
   "metadata": {},
   "outputs": [
    {
     "name": "stdout",
     "output_type": "stream",
     "text": [
      " Name                 State      Autostart     Persistent\n",
      "----------------------------------------------------------\n",
      " default              inactive   yes           yes\n",
      "\n"
     ]
    }
   ],
   "source": [
    "virsh net-list --inactive # or --all"
   ]
  },
  {
   "cell_type": "markdown",
   "metadata": {},
   "source": [
    "disabling autostart"
   ]
  },
  {
   "cell_type": "code",
   "execution_count": 10,
   "metadata": {},
   "outputs": [
    {
     "name": "stdout",
     "output_type": "stream",
     "text": [
      "Network default unmarked as autostarted\n",
      "\n"
     ]
    }
   ],
   "source": [
    "virsh net-autostart --disable default"
   ]
  },
  {
   "cell_type": "code",
   "execution_count": 11,
   "metadata": {},
   "outputs": [
    {
     "name": "stdout",
     "output_type": "stream",
     "text": [
      " Name                 State      Autostart     Persistent\n",
      "----------------------------------------------------------\n",
      " default              inactive   no            yes\n",
      "\n"
     ]
    }
   ],
   "source": [
    "virsh net-list --all"
   ]
  },
  {
   "cell_type": "markdown",
   "metadata": {},
   "source": [
    "## KVM\n",
    "KVM (Kernel-based Virtual Machine) is a full virtualization solution for Linux containing virtualization extensions (Intel VT or AMD-V). \n",
    "\n",
    "- It consists of :\n",
    "    - a loadable kernel module, kvm.ko, that provides the core virtualization infrastructure.\n",
    "    - a processor specific module, kvm-intel.ko or kvm-amd.ko. \n",
    "\n",
    "KVM does not support paravirtualization for CPU but may support paravirtualization for device drivers to improve I/O performance.  \n",
    "QEMU uses emulation; KVM uses processor extensions (HVM) for virtualization. \n",
    "\n",
    "KVM kernel modules are part of the Linux kernel package\n",
    "Userspace tools are usually called \"qemu-kvm\" or \"kvm\"\n",
    "Linux guest drivers are part of the Linux kernel package"
   ]
  },
  {
   "cell_type": "code",
   "execution_count": null,
   "metadata": {
    "collapsed": true
   },
   "outputs": [],
   "source": [
    "sudo apt-get install cpu-checker"
   ]
  },
  {
   "cell_type": "code",
   "execution_count": 2,
   "metadata": {},
   "outputs": [
    {
     "name": "stdout",
     "output_type": "stream",
     "text": [
      "/usr/s\u001b[01;31m\u001b[Kbin/\u001b[m\u001b[Kkvm-ok\n",
      "/usr/s\u001b[01;31m\u001b[Kbin/\u001b[m\u001b[Kcheck-bios-nx\n"
     ]
    }
   ],
   "source": [
    "dpkg -L cpu-checker | grep bin/"
   ]
  },
  {
   "cell_type": "markdown",
   "metadata": {},
   "source": [
    "The program will first determine if /proc/cpuinfo contains the flags indicating that\n",
    "       the CPU has the Virtualization Technology (VT) capability.  \n",
    "       Next, it will check if the /dev/kvm device exists.\n"
   ]
  },
  {
   "cell_type": "code",
   "execution_count": 3,
   "metadata": {},
   "outputs": [
    {
     "name": "stdout",
     "output_type": "stream",
     "text": [
      "INFO: /dev/kvm exists\n",
      "KVM acceleration can be used\n"
     ]
    }
   ],
   "source": [
    "kvm-ok"
   ]
  },
  {
   "cell_type": "code",
   "execution_count": 6,
   "metadata": {},
   "outputs": [
    {
     "name": "stdout",
     "output_type": "stream",
     "text": [
      "1\n"
     ]
    }
   ],
   "source": [
    "egrep 'vmx|svm' -m1 -c /proc/cpuinfo  # match first one, just count; vmx: intel, svm: amd"
   ]
  },
  {
   "cell_type": "markdown",
   "metadata": {},
   "source": [
    "\"vmx\" stands for Virtual Machine Extensions, which adds ten new instructions, These instructions permit entering and exiting a virtual execution mode where the guest OS perceives itself as running with full privilege (ring 0), but the host OS remains protected."
   ]
  },
  {
   "cell_type": "code",
   "execution_count": 7,
   "metadata": {},
   "outputs": [
    {
     "name": "stdout",
     "output_type": "stream",
     "text": [
      "/dev/kvm: character special (10/232)\n"
     ]
    }
   ],
   "source": [
    "file /dev/kvm"
   ]
  },
  {
   "cell_type": "code",
   "execution_count": 9,
   "metadata": {},
   "outputs": [
    {
     "name": "stdout",
     "output_type": "stream",
     "text": [
      "\u001b[01;31m\u001b[Kkvm\u001b[m\u001b[K_intel             172032  0\n",
      "\u001b[01;31m\u001b[Kkvm\u001b[m\u001b[K                   544768  1 kvm_intel\n"
     ]
    }
   ],
   "source": [
    "lsmod | grep kvm"
   ]
  },
  {
   "cell_type": "markdown",
   "metadata": {},
   "source": [
    "## QEMU\n",
    "\n",
    "QEMU is a generic and open source machine emulator and virtualizer.  \n",
    "\n",
    "When used as a machine emulator, QEMU can run OSes and programs made for one machine (e.g. an ARM board) on a different machine (e.g. your own PC). By using dynamic translation, it achieves very good performance.  \n",
    "\n",
    "When used as a virtualizer, QEMU achieves near native performance by executing the guest code directly on the host CPU. QEMU supports virtualization when executing under the Xen hypervisor or using the KVM kernel module in Linux. When using KVM, QEMU can virtualize x86, server and embedded PowerPC, 64-bit POWER, S390, 32-bit and 64-bit ARM, and MIPS guests. \n",
    "\n",
    "\n",
    "KVM (Kernel Virtual Machine) is a Linux kernel module that allows a user space program to utilize the hardware virtualization features of various processors. Today, it supports recent Intel and AMD processors (x86 and x86_64), PPC 440, PPC 970, S/390, ARM (Cortex A15, AArch64), and MIPS32 processors.\n",
    "\n",
    "QEMU can make use of KVM when running a target architecture that is the same as the host architecture. For instance, when running qemu-system-x86 on an x86 compatible processor, you can take advantage of the KVM acceleration - giving you benefit for your host and your guest system.\n",
    "\n",
    "The KVM project used to maintain a fork of QEMU called qemu-kvm. All feature differences have been merged into QEMU upstream and the development of the fork suspended.\n",
    "\n",
    "To use KVM pass --enable-kvm to QEMU. "
   ]
  },
  {
   "cell_type": "raw",
   "metadata": {},
   "source": [
    "https://wiki.archlinux.org/index.php/Libvirt\n",
    "http://wiki.libvirt.org/page/FAQ#What_is_libvirt.3F\n",
    "http://www.linux-kvm.org/page/FAQ#General_KVM_information"
   ]
  },
  {
   "cell_type": "markdown",
   "metadata": {},
   "source": [
    "- - -\n",
    "## Lecture notes\n",
    "\n",
    "- All lecture notes are available at github in `ipynb` format: [https://github.com/ravexina/linux-notes](https://github.com/ravexina/linux-notes). \n",
    "\n",
    "\n",
    "- There are `html` exports of project available at: [https://ravexina.github.io/linux-notes](https://ravexina.github.io/linux-notes).\n",
    "\n",
    "## License\n",
    "<a rel=\"license\" href=\"http://creativecommons.org/licenses/by-nc-sa/4.0/\">\n",
    "<img alt=\"Creative Commons License\" style=\"border-width:0\" src=\"https://i.creativecommons.org/l/by-nc-sa/4.0/88x31.png\" />\n",
    "</a>\n",
    "\n",
    "<span property=\"dct:title\">Linux Notes</span> by \n",
    "<a href=\"http://github.com/ravexina/Linux-Notes\" property=\"cc:attributionName\" rel=\"cc:attributionURL\">Milad As (Ravexina)</a> is licensed under a <a rel=\"license\" href=\"http://creativecommons.org/licenses/by-nc-sa/4.0/\">Creative Commons Attribution-NonCommercial-ShareAlike 4.0 International License</a>.\n",
    "\n",
    "- - -\n",
    "\n",
    "<a rel=\"license\" href=\"https://gitlab.com/ravexina/\"><img alt=\"ravexina's gitlab\" style=\"display:inline;border-width:0;height:30px;float:left;\" src=\"img/logo/logo-square.png\" /></a> \n",
    "\n",
    "<a rel=\"license\" href=\"https://github.com/ravexina/\"><img alt=\"ravexina's github\" style=\"float:right;display:inline;border-width:0;height:30px;\" src=\"img/logo/GitHub_Logo.png\" /></a>"
   ]
  }
 ],
 "metadata": {
  "kernelspec": {
   "display_name": "Bash",
   "language": "bash",
   "name": "bash"
  },
  "language_info": {
   "codemirror_mode": "shell",
   "file_extension": ".sh",
   "mimetype": "text/x-sh",
   "name": "bash"
  }
 },
 "nbformat": 4,
 "nbformat_minor": 2
}
