{
 "cells": [
  {
   "cell_type": "markdown",
   "metadata": {
    "deletable": true,
    "editable": true
   },
   "source": [
    "### Websites\n",
    "http://cve.mitre.org  [news section] [search/cve/keyword]  \n",
    "https://www.debian.org/security/  \n",
    "https://www.ubuntu.com/usn/  \n",
    "http://people.canonical.com/~ubuntu-security/cve/  \n",
    "http://www.slackware.com/security/"
   ]
  },
  {
   "cell_type": "markdown",
   "metadata": {
    "deletable": true,
    "editable": true
   },
   "source": [
    "### Mailing lists\n",
    "\n",
    "https://lists.ubuntu.com/mailman/listinfo/ubuntu-security-announce  "
   ]
  },
  {
   "cell_type": "markdown",
   "metadata": {
    "deletable": true,
    "editable": true
   },
   "source": [
    "### Update & Verify\n",
    "\n",
    "#### Redhat"
   ]
  },
  {
   "cell_type": "code",
   "execution_count": null,
   "metadata": {
    "collapsed": true,
    "deletable": true,
    "editable": true
   },
   "outputs": [],
   "source": [
    "yum updateinfo list # get a list of vulnerabilities"
   ]
  },
  {
   "cell_type": "code",
   "execution_count": null,
   "metadata": {
    "collapsed": true,
    "deletable": true,
    "editable": true
   },
   "outputs": [],
   "source": [
    "yum updateinfo RHSA-2017:0149 # get more detail about a specific vulnerability"
   ]
  },
  {
   "cell_type": "markdown",
   "metadata": {
    "deletable": true,
    "editable": true
   },
   "source": [
    "##### Check integrity - verifing packages"
   ]
  },
  {
   "cell_type": "code",
   "execution_count": null,
   "metadata": {
    "collapsed": true,
    "deletable": true,
    "editable": true
   },
   "outputs": [],
   "source": [
    "rpm -Va # verify all installed packages"
   ]
  },
  {
   "cell_type": "markdown",
   "metadata": {
    "deletable": true,
    "editable": true
   },
   "source": [
    "#### ubuntu"
   ]
  },
  {
   "cell_type": "code",
   "execution_count": null,
   "metadata": {
    "collapsed": true
   },
   "outputs": [],
   "source": [
    "apt update"
   ]
  },
  {
   "cell_type": "code",
   "execution_count": null,
   "metadata": {
    "collapsed": true,
    "deletable": true,
    "editable": true
   },
   "outputs": [],
   "source": [
    "apt full-upgrade"
   ]
  },
  {
   "cell_type": "code",
   "execution_count": null,
   "metadata": {
    "collapsed": true,
    "deletable": true,
    "editable": true
   },
   "outputs": [],
   "source": [
    "apt-get dist-upgrade"
   ]
  },
  {
   "cell_type": "code",
   "execution_count": 1,
   "metadata": {
    "collapsed": false,
    "deletable": true,
    "editable": true
   },
   "outputs": [
    {
     "name": "stdout",
     "output_type": "stream",
     "text": [
      "linux-generic/xenial-updates,xenial-\u001b[01;31m\u001b[Ksecurity\u001b[m\u001b[K 4.4.0.71.77 amd64 [upgradable from: 4.4.0.70.76]\n",
      "linux-headers-generic/xenial-updates,xenial-\u001b[01;31m\u001b[Ksecurity\u001b[m\u001b[K 4.4.0.71.77 amd64 [upgradable from: 4.4.0.70.76]\n",
      "linux-image-generic/xenial-updates,xenial-\u001b[01;31m\u001b[Ksecurity\u001b[m\u001b[K 4.4.0.71.77 amd64 [upgradable from: 4.4.0.70.76]\n",
      "linux-libc-dev/xenial-updates,xenial-\u001b[01;31m\u001b[Ksecurity\u001b[m\u001b[K 4.4.0-71.92 amd64 [upgradable from: 4.4.0-70.91]\n",
      "linux-tools-common/xenial-updates,xenial-updates,xenial-\u001b[01;31m\u001b[Ksecurity\u001b[m\u001b[K,xenial-\u001b[01;31m\u001b[Ksecurity\u001b[m\u001b[K 4.4.0-71.92 all [upgradable from: 4.4.0-70.91]\n",
      "linux-tools-virtual/xenial-updates,xenial-\u001b[01;31m\u001b[Ksecurity\u001b[m\u001b[K 4.4.0.71.77 amd64 [upgradable from: 4.4.0.70.76]\n"
     ]
    }
   ],
   "source": [
    "apt list --upgradable |& grep security # show only a list of security updates"
   ]
  },
  {
   "cell_type": "code",
   "execution_count": null,
   "metadata": {
    "collapsed": true,
    "deletable": true,
    "editable": true
   },
   "outputs": [],
   "source": [
    "landscape -> https://landscape.canonical.com/"
   ]
  },
  {
   "cell_type": "markdown",
   "metadata": {
    "deletable": true,
    "editable": true
   },
   "source": [
    "##### Check integrity - verifing packages"
   ]
  },
  {
   "cell_type": "code",
   "execution_count": 5,
   "metadata": {
    "collapsed": false,
    "deletable": true,
    "editable": true
   },
   "outputs": [
    {
     "name": "stdout",
     "output_type": "stream",
     "text": [
      "Sorting... Done\n",
      "Full Text Search... Done\n",
      "\u001b[32mdebsums\u001b[0m/xenial,xenial 2.1.2 all\n",
      "  tool for verification of installed package files against MD5 checksums\n",
      "  debsums can verify the integrity of installed package files against\n",
      "  MD5 checksums installed by the package, or generated from a .deb\n",
      "  archive.\n",
      "\n"
     ]
    }
   ],
   "source": [
    "apt search --full --names-only debsums"
   ]
  },
  {
   "cell_type": "code",
   "execution_count": 15,
   "metadata": {
    "collapsed": false,
    "deletable": true,
    "editable": true
   },
   "outputs": [
    {
     "name": "stdout",
     "output_type": "stream",
     "text": [
      "debsums: missing file /etc/default/chromium-browser (from chromium-browser package)\n",
      "debsums: missing file /etc/init.d/keyboard-setup (from keyboard-configuration package)\n"
     ]
    }
   ],
   "source": [
    "debsums -es |&  grep --color=no \"missing\" # e= config,  s= silent"
   ]
  },
  {
   "cell_type": "code",
   "execution_count": null,
   "metadata": {
    "collapsed": true,
    "deletable": true,
    "editable": true
   },
   "outputs": [],
   "source": [
    "debsums -a &> debsums.log"
   ]
  }
 ],
 "metadata": {
  "kernelspec": {
   "display_name": "Bash",
   "language": "bash",
   "name": "bash"
  },
  "language_info": {
   "codemirror_mode": "shell",
   "file_extension": ".sh",
   "mimetype": "text/x-sh",
   "name": "bash"
  }
 },
 "nbformat": 4,
 "nbformat_minor": 2
}
