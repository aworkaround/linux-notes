{
 "cells": [
  {
   "cell_type": "markdown",
   "metadata": {},
   "source": [
    "## Systemd\n",
    "\n",
    "- Purpose of an init system is:\n",
    "    - Initialize the components that must be started after the Linux kernel is booted.\n",
    "    - Manage services and daemons at any point while the system is running.\n",
    "\n",
    "\n",
    "- systemd features\n",
    "    - Backwards compatible with SysV\n",
    "    - Parallel startup of system services at boot time,\n",
    "    - On-demand activation of daemons\n",
    "    - Dependency-based service control logic\n",
    "\n",
    "\n",
    "- Units\n",
    "    - Units are resources that systemd knows how to manage. \n",
    "    - They are categorized by the type of resource they represent.\n",
    "\n",
    "\n",
    "        - ex daemons are known as service units. *.service"
   ]
  },
  {
   "cell_type": "markdown",
   "metadata": {},
   "source": [
    "### Available Units"
   ]
  },
  {
   "cell_type": "code",
   "execution_count": 12,
   "metadata": {},
   "outputs": [
    {
     "name": "stdout",
     "output_type": "stream",
     "text": [
      "Available unit types:\n",
      "service\n",
      "socket\n",
      "busname\n",
      "target\n",
      "device\n",
      "mount\n",
      "automount\n",
      "swap\n",
      "timer\n",
      "path\n",
      "slice\n",
      "scope\n"
     ]
    }
   ],
   "source": [
    "# Available units\n",
    "systemctl -t help # --type help"
   ]
  },
  {
   "cell_type": "markdown",
   "metadata": {},
   "source": [
    "#### Different type of units:"
   ]
  },
  {
   "cell_type": "raw",
   "metadata": {},
   "source": [
    "Target unit \t.target \tA group of systemd units.\n",
    "Service unit \t.service \tA system service.\n",
    "Automount unit \t.automount \tA file system automount point.\n",
    "Device unit \t.device \tA device file recognized by the kernel\n",
    "Mount unit \t    .mount \t\tA file system mount point.\n",
    "Path unit \t    .path \t\tA file or directory in a file system.\n",
    "Scope unit \t    .scope \t\tAn externally created process.\n",
    "Slice unit   \t.slice \t\tA group of hierarchically organized units that manage system processes.\n",
    "Snapshot unit \t.snapshot \tA saved state of the systemd manager.\n",
    "Socket unit \t.socket \tAn inter-process communication socket.\n",
    "Swap unit \t    .swap \t\tA swap device or a swap file.\n",
    "Timer unit \t    .timer \t\tA systemd timer. "
   ]
  },
  {
   "cell_type": "markdown",
   "metadata": {},
   "source": [
    "### Targets\n",
    "\n",
    "Used to group other units together and to bring the system to certain states. (Runlevel)"
   ]
  },
  {
   "cell_type": "markdown",
   "metadata": {},
   "source": [
    "Default target:"
   ]
  },
  {
   "cell_type": "code",
   "execution_count": 13,
   "metadata": {},
   "outputs": [
    {
     "name": "stdout",
     "output_type": "stream",
     "text": [
      "graphical.target\n"
     ]
    }
   ],
   "source": [
    "systemctl get-default"
   ]
  },
  {
   "cell_type": "code",
   "execution_count": null,
   "metadata": {
    "collapsed": true
   },
   "outputs": [],
   "source": [
    "set-default graphical.target"
   ]
  },
  {
   "cell_type": "markdown",
   "metadata": {},
   "source": [
    "Default target paths:"
   ]
  },
  {
   "cell_type": "code",
   "execution_count": 5,
   "metadata": {},
   "outputs": [
    {
     "name": "stdout",
     "output_type": "stream",
     "text": [
      "lrwxrwxrwx 1 root root 36 Dec  9 03:30 \u001b[0m\u001b[01;36m/etc/systemd/system/default.target\u001b[0m -> /lib/systemd/system/graphical.target\n",
      "lrwxrwxrwx 1 root root 16 Nov 25 16:27 \u001b[0m\u001b[01;36m/lib/systemd/system/default.target\u001b[0m -> graphical.target\n"
     ]
    }
   ],
   "source": [
    "ll /etc/systemd/system/default.target\n",
    "ll /lib/systemd/system/default.target"
   ]
  },
  {
   "cell_type": "markdown",
   "metadata": {},
   "source": [
    "Going into a target:"
   ]
  },
  {
   "cell_type": "code",
   "execution_count": null,
   "metadata": {
    "collapsed": true
   },
   "outputs": [],
   "source": [
    "# AllowIsolate=yes (isolation must be yes)\n",
    "systemctl isolate graphical.target # same as: telinit runlevel"
   ]
  },
  {
   "cell_type": "raw",
   "metadata": {},
   "source": [
    "[ multiuser, graphical, recue, emergency, reboot, poweroff ] "
   ]
  },
  {
   "cell_type": "markdown",
   "metadata": {},
   "source": [
    "+ rescue = 1 user\n",
    "> \"rescue\" is equivalent to the old runlevel 1\n",
    "> everything is mounted, but no normal services are started\n",
    "\n",
    "+ emergency = nothing but systemd\n",
    "> No services are started, no mount points mounted\n",
    "> no sockets established, good for debugging step by step"
   ]
  },
  {
   "cell_type": "code",
   "execution_count": null,
   "metadata": {
    "collapsed": true
   },
   "outputs": [],
   "source": [
    "systemctl rescue # like isolate rescue but sends a wall message\n",
    "systemctl --no-wall rescue"
   ]
  },
  {
   "cell_type": "raw",
   "metadata": {},
   "source": [
    "0 runlevel0.target, poweroff.target \tShut down and power off the system.\n",
    "1 runlevel1.target, rescue.target \t    Set up a rescue shell.\n",
    "2 runlevel2.target, multi-user.target \tSet up a non-graphical multi-user system.\n",
    "3 runlevel3.target, multi-user.target \tSet up a non-graphical multi-user system.\n",
    "4 runlevel4.target, multi-user.target \tSet up a non-graphical multi-user system.\n",
    "5 runlevel5.target, graphical.target \tSet up a graphical multi-user system.\n",
    "6 runlevel6.target, reboot.target \t    Shut down and reboot the system."
   ]
  },
  {
   "cell_type": "markdown",
   "metadata": {},
   "source": [
    "#### Go into recovery (rescue) mode by editing grub:"
   ]
  },
  {
   "cell_type": "code",
   "execution_count": null,
   "metadata": {
    "collapsed": true
   },
   "outputs": [],
   "source": [
    "systemd.unit=rescue.target # same as old school: 1 at the end of kernel line"
   ]
  },
  {
   "cell_type": "markdown",
   "metadata": {},
   "source": [
    "#### Managing services"
   ]
  },
  {
   "cell_type": "code",
   "execution_count": null,
   "metadata": {
    "collapsed": true
   },
   "outputs": [],
   "source": [
    "systemctl start name.service\n",
    "systemctl stop name.service\n",
    "\n",
    "# Stop, then start again.\n",
    "systemctl restart name.service\n",
    "\n",
    "# Restarts a service only if it is running.\n",
    "systemctl try-restart name.service"
   ]
  },
  {
   "cell_type": "markdown",
   "metadata": {},
   "source": [
    "##### Reload\n",
    "If the application in question is able to reload its configuration files (without restarting), you can issue the reload command to initiate that process."
   ]
  },
  {
   "cell_type": "code",
   "execution_count": null,
   "metadata": {
    "collapsed": true
   },
   "outputs": [],
   "source": [
    "# Reloads configuration.\n",
    "systemctl reload name.service\n",
    "\n",
    "# try to reload if can't restarts\n",
    "systemctl reload-or-restart name.service\n",
    "systemctl try-reload-or-restart name.service"
   ]
  },
  {
   "cell_type": "markdown",
   "metadata": {},
   "source": [
    "#### Check service status"
   ]
  },
  {
   "cell_type": "code",
   "execution_count": null,
   "metadata": {
    "collapsed": true
   },
   "outputs": [],
   "source": [
    "systemctl status name.service\n",
    "\n",
    "systemctl is-active name.service # running\n",
    "systemctl is-enabled name.service # will be activated when booting\n",
    "systemctl is-failed name.service # tried to active but failed"
   ]
  },
  {
   "cell_type": "markdown",
   "metadata": {},
   "source": [
    "#### Change service status"
   ]
  },
  {
   "cell_type": "code",
   "execution_count": null,
   "metadata": {
    "collapsed": true
   },
   "outputs": [],
   "source": [
    "systemctl enable name.service\n",
    "systemctl disable name.service\n",
    "\n",
    "# combination of disable and enable and is useful to reset the symlinks\n",
    "systemctl reenable name.service "
   ]
  },
  {
   "cell_type": "markdown",
   "metadata": {},
   "source": [
    "#### Mask and unmasking\n",
    "you can mask any service unit to prevent it from being started manually or by another service:"
   ]
  },
  {
   "cell_type": "code",
   "execution_count": null,
   "metadata": {
    "collapsed": true
   },
   "outputs": [],
   "source": [
    "# links /etc/systemd/system/name.service -> /dev/null\n",
    "systemctl mask name.service\n",
    "systemctl unmask name.service"
   ]
  },
  {
   "cell_type": "markdown",
   "metadata": {},
   "source": [
    "#### List units "
   ]
  },
  {
   "cell_type": "code",
   "execution_count": null,
   "metadata": {
    "collapsed": true
   },
   "outputs": [],
   "source": [
    "# list (all kind of units) [loaded and active]\n",
    "systemctl list-units\n",
    "\n",
    "# --all = active or not (inactive, dead, not-found, etc)\n",
    "\n",
    "# list (all kind of units) [loaded] active or not\n",
    "systemctl list-units --all\n",
    "\n",
    "# list (service units) [loaded and currently active] \n",
    "systemctl list-units --type=service\n",
    "\n",
    "# list (target units) [loaded] active or not \n",
    "systemctl list-units --type=target --all\n",
    "\n",
    "# list (service units) [loaded but currently inactive]\n",
    "# if we don't use --all it's only shows active ones\n",
    "systemctl list-units --all --type=service --state=inactive\n",
    "\n",
    "# list (target units) [ltried to load but not found] \n",
    "systemctl list-units --all --type=target --state=not-found"
   ]
  },
  {
   "cell_type": "markdown",
   "metadata": {},
   "source": [
    "list-units only displays units that systemd has **attempted to load** (wanted by).  \n",
    "To see every available unit file including those that systemd has not attempted to load:"
   ]
  },
  {
   "cell_type": "code",
   "execution_count": null,
   "metadata": {
    "collapsed": true
   },
   "outputs": [],
   "source": [
    "# list all [available] service units to see if they are enabled or not\n",
    "systemctl list-unit-files --type service # can be used for other units like: targets etc."
   ]
  },
  {
   "cell_type": "code",
   "execution_count": null,
   "metadata": {
    "collapsed": true
   },
   "outputs": [],
   "source": [
    "systemd-networkd-resolvconf-update.path    static \n",
    "accounts-daemon.service                    enabled\n",
    "alsa-utils.service                         masked # /dev/null\n",
    "console-getty.service                      disabled"
   ]
  },
  {
   "cell_type": "code",
   "execution_count": 17,
   "metadata": {},
   "outputs": [
    {
     "name": "stdout",
     "output_type": "stream",
     "text": [
      "UNIT FILE                    STATE \n",
      "alsa-utils.service           masked\n",
      "bootlogd.service             masked\n"
     ]
    }
   ],
   "source": [
    "systemctl list-unit-files --state masked | head -3"
   ]
  },
  {
   "cell_type": "markdown",
   "metadata": {},
   "source": [
    "***static***: unit file does not contain an \"install\" section. these units cannot be enabled and these are used only as a dependency of another units."
   ]
  },
  {
   "cell_type": "code",
   "execution_count": 3,
   "metadata": {},
   "outputs": [
    {
     "name": "stdout",
     "output_type": "stream",
     "text": [
      "\u001b[22;24;25;27;28;37;49m\u001b[K\u001b[22;24;25;27;28;32;49m[Unit]\n",
      "\u001b[22;24;25;27;28;37;49m\u001b[K\u001b[22;24;25;27;28;33;49mDescription=\u001b[22;24;25;27;28;37;49mTrigger resolvconf update for networkd DNS\n",
      "\u001b[22;24;25;27;28;37;49m\u001b[K\u001b[22;24;25;27;28;33;49mConditionPathIsSymbolicLink=\u001b[22;24;25;27;28;37;49m/etc/resolv.conf\n",
      "\u001b[22;24;25;27;28;37;49m\u001b[K\u001b[22;24;25;27;28;37;49m\n",
      "\u001b[22;24;25;27;28;37;49m\u001b[K\u001b[22;24;25;27;28;32;49m[Path]\n",
      "\u001b[22;24;25;27;28;37;49m\u001b[K\u001b[22;24;25;27;28;33;49mPathChanged=\u001b[22;24;25;27;28;37;49m/run/systemd/netif/state\u001b[0m\n"
     ]
    }
   ],
   "source": [
    "vimcat /lib/systemd/system/systemd-networkd-resolvconf-update.path\n",
    "# vimcat /lib/systemd/system/colord.service"
   ]
  },
  {
   "cell_type": "code",
   "execution_count": 5,
   "metadata": {
    "scrolled": true
   },
   "outputs": [
    {
     "name": "stdout",
     "output_type": "stream",
     "text": [
      "\u001b[22;24;25;27;28;37;49m\u001b[K\u001b[22;24;25;27;28;32;49m[Unit]\n",
      "\u001b[22;24;25;27;28;37;49m\u001b[K\u001b[22;24;25;27;28;33;49mDescription=\u001b[22;24;25;27;28;37;49mAccounts Service\n",
      "\u001b[22;24;25;27;28;37;49m\u001b[K\u001b[22;24;25;27;28;37;49m\n",
      "\u001b[22;24;25;27;28;37;49m\u001b[K\u001b[22;24;25;27;28;37;49m# In order to avoid races with identity-providing services like SSSD or\n",
      "\u001b[22;24;25;27;28;37;49m\u001b[K\u001b[22;24;25;27;28;37;49m# winbind, we need to ensure that Accounts Service starts after\n",
      "\u001b[22;24;25;27;28;37;49m\u001b[K\u001b[22;24;25;27;28;37;49m# nss-user-lookup.target\n",
      "\u001b[22;24;25;27;28;37;49m\u001b[K\u001b[22;24;25;27;28;33;49mAfter=\u001b[22;24;25;27;28;37;49mnss-user-lookup.target\n",
      "\u001b[22;24;25;27;28;37;49m\u001b[K\u001b[22;24;25;27;28;33;49mWants=\u001b[22;24;25;27;28;37;49mnss-user-lookup.target\n",
      "\u001b[22;24;25;27;28;37;49m\u001b[K\u001b[22;24;25;27;28;37;49m\n",
      "\u001b[22;24;25;27;28;37;49m\u001b[K\u001b[22;24;25;27;28;32;49m[Service]\n",
      "\u001b[22;24;25;27;28;37;49m\u001b[K\u001b[22;24;25;27;28;33;49mType=\u001b[22;24;25;27;28;37;49mdbus\n",
      "\u001b[22;24;25;27;28;37;49m\u001b[K\u001b[22;24;25;27;28;33;49mBusName=\u001b[22;24;25;27;28;37;49morg.freedesktop.Accounts\n",
      "\u001b[22;24;25;27;28;37;49m\u001b[K\u001b[22;24;25;27;28;33;49mExecStart=\u001b[22;24;25;27;28;37;49m/usr/lib/accountsservice/accounts-daemon\n",
      "\u001b[22;24;25;27;28;37;49m\u001b[K\u001b[22;24;25;27;28;37;49m\n",
      "\u001b[22;24;25;27;28;37;49m\u001b[K\u001b[22;24;25;27;28;32;49m[Install]\n",
      "\u001b[22;24;25;27;28;37;49m\u001b[K\u001b[22;24;25;27;28;37;49m# We pull this in by graphical.target instead of waiting for the bus\n",
      "\u001b[22;24;25;27;28;37;49m\u001b[K\u001b[22;24;25;27;28;37;49m# activation, to speed things up a little: gdm uses this anyway so it is nice\n",
      "\u001b[22;24;25;27;28;37;49m\u001b[K\u001b[22;24;25;27;28;37;49m# if it is already around when gdm wants to use it and doesn't have to wait for\n",
      "\u001b[22;24;25;27;28;37;49m\u001b[K\u001b[22;24;25;27;28;37;49m# it.\n",
      "\u001b[22;24;25;27;28;37;49m\u001b[K\u001b[22;24;25;27;28;33;49mWantedBy=\u001b[22;24;25;27;28;37;49mgraphical.target\u001b[0m\n"
     ]
    }
   ],
   "source": [
    "vimcat /lib/systemd/system/accounts-daemon.service # systemctl cat accounts-daemon.service"
   ]
  },
  {
   "cell_type": "markdown",
   "metadata": {},
   "source": [
    "#### List dependecies"
   ]
  },
  {
   "cell_type": "code",
   "execution_count": null,
   "metadata": {
    "collapsed": true
   },
   "outputs": [],
   "source": [
    "systemctl list-dependencies multiuser.target\n",
    "systemctl list-dependencies --after *.service/target\n",
    "systemctl list-dependencies --before *.service/target"
   ]
  },
  {
   "cell_type": "markdown",
   "metadata": {},
   "source": [
    "#### Other functionalities"
   ]
  },
  {
   "cell_type": "code",
   "execution_count": null,
   "metadata": {
    "collapsed": true
   },
   "outputs": [],
   "source": [
    "# Alias\n",
    "systemctl show multi-user.target -p Names\n",
    " ⁠\n",
    "# Controlling systemd on a Remote Machine\n",
    "systemctl --host user_name@host_name command"
   ]
  },
  {
   "cell_type": "markdown",
   "metadata": {},
   "source": [
    "- - -\n",
    "## Lecture notes\n",
    "\n",
    "- All lecture notes are available at github in `ipynb` format: [https://github.com/ravexina/linux-notes](https://github.com/ravexina/linux-notes). \n",
    "\n",
    "\n",
    "- There are `html` exports of project available at: [https://ravexina.github.io/linux-notes](https://ravexina.github.io/linux-notes).\n",
    "\n",
    "## License\n",
    "<a rel=\"license\" href=\"http://creativecommons.org/licenses/by-nc-sa/4.0/\">\n",
    "<img alt=\"Creative Commons License\" style=\"border-width:0\" src=\"https://i.creativecommons.org/l/by-nc-sa/4.0/88x31.png\" />\n",
    "</a>\n",
    "\n",
    "<span property=\"dct:title\">Linux Notes</span> by \n",
    "<a href=\"http://github.com/ravexina/Linux-Notes\" property=\"cc:attributionName\" rel=\"cc:attributionURL\">Milad As (Ravexina)</a> is licensed under a <a rel=\"license\" href=\"http://creativecommons.org/licenses/by-nc-sa/4.0/\">Creative Commons Attribution-NonCommercial-ShareAlike 4.0 International License</a>.\n",
    "\n",
    "- - -\n",
    "\n",
    "<a rel=\"license\" href=\"https://gitlab.com/ravexina/\"><img alt=\"ravexina's gitlab\" style=\"display:inline;border-width:0;height:30px;float:left;\" src=\"img/logo/logo-square.png\" /></a> \n",
    "\n",
    "<a rel=\"license\" href=\"https://github.com/ravexina/\"><img alt=\"ravexina's github\" style=\"float:right;display:inline;border-width:0;height:30px;\" src=\"img/logo/GitHub_Logo.png\" /></a>"
   ]
  }
 ],
 "metadata": {
  "kernelspec": {
   "display_name": "Bash",
   "language": "bash",
   "name": "bash"
  },
  "language_info": {
   "codemirror_mode": "shell",
   "file_extension": ".sh",
   "mimetype": "text/x-sh",
   "name": "bash"
  }
 },
 "nbformat": 4,
 "nbformat_minor": 2
}
