{
 "cells": [
  {
   "cell_type": "markdown",
   "metadata": {},
   "source": [
    "# initrd and initramfs\n"
   ]
  },
  {
   "cell_type": "code",
   "execution_count": 2,
   "metadata": {},
   "outputs": [
    {
     "name": "stdout",
     "output_type": "stream",
     "text": [
      "abi-4.4.0-77-generic         initrd.img-4.4.0-78-generic\n",
      "abi-4.4.0-78-generic         \u001b[0m\u001b[01;34mlost+found\u001b[0m\n",
      "config-4.4.0-77-generic      System.map-4.4.0-77-generic\n",
      "config-4.4.0-78-generic      System.map-4.4.0-78-generic\n",
      "\u001b[01;34mgrub\u001b[0m                         vmlinuz-4.4.0-77-generic\n",
      "initrd.img-4.4.0-77-generic  vmlinuz-4.4.0-78-generic\n"
     ]
    }
   ],
   "source": [
    "ls /boot"
   ]
  },
  {
   "cell_type": "markdown",
   "metadata": {},
   "source": [
    "## initrd and initramfs\n",
    "\n",
    "- Generic Linux kernel image: to boot on a wide variety of hardware\n",
    "- Device drivers: loadable kernel modules <span style=\"color:darkblue\">[N12]</span>\n",
    "    - statically compiling many drivers into one kernel causes the kernel image to be much larger, perhaps too large to boot on computers with limited memory.\n",
    "\n",
    "\n",
    "<i style=\"color:red\">raises the problem of detecting and loading the modules necessary to mount the root file system at boot time</i>\n",
    "\n",
    "- The root file system may be on a software RAID volume, LVM, NFS\n",
    "- Encrypted partition\n",
    "- Hibernation: swap partition, making image available\n",
    "\n",
    "<span style=\"color:blue\">To avoid having to hardcode handling for so many special cases into the kernel, an initial boot stage with a temporary root file-system is used.</span>  \n",
    "\n",
    "- contains user-space helpers which do:\n",
    "    - The hardware detection\n",
    "    - Module loading\n",
    "    - Device discovery necessary\n",
    "\n",
    "To get the real root file-system mounted."
   ]
  },
  {
   "cell_type": "markdown",
   "metadata": {},
   "source": [
    "- initrd\n",
    "    - A ramdev block device is created (uses memory instead of physical disks to simulated hard disk that)\n",
    "    - The initrd file is read and unzipped into the device\n",
    "    - Mount the filesystem as usual: . Naturally, filesystems need a driver, so if you use ext2, the ext2 driver has to be compiled in-kernel.\n"
   ]
  },
  {
   "cell_type": "code",
   "execution_count": null,
   "metadata": {
    "collapsed": true
   },
   "outputs": [],
   "source": [
    "zcat initrd | dd of=/dev/ram0"
   ]
  },
  {
   "cell_type": "code",
   "execution_count": null,
   "metadata": {
    "collapsed": true
   },
   "outputs": [],
   "source": [
    "mount /dev/ram0 /root"
   ]
  },
  {
   "cell_type": "markdown",
   "metadata": {},
   "source": [
    "- initramfs\n",
    "    - *The archive is unpacked by the kernel into a special instance of a tmpfs that becomes the initial root file system*\n",
    "        - A tmpfs is mounted\n",
    "            - Doesn't need a driver, it is always on-kernel, No device needed, No additional drivers.\n",
    "            - Advantage of not requiring an intermediate file system or block drivers to be compiled into the kernel\n",
    "        - The initramfs is uncompressed directly into this new filesystem  \n",
    "    \n",
    "\n"
   ]
  },
  {
   "cell_type": "code",
   "execution_count": null,
   "metadata": {
    "collapsed": true
   },
   "outputs": [],
   "source": [
    "mount -t tmpfs nodev /root"
   ]
  },
  {
   "cell_type": "code",
   "execution_count": null,
   "metadata": {
    "collapsed": true
   },
   "outputs": [],
   "source": [
    "zcat initramfs | cpio -i"
   ]
  },
  {
   "cell_type": "markdown",
   "metadata": {
    "collapsed": true
   },
   "source": [
    "#### Resources\n",
    "https://en.wikipedia.org/wiki/initrd  \n",
    "https://stackoverflow.com/questions/10603104/the-difference-between-initrd-and-initramfs  "
   ]
  },
  {
   "cell_type": "markdown",
   "metadata": {},
   "source": [
    "- - -\n",
    "## Lecture notes\n",
    "\n",
    "- All lecture notes are available at github in `ipynb` format: [https://github.com/ravexina/linux-notes](https://github.com/ravexina/linux-notes). \n",
    "\n",
    "\n",
    "- There are `html` exports of project available at: [https://ravexina.github.io/linux-notes](https://ravexina.github.io/linux-notes).\n",
    "- - -\n",
    "\n",
    "## License\n",
    "<a rel=\"license\" href=\"http://creativecommons.org/licenses/by-nc-sa/4.0/\">\n",
    "<img alt=\"Creative Commons License\" style=\"border-width:0\" src=\"https://i.creativecommons.org/l/by-nc-sa/4.0/88x31.png\" />\n",
    "</a>\n",
    "\n",
    "<span property=\"dct:title\">Linux Notes</span> by \n",
    "<a href=\"http://github.com/ravexina/Linux-Notes\" property=\"cc:attributionName\" rel=\"cc:attributionURL\">Milad As (Ravexina)</a> is licensed under a <a rel=\"license\" href=\"http://creativecommons.org/licenses/by-nc-sa/4.0/\">Creative Commons Attribution-NonCommercial-ShareAlike 4.0 International License</a>.\n",
    "\n",
    "- - -\n",
    "\n",
    "<a rel=\"license\" href=\"https://gitlab.com/ravexina/\"><img alt=\"ravexina's gitlab\" style=\"display:inline;border-width:0;height:30px;float:left;\" src=\"img/logo/logo-square.png\" /></a> \n",
    "\n",
    "<a rel=\"license\" href=\"https://github.com/ravexina/\"><img alt=\"ravexina's github\" style=\"float:right;display:inline;border-width:0;height:30px;\" src=\"img/logo/GitHub_Logo.png\" /></a>"
   ]
  }
 ],
 "metadata": {
  "kernelspec": {
   "display_name": "Bash",
   "language": "bash",
   "name": "bash"
  },
  "language_info": {
   "codemirror_mode": "shell",
   "file_extension": ".sh",
   "mimetype": "text/x-sh",
   "name": "bash"
  }
 },
 "nbformat": 4,
 "nbformat_minor": 2
}
