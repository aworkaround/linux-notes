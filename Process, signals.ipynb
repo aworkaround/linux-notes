{
 "cells": [
  {
   "cell_type": "code",
   "execution_count": 43,
   "metadata": {},
   "outputs": [
    {
     "name": "stdout",
     "output_type": "stream",
     "text": [
      "/dev/pts/1\n"
     ]
    }
   ],
   "source": [
    "tty"
   ]
  },
  {
   "cell_type": "markdown",
   "metadata": {},
   "source": [
    "## PS\n",
    "Process in this terminal"
   ]
  },
  {
   "cell_type": "code",
   "execution_count": 2,
   "metadata": {},
   "outputs": [
    {
     "name": "stdout",
     "output_type": "stream",
     "text": [
      "  PID TTY          TIME CMD\n",
      "14009 pts/1    00:00:00 bash\n",
      "14310 pts/1    00:00:00 ps\n"
     ]
    }
   ],
   "source": [
    "ps"
   ]
  },
  {
   "cell_type": "code",
   "execution_count": 4,
   "metadata": {},
   "outputs": [
    {
     "name": "stdout",
     "output_type": "stream",
     "text": [
      "UID        PID  PPID  C STIME TTY      STAT   TIME CMD\n",
      "milad     4180  4175  0 14:23 tty1     Sl     2:06 qbittorrent\n"
     ]
    }
   ],
   "source": [
    "ps -f 4180"
   ]
  },
  {
   "cell_type": "code",
   "execution_count": 13,
   "metadata": {},
   "outputs": [
    {
     "name": "stdout",
     "output_type": "stream",
     "text": [
      "  PID TTY          TIME CMD\n",
      "    1 ?        00:00:02 systemd\n",
      "    2 ?        00:00:00 kthreadd\n",
      "    3 ?        00:00:00 ksoftirqd/0\n",
      "    5 ?        00:00:00 kworker/0:0H\n"
     ]
    }
   ],
   "source": [
    "# get all process\n",
    "ps -A | head -5 # same as -e"
   ]
  },
  {
   "cell_type": "code",
   "execution_count": 45,
   "metadata": {},
   "outputs": [
    {
     "name": "stdout",
     "output_type": "stream",
     "text": [
      "USER       PID %CPU %MEM    VSZ   RSS TTY      STAT START   TIME COMMAND\n",
      "root         1  0.0  0.1 119720  5816 ?        Ss   Dec27   0:02 /sbin/init\n",
      "root         2  0.0  0.0      0     0 ?        S    Dec27   0:00 [kthreadd]\n",
      "root         3  0.0  0.0      0     0 ?        S    Dec27   0:01 [ksoftirqd/0]\n"
     ]
    }
   ],
   "source": [
    "ps aux | head -4"
   ]
  },
  {
   "cell_type": "code",
   "execution_count": 60,
   "metadata": {
    "scrolled": true
   },
   "outputs": [
    {
     "name": "stdout",
     "output_type": "stream",
     "text": [
      "COMMAND           PID   UID USER      NI\n",
      "systemd             1     0 root       0\n",
      "kthreadd            2     0 root       0\n",
      "ksoftirqd/0         3     0 root       0\n"
     ]
    }
   ],
   "source": [
    "ps axo comm,pid,uid,user,nice | head -4"
   ]
  },
  {
   "cell_type": "code",
   "execution_count": null,
   "metadata": {
    "collapsed": true
   },
   "outputs": [],
   "source": [
    "# -ef same as ps aux\n",
    "# -e or -A => all\n",
    "# -f => full format"
   ]
  },
  {
   "cell_type": "code",
   "execution_count": 80,
   "metadata": {},
   "outputs": [
    {
     "name": "stdout",
     "output_type": "stream",
     "text": [
      "UID        PID  PPID  C STIME TTY          TIME CMD\n",
      "root         1     0  0 Dec27 ?        00:00:02 /sbin/init\n",
      "root         2     0  0 Dec27 ?        00:00:00 [kthreadd]\n",
      "root         3     2  0 Dec27 ?        00:00:01 [ksoftirqd/0]\n"
     ]
    }
   ],
   "source": [
    "ps -ef | head -4"
   ]
  },
  {
   "cell_type": "code",
   "execution_count": 82,
   "metadata": {},
   "outputs": [
    {
     "name": "stdout",
     "output_type": "stream",
     "text": [
      "COMMAND           PID   UID USER     RUSER     NI  PPID TT       GROUP\n",
      "tumblerd          307  1000 milad    milad     19     1 ?        milad\n",
      "ps                326  1000 milad    milad      0 14009 pts/1    milad\n",
      "bash              327  1000 milad    milad      0 14009 pts/1    milad\n"
     ]
    }
   ],
   "source": [
    "ps -u 1000 -o comm,pid,uid,user,ruser,nice,ppid,tty,group | head -4 # -u can be username"
   ]
  },
  {
   "cell_type": "code",
   "execution_count": 86,
   "metadata": {},
   "outputs": [
    {
     "name": "stdout",
     "output_type": "stream",
     "text": [
      "COMMAND           PID   UID USER     RUSER     NI  PPID TT       GROUP\n",
      "systemd             1     0 root     root       0     0 ?        root\n",
      "kthreadd            2     0 root     root       0     0 ?        root\n",
      "ksoftirqd/0         3     0 root     root       0     2 ?        root\n"
     ]
    }
   ],
   "source": [
    "ps -eo comm,pid,uid,user,ruser,nice,ppid,tty,group | head -4"
   ]
  },
  {
   "cell_type": "code",
   "execution_count": 102,
   "metadata": {},
   "outputs": [
    {
     "name": "stdout",
     "output_type": "stream",
     "text": [
      "UID        PID  PPID  C STIME TTY          TIME CMD\n",
      "milad    10420 10415  0 Dec27 pts/0    00:00:00 bash\n",
      "milad    13626 10420  0 Dec27 pts/0    00:00:13 /usr/bin/python3 /home/milad/.lo\n"
     ]
    }
   ],
   "source": [
    "ps -ft pts/0"
   ]
  },
  {
   "cell_type": "code",
   "execution_count": 118,
   "metadata": {},
   "outputs": [
    {
     "name": "stdout",
     "output_type": "stream",
     "text": [
      "milad      544 14009  0 08:38 pts/1    00:00:00 grep --color=auto \u001b[01;31m\u001b[Ktint2\u001b[m\u001b[K\n",
      "milad     1666     1  0 Dec27 tty1     00:00:49 \u001b[01;31m\u001b[Ktint2\u001b[m\u001b[K\n"
     ]
    }
   ],
   "source": [
    "ps -ef | grep tint2"
   ]
  },
  {
   "cell_type": "markdown",
   "metadata": {},
   "source": [
    "## pgrep"
   ]
  },
  {
   "cell_type": "code",
   "execution_count": 39,
   "metadata": {},
   "outputs": [
    {
     "name": "stdout",
     "output_type": "stream",
     "text": [
      "10985\n",
      "10989\n",
      "10990\n",
      "10991\n",
      "10992\n"
     ]
    }
   ],
   "source": [
    "pgrep clementine"
   ]
  },
  {
   "cell_type": "code",
   "execution_count": 22,
   "metadata": {},
   "outputs": [
    {
     "name": "stdout",
     "output_type": "stream",
     "text": [
      "1632 xf86-video-inte\n",
      "7075 dconf-service\n"
     ]
    }
   ],
   "source": [
    "pgrep vi -l"
   ]
  },
  {
   "cell_type": "code",
   "execution_count": 33,
   "metadata": {},
   "outputs": [
    {
     "name": "stdout",
     "output_type": "stream",
     "text": [
      "1 systemd\n",
      "2 kthreadd\n",
      "3 ksoftirqd/0\n",
      "5 kworker/0:0H\n",
      "7 rcu_sched\n"
     ]
    }
   ],
   "source": [
    "pgrep -u root -l | head -5"
   ]
  },
  {
   "cell_type": "code",
   "execution_count": 35,
   "metadata": {},
   "outputs": [
    {
     "name": "stdout",
     "output_type": "stream",
     "text": [
      "894 systemd-timesyn\n",
      "998 atd\n",
      "1010 avahi-daemon\n",
      "1014 dbus-daemon\n",
      "1016 avahi-daemon\n"
     ]
    }
   ],
   "source": [
    "pgrep -u root -vl | head -5"
   ]
  },
  {
   "cell_type": "code",
   "execution_count": 38,
   "metadata": {},
   "outputs": [
    {
     "name": "stdout",
     "output_type": "stream",
     "text": [
      "10985 clementine\n"
     ]
    }
   ],
   "source": [
    "pgrep -x vi\n",
    "pgrep -x clementine -l"
   ]
  },
  {
   "cell_type": "code",
   "execution_count": 41,
   "metadata": {},
   "outputs": [
    {
     "name": "stdout",
     "output_type": "stream",
     "text": [
      "10992 clementine-tagr\n"
     ]
    }
   ],
   "source": [
    "pgrep -n clem -l"
   ]
  },
  {
   "cell_type": "code",
   "execution_count": 120,
   "metadata": {},
   "outputs": [
    {
     "name": "stdout",
     "output_type": "stream",
     "text": [
      "1410 login\n",
      "1632 xf86-video-inte\n"
     ]
    }
   ],
   "source": [
    "pgrep -t tty1 -l -u root"
   ]
  },
  {
   "cell_type": "code",
   "execution_count": 7,
   "metadata": {},
   "outputs": [
    {
     "name": "stdout",
     "output_type": "stream",
     "text": [
      "1584 -bash\n",
      "1597 /bin/sh /usr/bin/startx\n",
      "1620 xinit /home/milad/.xinitrc -- /etc/X11/xinit/xserverrc :0 vt1 -keeptty -auth /tmp/serverauth.sKkqdc4rNQ\n",
      "1621 /usr/lib/xorg/Xorg -nolisten tcp :0 vt1 -keeptty -auth /tmp/serverauth.sKkqdc4rNQ\n",
      "1632 /usr/bin/openbox --startup /usr/lib/x86_64-linux-gnu/openbox-autostart OPENBOX\n",
      "1636 dbus-launch --sh-syntax --exit-with-session ssh-agent openbox-session\n",
      "1661 tint2\n",
      "1664 pasystray\n",
      "1667 clipit\n",
      "1670 xxkb\n"
     ]
    }
   ],
   "source": [
    "pgrep -t tty1 -a -u milad | head"
   ]
  },
  {
   "cell_type": "code",
   "execution_count": 6,
   "metadata": {},
   "outputs": [],
   "source": [
    "pgrep -av pasystray > /dev/null # reverse"
   ]
  },
  {
   "cell_type": "markdown",
   "metadata": {},
   "source": [
    "## pidof"
   ]
  },
  {
   "cell_type": "code",
   "execution_count": 128,
   "metadata": {},
   "outputs": [
    {
     "name": "stdout",
     "output_type": "stream",
     "text": [
      "28742 28715 28668 27449 14009 10565 10420 1586\n"
     ]
    }
   ],
   "source": [
    "pidof bash"
   ]
  },
  {
   "cell_type": "code",
   "execution_count": 129,
   "metadata": {},
   "outputs": [
    {
     "name": "stdout",
     "output_type": "stream",
     "text": [
      "28742\n"
     ]
    }
   ],
   "source": [
    "pidof -s bash"
   ]
  },
  {
   "cell_type": "markdown",
   "metadata": {},
   "source": [
    "## Signals, kill, pkill"
   ]
  },
  {
   "cell_type": "code",
   "execution_count": 42,
   "metadata": {},
   "outputs": [
    {
     "name": "stdout",
     "output_type": "stream",
     "text": [
      " 1) SIGHUP\t 2) SIGINT\t 3) SIGQUIT\t 4) SIGILL\t 5) SIGTRAP\n",
      " 6) SIGABRT\t 7) SIGBUS\t 8) SIGFPE\t 9) SIGKILL\t10) SIGUSR1\n",
      "11) SIGSEGV\t12) SIGUSR2\t13) SIGPIPE\t14) SIGALRM\t15) SIGTERM\n",
      "16) SIGSTKFLT\t17) SIGCHLD\t18) SIGCONT\t19) SIGSTOP\t20) SIGTSTP\n",
      "21) SIGTTIN\t22) SIGTTOU\t23) SIGURG\t24) SIGXCPU\t25) SIGXFSZ\n",
      "26) SIGVTALRM\t27) SIGPROF\t28) SIGWINCH\t29) SIGIO\t30) SIGPWR\n",
      "31) SIGSYS\t34) SIGRTMIN\t35) SIGRTMIN+1\t36) SIGRTMIN+2\t37) SIGRTMIN+3\n",
      "38) SIGRTMIN+4\t39) SIGRTMIN+5\t40) SIGRTMIN+6\t41) SIGRTMIN+7\t42) SIGRTMIN+8\n",
      "43) SIGRTMIN+9\t44) SIGRTMIN+10\t45) SIGRTMIN+11\t46) SIGRTMIN+12\t47) SIGRTMIN+13\n",
      "48) SIGRTMIN+14\t49) SIGRTMIN+15\t50) SIGRTMAX-14\t51) SIGRTMAX-13\t52) SIGRTMAX-12\n",
      "53) SIGRTMAX-11\t54) SIGRTMAX-10\t55) SIGRTMAX-9\t56) SIGRTMAX-8\t57) SIGRTMAX-7\n",
      "58) SIGRTMAX-6\t59) SIGRTMAX-5\t60) SIGRTMAX-4\t61) SIGRTMAX-3\t62) SIGRTMAX-2\n",
      "63) SIGRTMAX-1\t64) SIGRTMAX\t\n"
     ]
    }
   ],
   "source": [
    "kill -l"
   ]
  },
  {
   "cell_type": "raw",
   "metadata": {},
   "source": [
    "1 : sighub, connection to terminal hangedup\n",
    "2 : sigint, keyboard interrupt same as ctrl+c\n",
    "15: sigterm, Default kill signal, terminate cleanly\n",
    "9 : sigkill, Kill the process immediately\n",
    "17: sigchld, Make zombies process 1 child\n",
    "18: sigcont, coninue\n",
    "19: sigstop, stop the process same as ctrl+z\n",
    "20: sigtstp, stop wich can not be ignored"
   ]
  },
  {
   "cell_type": "code",
   "execution_count": null,
   "metadata": {
    "collapsed": true
   },
   "outputs": [],
   "source": [
    "# options are same as pgrep -n -P -u etc.\n",
    "pkill -SIGTERM -u milad -x vi"
   ]
  },
  {
   "cell_type": "code",
   "execution_count": null,
   "metadata": {
    "collapsed": true
   },
   "outputs": [],
   "source": [
    "kill -2 1080"
   ]
  },
  {
   "cell_type": "markdown",
   "metadata": {},
   "source": [
    "## Jobs\n",
    "bg, fg, &, jobs, ctrl+z, ctrl+c"
   ]
  },
  {
   "cell_type": "markdown",
   "metadata": {},
   "source": [
    "- - -\n",
    "## Lecture notes\n",
    "\n",
    "- All lecture notes are available at github in `ipynb` format: [https://github.com/ravexina/linux-notes](https://github.com/ravexina/linux-notes). \n",
    "\n",
    "\n",
    "- There are `html` exports of project available at: [https://ravexina.github.io/linux-notes](https://ravexina.github.io/linux-notes).\n",
    "\n",
    "## License\n",
    "<a rel=\"license\" href=\"http://creativecommons.org/licenses/by-nc-sa/4.0/\">\n",
    "<img alt=\"Creative Commons License\" style=\"border-width:0\" src=\"https://i.creativecommons.org/l/by-nc-sa/4.0/88x31.png\" />\n",
    "</a>\n",
    "\n",
    "<span property=\"dct:title\">Linux Notes</span> by \n",
    "<a href=\"http://github.com/ravexina/Linux-Notes\" property=\"cc:attributionName\" rel=\"cc:attributionURL\">Milad As (Ravexina)</a> is licensed under a <a rel=\"license\" href=\"http://creativecommons.org/licenses/by-nc-sa/4.0/\">Creative Commons Attribution-NonCommercial-ShareAlike 4.0 International License</a>.\n",
    "\n",
    "- - -\n",
    "\n",
    "<a rel=\"license\" href=\"https://gitlab.com/ravexina/\"><img alt=\"ravexina's gitlab\" style=\"display:inline;border-width:0;height:30px;float:left;\" src=\"img/logo/logo-square.png\" /></a> \n",
    "\n",
    "<a rel=\"license\" href=\"https://github.com/ravexina/\"><img alt=\"ravexina's github\" style=\"float:right;display:inline;border-width:0;height:30px;\" src=\"img/logo/GitHub_Logo.png\" /></a>"
   ]
  }
 ],
 "metadata": {
  "kernelspec": {
   "display_name": "Bash",
   "language": "bash",
   "name": "bash"
  },
  "language_info": {
   "codemirror_mode": "shell",
   "file_extension": ".sh",
   "mimetype": "text/x-sh",
   "name": "bash"
  }
 },
 "nbformat": 4,
 "nbformat_minor": 2
}
