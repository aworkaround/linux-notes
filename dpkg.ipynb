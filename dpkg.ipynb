{
 "cells": [
  {
   "cell_type": "markdown",
   "metadata": {},
   "source": [
    "## dpkg "
   ]
  },
  {
   "cell_type": "code",
   "execution_count": 11,
   "metadata": {},
   "outputs": [
    {
     "name": "stdout",
     "output_type": "stream",
     "text": [
      "dpkg (1)             - package manager for Debian\n",
      "Dpkg (3)             - module with core variables\n"
     ]
    }
   ],
   "source": [
    "whatis dpkg"
   ]
  },
  {
   "cell_type": "code",
   "execution_count": 12,
   "metadata": {},
   "outputs": [
    {
     "name": "stdout",
     "output_type": "stream",
     "text": [
      "coreutils: /bin/ls\n"
     ]
    }
   ],
   "source": [
    "dpkg -S `which ls`"
   ]
  },
  {
   "cell_type": "code",
   "execution_count": 13,
   "metadata": {},
   "outputs": [
    {
     "name": "stdout",
     "output_type": "stream",
     "text": [
      "/bin/ls\n"
     ]
    }
   ],
   "source": [
    "which ls"
   ]
  },
  {
   "cell_type": "code",
   "execution_count": 14,
   "metadata": {},
   "outputs": [
    {
     "name": "stdout",
     "output_type": "stream",
     "text": [
      "coreutils: /bin/ls\n"
     ]
    }
   ],
   "source": [
    "dpkg -S /bin/ls"
   ]
  },
  {
   "cell_type": "code",
   "execution_count": null,
   "metadata": {
    "collapsed": true
   },
   "outputs": [],
   "source": [
    "dpkg -s coreutils"
   ]
  },
  {
   "cell_type": "code",
   "execution_count": 39,
   "metadata": {
    "scrolled": true
   },
   "outputs": [
    {
     "name": "stdout",
     "output_type": "stream",
     "text": [
      "Package: coreutils\n",
      "Essential: yes\n",
      "Priority: required\n",
      "Section: utils\n",
      "Installed-Size: 6264\n",
      "Maintainer: Ubuntu Developers <ubuntu-devel-discuss@lists.ubuntu.com>\n",
      "Original-Maintainer: Michael Stone <mstone@debian.org>\n",
      "Architecture: amd64\n",
      "Version: 8.25-2ubuntu2\n",
      "Replaces: mktemp, realpath, timeout\n",
      "E: Write error - write (32: Broken pipe)\n"
     ]
    }
   ],
   "source": [
    "apt-cache show coreutils | head -10"
   ]
  },
  {
   "cell_type": "code",
   "execution_count": 21,
   "metadata": {},
   "outputs": [
    {
     "name": "stdout",
     "output_type": "stream",
     "text": [
      "Desired=Unknown/Install/Remove/Purge/Hold\n",
      "| Status=Not/Inst/Conf-files/Unpacked/halF-conf/Half-inst/trig-aWait/Trig-pend\n",
      "|/ Err?=(none)/Reinst-required (Status,Err: uppercase=bad)\n",
      "||/ Name           Version      Architecture Description\n",
      "+++-==============-============-============-=================================\n",
      "ii  coreutils      8.25-2ubuntu amd64        GNU core utilities\n"
     ]
    }
   ],
   "source": [
    "# List packages by name\n",
    "dpkg -l coreutils"
   ]
  },
  {
   "cell_type": "code",
   "execution_count": 36,
   "metadata": {},
   "outputs": [
    {
     "name": "stdout",
     "output_type": "stream",
     "text": [
      "\u001b[01;31m\u001b[K/bin/ls\u001b[m\u001b[K\n",
      "/bin/vdir\n",
      "/bin/dir\n",
      "/bin/chmod\n"
     ]
    }
   ],
   "source": [
    "# List packages files\n",
    "dpkg -L coreutils | grep -i \"^/bin/ls\" -A3"
   ]
  },
  {
   "cell_type": "code",
   "execution_count": 3,
   "metadata": {},
   "outputs": [
    {
     "name": "stdout",
     "output_type": "stream",
     "text": [
      "1642\n"
     ]
    }
   ],
   "source": [
    "dpkg -l | wc -l"
   ]
  },
  {
   "cell_type": "code",
   "execution_count": 7,
   "metadata": {
    "collapsed": true
   },
   "outputs": [],
   "source": [
    "dpkg -l > pkglist.test"
   ]
  },
  {
   "cell_type": "code",
   "execution_count": 8,
   "metadata": {},
   "outputs": [
    {
     "name": "stdout",
     "output_type": "stream",
     "text": [
      "Desired=Unknown/Install/Remove/Purge/Hold\n",
      "| Status=Not/Inst/Conf-files/Unpacked/halF-conf/Half-inst/trig-aWait/Trig-pend\n",
      "|/ Err?=(none)/Reinst-required (Status,Err: uppercase=bad)\n",
      "||/ Name                                  Version                                    Architecture Description\n",
      "+++-=====================================-==========================================-============-===============================================================================\n",
      "ii  accountsservice                       0.6.40-2ubuntu11.3                         amd64        query and manipulate user account information\n",
      "ii  acl                                   2.2.52-3                                   amd64        Access control list utilities\n",
      "ii  acpi-call-dkms                        1.1.0-2                                    all          Kernel module that enables you to call ACPI methods\n",
      "ii  adduser                               3.113+nmu3ubuntu4                          all          add and remove users and groups\n",
      "ii  adwaita-icon-theme                    3.18.0-2ubuntu3.1                          all          default icon theme of GNOME (small subset)\n"
     ]
    }
   ],
   "source": [
    "head pkglist.test"
   ]
  },
  {
   "cell_type": "markdown",
   "metadata": {},
   "source": [
    "- - -\n",
    "## Lecture notes\n",
    "\n",
    "- All lecture notes are available at github in `ipynb` format: [https://github.com/ravexina/linux-notes](https://github.com/ravexina/linux-notes). \n",
    "\n",
    "\n",
    "- There are `html` exports of project available at: [https://ravexina.github.io/linux-notes](https://ravexina.github.io/linux-notes).\n",
    "\n",
    "## License\n",
    "<a rel=\"license\" href=\"http://creativecommons.org/licenses/by-nc-sa/4.0/\">\n",
    "<img alt=\"Creative Commons License\" style=\"border-width:0\" src=\"https://i.creativecommons.org/l/by-nc-sa/4.0/88x31.png\" />\n",
    "</a>\n",
    "\n",
    "<span property=\"dct:title\">Linux Notes</span> by \n",
    "<a href=\"http://github.com/ravexina/Linux-Notes\" property=\"cc:attributionName\" rel=\"cc:attributionURL\">Milad As (Ravexina)</a> is licensed under a <a rel=\"license\" href=\"http://creativecommons.org/licenses/by-nc-sa/4.0/\">Creative Commons Attribution-NonCommercial-ShareAlike 4.0 International License</a>.\n",
    "\n",
    "- - -\n",
    "\n",
    "<a rel=\"license\" href=\"https://gitlab.com/ravexina/\"><img alt=\"ravexina's gitlab\" style=\"display:inline;border-width:0;height:30px;float:left;\" src=\"img/logo/logo-square.png\" /></a> \n",
    "\n",
    "<a rel=\"license\" href=\"https://github.com/ravexina/\"><img alt=\"ravexina's github\" style=\"float:right;display:inline;border-width:0;height:30px;\" src=\"img/logo/GitHub_Logo.png\" /></a>"
   ]
  }
 ],
 "metadata": {
  "kernelspec": {
   "display_name": "Bash",
   "language": "bash",
   "name": "bash"
  },
  "language_info": {
   "codemirror_mode": "shell",
   "file_extension": ".sh",
   "mimetype": "text/x-sh",
   "name": "bash"
  }
 },
 "nbformat": 4,
 "nbformat_minor": 2
}
