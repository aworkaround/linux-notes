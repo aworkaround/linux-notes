{
 "cells": [
  {
   "cell_type": "markdown",
   "metadata": {},
   "source": [
    "# time and localization"
   ]
  },
  {
   "cell_type": "markdown",
   "metadata": {},
   "source": [
    "## Time\n",
    "\n",
    "- the time is determined by four parts: \n",
    "    - time value\n",
    "    - time standard (localtime, UTC)\n",
    "    - time zone (Asia/Tehran)\n",
    "    - Daylight Saving Time (DST) \n",
    "    \n",
    "    \n",
    "- Hardware clock - Real Time Clock (RTC) - CMOS clock **[N01]**  \n",
    "    - Only have the ability to store time: year, month, day, hour, minute, and second\n",
    "    - No timezone, DST or standard "
   ]
  },
  {
   "cell_type": "code",
   "execution_count": 6,
   "metadata": {},
   "outputs": [
    {
     "name": "stdout",
     "output_type": "stream",
     "text": [
      "      Local time: Wed 2017-03-22 16:20:13 IRDT\n",
      "  Universal time: Wed 2017-03-22 11:50:13 UTC\n",
      "        RTC time: Wed 2017-03-22 11:50:12\n",
      "       Time zone: Asia/Tehran (IRDT, +0430)\n",
      " Network time on: yes\n",
      "NTP synchronized: yes\n",
      " RTC in local TZ: no\n"
     ]
    }
   ],
   "source": [
    "timedatectl"
   ]
  },
  {
   "cell_type": "markdown",
   "metadata": {},
   "source": [
    "### Standards\n"
   ]
  },
  {
   "cell_type": "code",
   "execution_count": 2,
   "metadata": {
    "collapsed": true
   },
   "outputs": [],
   "source": [
    "sudo hwclock --show --localtime # do not adjust to local timezone. (it's already localtime) "
   ]
  },
  {
   "cell_type": "markdown",
   "metadata": {},
   "source": [
    "It will display what the current time is according to the hardware clock.  \n",
    "If this time matches whatever your watch says, then the hardware clock is set to local time.  \n",
    "If the output from hwclock is not local time, chances are it is set to UTC time.\n",
    "\n",
    "systemd-timedated reads /etc/adjtime, and depending on the contents of the file, it sets the clock to either UTC or local time.  \n",
    "If /etc/adjtime *isn't present at boot*, systemd-timedated will assume that hardware clock is set to UTC.\n",
    "\n",
    "When a os uses UTC it will consider CMOS time as a UTC then makes an adjustment to it. \n",
    "\n",
    "** when using localtime: **"
   ]
  },
  {
   "cell_type": "code",
   "execution_count": null,
   "metadata": {
    "collapsed": true
   },
   "outputs": [],
   "source": [
    "sudo timedatectl set-local-rtc true"
   ]
  },
  {
   "cell_type": "markdown",
   "metadata": {},
   "source": [
    "cat /etc/adjtime # used by hwclock"
   ]
  },
  {
   "cell_type": "code",
   "execution_count": null,
   "metadata": {
    "collapsed": true
   },
   "outputs": [],
   "source": [
    "sudo timedatectl set-local-rtc false # do not use localtime -> Set to UTC"
   ]
  },
  {
   "cell_type": "code",
   "execution_count": 5,
   "metadata": {},
   "outputs": [
    {
     "name": "stdout",
     "output_type": "stream",
     "text": [
      "cat: /etc/adjtime: No such file or directory\n"
     ]
    },
    {
     "ename": "",
     "evalue": "1",
     "output_type": "error",
     "traceback": []
    }
   ],
   "source": [
    "cat /etc/adjtime"
   ]
  },
  {
   "cell_type": "markdown",
   "metadata": {},
   "source": [
    "#### Why UTC\n",
    "\n",
    "- Multiple operating systems\n",
    "    - All should use same standard\n",
    "        - conflict when turning off\n",
    "    - when using localtime more than one operating system may adjust it after a DST\n",
    "    - Moving between timezones and using one of the operating systems to reset the system/hardware clock. "
   ]
  },
  {
   "cell_type": "markdown",
   "metadata": {},
   "source": [
    "#### NTP (network time protocol)\n",
    "Network Time Protocol is a networking protocol for clock synchronization between computer systems"
   ]
  },
  {
   "cell_type": "code",
   "execution_count": 17,
   "metadata": {},
   "outputs": [
    {
     "name": "stdout",
     "output_type": "stream",
     "text": [
      "#NTP=\n",
      "#FallbackNTP=ntp.ubuntu.com\n"
     ]
    }
   ],
   "source": [
    "grep -i ntp /etc/systemd/timesyncd.conf"
   ]
  },
  {
   "cell_type": "code",
   "execution_count": null,
   "metadata": {
    "collapsed": true
   },
   "outputs": [],
   "source": [
    "NTP=ir.pool.ntp.org"
   ]
  },
  {
   "cell_type": "code",
   "execution_count": 23,
   "metadata": {},
   "outputs": [
    {
     "name": "stdout",
     "output_type": "stream",
     "text": [
      "disabled\n"
     ]
    },
    {
     "ename": "",
     "evalue": "1",
     "output_type": "error",
     "traceback": []
    }
   ],
   "source": [
    "systemctl is-enabled systemd-timesyncd.service"
   ]
  },
  {
   "cell_type": "code",
   "execution_count": 1,
   "metadata": {},
   "outputs": [],
   "source": [
    "sudo timedatectl set-ntp true"
   ]
  },
  {
   "cell_type": "code",
   "execution_count": 10,
   "metadata": {},
   "outputs": [
    {
     "name": "stdout",
     "output_type": "stream",
     "text": [
      "enabled\n"
     ]
    }
   ],
   "source": [
    "systemctl is-enabled systemd-timesyncd.service"
   ]
  },
  {
   "cell_type": "code",
   "execution_count": 11,
   "metadata": {},
   "outputs": [
    {
     "name": "stdout",
     "output_type": "stream",
     "text": [
      "\u001b[01;31m\u001b[KNTP\u001b[m\u001b[K synchronized: yes\n"
     ]
    }
   ],
   "source": [
    "timedatectl status | grep -i ntp"
   ]
  },
  {
   "cell_type": "markdown",
   "metadata": {},
   "source": [
    "### Timezone\n",
    "\n",
    "#### tzdata"
   ]
  },
  {
   "cell_type": "code",
   "execution_count": null,
   "metadata": {
    "collapsed": true
   },
   "outputs": [],
   "source": [
    "sudo dpkg-reconfigure tzdata"
   ]
  },
  {
   "cell_type": "markdown",
   "metadata": {},
   "source": [
    "<img src=\"img/dpkg-rec-tzdata.png\" /img>"
   ]
  },
  {
   "cell_type": "code",
   "execution_count": 1,
   "metadata": {},
   "outputs": [
    {
     "name": "stdout",
     "output_type": "stream",
     "text": [
      "Asia/Tehran\n"
     ]
    }
   ],
   "source": [
    "cat /etc/timezone"
   ]
  },
  {
   "cell_type": "code",
   "execution_count": 2,
   "metadata": {},
   "outputs": [
    {
     "name": "stdout",
     "output_type": "stream",
     "text": [
      "/etc/localtime: symbolic link to /usr/share/zoneinfo/Asia/Tehran\n"
     ]
    }
   ],
   "source": [
    "file /etc/localtime"
   ]
  },
  {
   "cell_type": "markdown",
   "metadata": {},
   "source": [
    "We will get back to these files for manual configuration."
   ]
  },
  {
   "cell_type": "markdown",
   "metadata": {},
   "source": [
    "### timedatectl"
   ]
  },
  {
   "cell_type": "code",
   "execution_count": 10,
   "metadata": {},
   "outputs": [
    {
     "name": "stdout",
     "output_type": "stream",
     "text": [
      "Asia/\u001b[01;31m\u001b[KTehran\u001b[m\u001b[K\n"
     ]
    }
   ],
   "source": [
    "timedatectl list-timezones | grep -i tehran"
   ]
  },
  {
   "cell_type": "code",
   "execution_count": 11,
   "metadata": {
    "collapsed": true
   },
   "outputs": [],
   "source": [
    "sudo timedatectl set-timezone Asia/Tehran"
   ]
  },
  {
   "cell_type": "code",
   "execution_count": 13,
   "metadata": {},
   "outputs": [
    {
     "name": "stdout",
     "output_type": "stream",
     "text": [
      "       Time \u001b[01;31m\u001b[Kzone\u001b[m\u001b[K: Asia/Tehran (IRST, +0330)\n"
     ]
    }
   ],
   "source": [
    "timedatectl status | grep zone"
   ]
  },
  {
   "cell_type": "code",
   "execution_count": 12,
   "metadata": {},
   "outputs": [
    {
     "name": "stdout",
     "output_type": "stream",
     "text": [
      "       Time \u001b[01;31m\u001b[Kzone\u001b[m\u001b[K: Asia/Tehran (IRDT, +0430)\n"
     ]
    }
   ],
   "source": [
    "timedatectl status | grep zone # In DST"
   ]
  },
  {
   "cell_type": "markdown",
   "metadata": {},
   "source": [
    "### tzselect\n",
    "It comes handy when you want to know what time it is in other countries, or if you just wonder what timezones exist.\n"
   ]
  },
  {
   "cell_type": "code",
   "execution_count": null,
   "metadata": {},
   "outputs": [],
   "source": [
    "tzselect"
   ]
  },
  {
   "cell_type": "markdown",
   "metadata": {},
   "source": [
    "<img src=\"img/tzselect.png\" /img>"
   ]
  },
  {
   "cell_type": "markdown",
   "metadata": {},
   "source": [
    "- You can make this change permanent for yourself by appending the line:\n",
    " - <span style='color:green'>TZ</span>='Asia/Tehran'; export TZ to the file '.profile' in your home directory; then log out and log in again.  \n",
    "\n",
    "Here is that TZ value again, this time on <span style='color:green'>standard output</span> so that you can use the /usr/bin/tzselect command in shell scripts:  \n",
    "Asia/Tehran"
   ]
  },
  {
   "cell_type": "code",
   "execution_count": null,
   "metadata": {
    "collapsed": true
   },
   "outputs": [],
   "source": [
    "tzselect 2> /dev/null"
   ]
  },
  {
   "cell_type": "code",
   "execution_count": null,
   "metadata": {
    "collapsed": true
   },
   "outputs": [],
   "source": [
    "4\n",
    "16\n",
    "1\n",
    "Asia/Tehran"
   ]
  },
  {
   "cell_type": "code",
   "execution_count": 8,
   "metadata": {
    "collapsed": true
   },
   "outputs": [],
   "source": [
    "export TZ=Europe/Germany"
   ]
  },
  {
   "cell_type": "code",
   "execution_count": 9,
   "metadata": {},
   "outputs": [
    {
     "name": "stdout",
     "output_type": "stream",
     "text": [
      "Wed Mar 22 12:59:35 Europe 2017\n"
     ]
    }
   ],
   "source": [
    "date"
   ]
  },
  {
   "cell_type": "code",
   "execution_count": 10,
   "metadata": {
    "collapsed": true
   },
   "outputs": [],
   "source": [
    "export TZ=Asia/Tehran"
   ]
  },
  {
   "cell_type": "code",
   "execution_count": 11,
   "metadata": {},
   "outputs": [
    {
     "name": "stdout",
     "output_type": "stream",
     "text": [
      "Wed Mar 22 17:29:38 IRDT 2017\n"
     ]
    }
   ],
   "source": [
    "date"
   ]
  },
  {
   "cell_type": "markdown",
   "metadata": {},
   "source": [
    "### Config files"
   ]
  },
  {
   "cell_type": "code",
   "execution_count": 6,
   "metadata": {},
   "outputs": [
    {
     "name": "stdout",
     "output_type": "stream",
     "text": [
      "Asia/Tehran\n"
     ]
    }
   ],
   "source": [
    "cat /etc/timezone"
   ]
  },
  {
   "cell_type": "code",
   "execution_count": 11,
   "metadata": {},
   "outputs": [
    {
     "name": "stdout",
     "output_type": "stream",
     "text": [
      "lrwxrwxrwx 1 root root 31 Mar 19 22:11 \u001b[0m\u001b[01;36m/etc/localtime\u001b[0m -> /usr/share/zoneinfo/Asia/Tehran\n"
     ]
    }
   ],
   "source": [
    "ll /etc/localtime"
   ]
  },
  {
   "cell_type": "code",
   "execution_count": 4,
   "metadata": {},
   "outputs": [
    {
     "name": "stdout",
     "output_type": "stream",
     "text": [
      "\u001b[0m\u001b[01;34mAfrica\u001b[0m      Cuba     \u001b[01;36mGMT0\u001b[0m         Japan              \u001b[01;34mPacific\u001b[0m     Turkey\n",
      "\u001b[01;34mAmerica\u001b[0m     EET      \u001b[01;36mGMT-0\u001b[0m        Kwajalein          Poland      UCT\n",
      "\u001b[01;34mAntarctica\u001b[0m  Egypt    GMT+0        leap-seconds.list  Portugal    \u001b[01;36mUniversal\u001b[0m\n",
      "\u001b[01;34mArctic\u001b[0m      Eire     \u001b[01;36mGreenwich\u001b[0m    Libya              \u001b[01;34mposix\u001b[0m       \u001b[01;34mUS\u001b[0m\n",
      "\u001b[01;34mAsia\u001b[0m        EST      Hongkong     \u001b[01;36mlocaltime\u001b[0m          posixrules  \u001b[01;36mUTC\u001b[0m\n",
      "\u001b[01;34mAtlantic\u001b[0m    EST5EDT  HST          MET                PRC         WET\n",
      "\u001b[01;34mAustralia\u001b[0m   \u001b[01;34mEtc\u001b[0m      Iceland      \u001b[01;34mMexico\u001b[0m             PST8PDT     W-SU\n",
      "\u001b[01;34mBrazil\u001b[0m      \u001b[01;34mEurope\u001b[0m   \u001b[01;34mIndian\u001b[0m       MST                \u001b[01;34mright\u001b[0m       zone1970.tab\n",
      "\u001b[01;34mCanada\u001b[0m      Factory  Iran         MST7MDT            ROC         zone.tab\n",
      "CET         GB       iso3166.tab  Navajo             ROK         Zulu\n",
      "\u001b[01;34mChile\u001b[0m       \u001b[01;36mGB-Eire\u001b[0m  Israel       NZ                 Singapore\n",
      "CST6CDT     \u001b[01;36mGMT\u001b[0m      Jamaica      NZ-CHAT            \u001b[01;34mSystemV\u001b[0m\n"
     ]
    }
   ],
   "source": [
    "ls /usr/share/zoneinfo/"
   ]
  },
  {
   "cell_type": "code",
   "execution_count": 7,
   "metadata": {},
   "outputs": [
    {
     "name": "stdout",
     "output_type": "stream",
     "text": [
      "lrwxrwxrwx 1 root root 7 Dec  7 14:29 \u001b[0m\u001b[01;36m/usr/share/zoneinfo/Asia/Tehran\u001b[0m -> ../Iran\n"
     ]
    }
   ],
   "source": [
    "ls -l /usr/share/zoneinfo/Asia/Tehran"
   ]
  },
  {
   "cell_type": "code",
   "execution_count": 5,
   "metadata": {},
   "outputs": [
    {
     "name": "stdout",
     "output_type": "stream",
     "text": [
      "/usr/share/zoneinfo/Iran: timezone data, version 2, 7 gmt time flags, 7 std time flags, no leap seconds, 101 transition times, 7 abbreviation chars\n"
     ]
    }
   ],
   "source": [
    "file /usr/share/zoneinfo/Iran"
   ]
  },
  {
   "cell_type": "markdown",
   "metadata": {},
   "source": [
    "### Manually"
   ]
  },
  {
   "cell_type": "code",
   "execution_count": null,
   "metadata": {
    "collapsed": true
   },
   "outputs": [],
   "source": [
    "echo Asia/Tehran | sudo tee /etc/timezone"
   ]
  },
  {
   "cell_type": "code",
   "execution_count": null,
   "metadata": {
    "collapsed": true
   },
   "outputs": [],
   "source": [
    "sudo ln -l /usr/share/zoneinfo/Asia/Tehran /etc/localtime"
   ]
  },
  {
   "cell_type": "markdown",
   "metadata": {},
   "source": [
    "## locale\n",
    "\n",
    "locale is a set of parameters that defines the user's language, region and any special variant preferences that the user wants to see in their user interface. Usually a locale identifier consists of at least a language identifier and a region identifier."
   ]
  },
  {
   "cell_type": "code",
   "execution_count": 1,
   "metadata": {},
   "outputs": [
    {
     "name": "stdout",
     "output_type": "stream",
     "text": [
      "LANG=en_US.UTF-8\n",
      "LANGUAGE=en_US:en\n",
      "LC_CTYPE=\"en_US.UTF-8\"\n",
      "LC_NUMERIC=\"en_US.UTF-8\"\n",
      "LC_TIME=\"en_US.UTF-8\"\n",
      "LC_COLLATE=\"en_US.UTF-8\"\n",
      "LC_MONETARY=\"en_US.UTF-8\"\n",
      "LC_MESSAGES=\"en_US.UTF-8\"\n",
      "LC_PAPER=\"en_US.UTF-8\"\n",
      "LC_NAME=\"en_US.UTF-8\"\n",
      "LC_ADDRESS=\"en_US.UTF-8\"\n",
      "LC_TELEPHONE=\"en_US.UTF-8\"\n",
      "LC_MEASUREMENT=\"en_US.UTF-8\"\n",
      "LC_IDENTIFICATION=\"en_US.UTF-8\"\n",
      "LC_ALL=\n"
     ]
    }
   ],
   "source": [
    "locale # out config"
   ]
  },
  {
   "cell_type": "code",
   "execution_count": 2,
   "metadata": {},
   "outputs": [
    {
     "name": "stdout",
     "output_type": "stream",
     "text": [
      "      Local time: Sun 2017-03-19 22:54:37 IRST\n"
     ]
    }
   ],
   "source": [
    "timedatectl | head -1"
   ]
  },
  {
   "cell_type": "code",
   "execution_count": 3,
   "metadata": {},
   "outputs": [
    {
     "name": "stdout",
     "output_type": "stream",
     "text": [
      "\u001b[01;31m\u001b[Kfa\u001b[m\u001b[K_IR\n",
      "\u001b[01;31m\u001b[Kfa\u001b[m\u001b[K_IR.utf8\n"
     ]
    }
   ],
   "source": [
    "locale -a | grep -i fa # show all available locales"
   ]
  },
  {
   "cell_type": "code",
   "execution_count": 4,
   "metadata": {
    "collapsed": true
   },
   "outputs": [],
   "source": [
    "export LC_TIME=fa_IR.utf8"
   ]
  },
  {
   "cell_type": "code",
   "execution_count": 5,
   "metadata": {},
   "outputs": [
    {
     "name": "stdout",
     "output_type": "stream",
     "text": [
      "      Local time: یکشنبه 2017-03-19 22:54:46 IRST\n"
     ]
    }
   ],
   "source": [
    "timedatectl | head -1"
   ]
  },
  {
   "cell_type": "markdown",
   "metadata": {},
   "source": [
    "### Managing locales\n",
    "lets see what we got"
   ]
  },
  {
   "cell_type": "code",
   "execution_count": 9,
   "metadata": {},
   "outputs": [
    {
     "name": "stdout",
     "output_type": "stream",
     "text": [
      "\u001b[01;31m\u001b[Ke\u001b[m\u001b[Kn_US.UTF-8 UTF-8\n",
      "\u001b[01;31m\u001b[Kf\u001b[m\u001b[Ka_IR UTF-8\n"
     ]
    }
   ],
   "source": [
    "grep '^[a-z]' /etc/locale.gen"
   ]
  },
  {
   "cell_type": "markdown",
   "metadata": {},
   "source": [
    "lets see if we got any locale enabled for france:"
   ]
  },
  {
   "cell_type": "code",
   "execution_count": 1,
   "metadata": {},
   "outputs": [
    {
     "ename": "",
     "evalue": "1",
     "output_type": "error",
     "traceback": []
    }
   ],
   "source": [
    "localectl list-locales | grep -i fr # eq to locale -a"
   ]
  },
  {
   "cell_type": "code",
   "execution_count": 3,
   "metadata": {},
   "outputs": [
    {
     "ename": "",
     "evalue": "1",
     "output_type": "error",
     "traceback": []
    }
   ],
   "source": [
    "locale -a | grep -i fr"
   ]
  },
  {
   "cell_type": "markdown",
   "metadata": {},
   "source": [
    "#### Generate a new locale"
   ]
  },
  {
   "cell_type": "code",
   "execution_count": null,
   "metadata": {
    "collapsed": true
   },
   "outputs": [],
   "source": [
    "sudo nano /etc/locale.gen # uncomment # fr_FR.UTF-8 UTF-8"
   ]
  },
  {
   "cell_type": "markdown",
   "metadata": {},
   "source": [
    "lets check the file again"
   ]
  },
  {
   "cell_type": "code",
   "execution_count": 3,
   "metadata": {},
   "outputs": [
    {
     "name": "stdout",
     "output_type": "stream",
     "text": [
      "en_US.UTF-8 UTF-8\n",
      "fa_IR UTF-8\n",
      "fr_FR.UTF-8 UTF-8\n"
     ]
    }
   ],
   "source": [
    "grep -v '^#' /etc/locale.gen | grep -v '^$'"
   ]
  },
  {
   "cell_type": "code",
   "execution_count": 4,
   "metadata": {},
   "outputs": [
    {
     "name": "stdout",
     "output_type": "stream",
     "text": [
      "locale-gen (8)       - generates localisation files from templates\n"
     ]
    }
   ],
   "source": [
    "whatis locale-gen"
   ]
  },
  {
   "cell_type": "code",
   "execution_count": null,
   "metadata": {
    "collapsed": true
   },
   "outputs": [],
   "source": [
    "sudo locale-gen"
   ]
  },
  {
   "cell_type": "code",
   "execution_count": 4,
   "metadata": {},
   "outputs": [
    {
     "name": "stdout",
     "output_type": "stream",
     "text": [
      "\u001b[01;31m\u001b[Kfr\u001b[m\u001b[K_\u001b[01;31m\u001b[KFR\u001b[m\u001b[K.utf8\n"
     ]
    }
   ],
   "source": [
    "localectl list-locales | grep -i fr "
   ]
  },
  {
   "cell_type": "code",
   "execution_count": 5,
   "metadata": {},
   "outputs": [
    {
     "name": "stdout",
     "output_type": "stream",
     "text": [
      "\u001b[01;31m\u001b[Kfr\u001b[m\u001b[K_\u001b[01;31m\u001b[KFR\u001b[m\u001b[K.utf8\n"
     ]
    }
   ],
   "source": [
    "locale -a | grep -i fr"
   ]
  },
  {
   "cell_type": "code",
   "execution_count": 6,
   "metadata": {},
   "outputs": [],
   "source": [
    "export LANG=fr_FR.utf8"
   ]
  },
  {
   "cell_type": "code",
   "execution_count": 25,
   "metadata": {},
   "outputs": [
    {
     "name": "stdout",
     "output_type": "stream",
     "text": [
      "      Local time: lun. 2017-03-20 01:55:59 IRST\n"
     ]
    }
   ],
   "source": [
    "timedatectl | head -1"
   ]
  },
  {
   "cell_type": "markdown",
   "metadata": {},
   "source": [
    "#### Make changes permanent"
   ]
  },
  {
   "cell_type": "code",
   "execution_count": null,
   "metadata": {
    "collapsed": true
   },
   "outputs": [],
   "source": [
    "localectl set-locale LANG=fr_FR.utf8"
   ]
  },
  {
   "cell_type": "markdown",
   "metadata": {},
   "source": [
    "Also like always we can use .profile or anything like that to export LANG or other related environment variables."
   ]
  },
  {
   "cell_type": "markdown",
   "metadata": {
    "collapsed": true
   },
   "source": [
    "#### References & further reading\n",
    "\n",
    "man 5 localtime   \n",
    "man localectl   \n",
    "man timedatectl  \n",
    "man locale  \n",
    "man tzselect  \n",
    "https://en.wikipedia.org/wiki/Locale_(computer_software)  \n",
    "http://linuxfromscratch.org/lfs/view/systemd/chapter07/clock.html  \n",
    "https://wiki.archlinux.org/index.php/Time  \n",
    "https://help.ubuntu.com/community/UbuntuTime  \n",
    "https://www.cl.cam.ac.uk/~mgk25/mswish/ut-rtc.html  \n",
    "https://access.redhat.com/documentation/en-US/Red_Hat_Enterprise_Linux/7/html/System_Administrators_Guide/sect-Configuring_the_Date_and_Time-hwclock.html"
   ]
  },
  {
   "cell_type": "markdown",
   "metadata": {
    "collapsed": true
   },
   "source": [
    "---"
   ]
  },
  {
   "cell_type": "markdown",
   "metadata": {},
   "source": [
    "- - -\n",
    "## Lecture notes\n",
    "\n",
    "- All lecture notes are available at github in `ipynb` format: [https://github.com/ravexina/linux-notes](https://github.com/ravexina/linux-notes). \n",
    "\n",
    "\n",
    "- There are `html` exports of project available at: [https://ravexina.github.io/linux-notes](https://ravexina.github.io/linux-notes).\n",
    "\n",
    "## License\n",
    "<a rel=\"license\" href=\"http://creativecommons.org/licenses/by-nc-sa/4.0/\">\n",
    "<img alt=\"Creative Commons License\" style=\"border-width:0\" src=\"https://i.creativecommons.org/l/by-nc-sa/4.0/88x31.png\" />\n",
    "</a>\n",
    "\n",
    "<span property=\"dct:title\">Linux Notes</span> by \n",
    "<a href=\"http://github.com/ravexina/Linux-Notes\" property=\"cc:attributionName\" rel=\"cc:attributionURL\">Milad As (Ravexina)</a> is licensed under a <a rel=\"license\" href=\"http://creativecommons.org/licenses/by-nc-sa/4.0/\">Creative Commons Attribution-NonCommercial-ShareAlike 4.0 International License</a>.\n",
    "\n",
    "- - -\n",
    "\n",
    "<a rel=\"license\" href=\"https://gitlab.com/ravexina/\"><img alt=\"ravexina's gitlab\" style=\"display:inline;border-width:0;height:30px;float:left;\" src=\"img/logo/logo-square.png\" /></a> \n",
    "\n",
    "<a rel=\"license\" href=\"https://github.com/ravexina/\"><img alt=\"ravexina's github\" style=\"float:right;display:inline;border-width:0;height:30px;\" src=\"img/logo/GitHub_Logo.png\" /></a>"
   ]
  }
 ],
 "metadata": {
  "kernelspec": {
   "display_name": "Bash",
   "language": "bash",
   "name": "bash"
  },
  "language_info": {
   "codemirror_mode": "shell",
   "file_extension": ".sh",
   "mimetype": "text/x-sh",
   "name": "bash"
  }
 },
 "nbformat": 4,
 "nbformat_minor": 2
}
