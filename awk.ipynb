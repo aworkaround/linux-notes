{
 "cells": [
  {
   "cell_type": "markdown",
   "metadata": {},
   "source": [
    "# Awk\n",
    "\n",
    "## Basics"
   ]
  },
  {
   "cell_type": "code",
   "execution_count": 9,
   "metadata": {},
   "outputs": [
    {
     "name": "stdout",
     "output_type": "stream",
     "text": [
      "root:x:0:0:root:/root:/bin/bash\n",
      "daemon:x:1:1:daemon:/usr/sbin:/usr/sbin/nologin\n",
      "bin:x:2:2:bin:/bin:/usr/sbin/nologin\n"
     ]
    }
   ],
   "source": [
    "awk '{ print $1 }' /etc/passwd | head -n 3"
   ]
  },
  {
   "cell_type": "code",
   "execution_count": 8,
   "metadata": {},
   "outputs": [
    {
     "name": "stdout",
     "output_type": "stream",
     "text": [
      "root\n",
      "daemon\n",
      "bin\n"
     ]
    }
   ],
   "source": [
    "awk -F: '{ print $1 }' /etc/passwd | head -n 3"
   ]
  },
  {
   "cell_type": "code",
   "execution_count": 21,
   "metadata": {},
   "outputs": [
    {
     "name": "stdout",
     "output_type": "stream",
     "text": [
      "BEGIN { FS=\":\"; print \"User - Shell\"; print \"----\"}\n",
      "$3 >= 1000 { print $1 \" \" count \", Shell: \" $7; count++ }\n",
      "END { print \"----\\ntotal:\" NR; print \"found:\" count }\n"
     ]
    }
   ],
   "source": [
    "cat awk.s"
   ]
  },
  {
   "cell_type": "code",
   "execution_count": 23,
   "metadata": {},
   "outputs": [
    {
     "name": "stdout",
     "output_type": "stream",
     "text": [
      "User - Shell\n",
      "----\n",
      "nobody , Shell: /usr/sbin/nologin\n",
      "milad 1, Shell: /bin/bash\n",
      "raven 2, Shell: /bin/bash\n",
      "libvirt-qemu 3, Shell: /bin/false\n",
      "----\n",
      "total:43\n",
      "found:4\n"
     ]
    }
   ],
   "source": [
    "awk -f awk.s /etc/passwd"
   ]
  },
  {
   "cell_type": "markdown",
   "metadata": {},
   "source": [
    "BEGIN, END: will be run once  \n",
    "FS: The input field separator, a space by default.  \n",
    "NR: The total number of input records seen so far.  \n",
    "OFS: The output field separator, a space by default.  "
   ]
  },
  {
   "cell_type": "code",
   "execution_count": 24,
   "metadata": {},
   "outputs": [
    {
     "name": "stdout",
     "output_type": "stream",
     "text": [
      "BEGIN { FS=\":\"; }\n",
      "/^m/ { print $1; count++ }\n",
      "END { print \"found:\" count }\n"
     ]
    }
   ],
   "source": [
    "cat awk.s"
   ]
  },
  {
   "cell_type": "code",
   "execution_count": 25,
   "metadata": {},
   "outputs": [
    {
     "name": "stdout",
     "output_type": "stream",
     "text": [
      "man\n",
      "mail\n",
      "messagebus\n",
      "milad\n",
      "found:4\n"
     ]
    }
   ],
   "source": [
    "awk -f awk.s /etc/passwd"
   ]
  },
  {
   "cell_type": "code",
   "execution_count": 26,
   "metadata": {},
   "outputs": [
    {
     "name": "stdout",
     "output_type": "stream",
     "text": [
      "ROOT\n",
      "DAEMON\n",
      "BIN\n"
     ]
    }
   ],
   "source": [
    "awk -F':' '{print toupper($1)}' /etc/passwd | head -3"
   ]
  },
  {
   "cell_type": "code",
   "execution_count": 27,
   "metadata": {},
   "outputs": [
    {
     "name": "stdout",
     "output_type": "stream",
     "text": [
      "root/bin/bash\n",
      "daemon/usr/sbin/nologin\n",
      "bin/usr/sbin/nologin\n"
     ]
    }
   ],
   "source": [
    "awk -F':' '{print $1 $7}' /etc/passwd | head -3"
   ]
  },
  {
   "cell_type": "code",
   "execution_count": 28,
   "metadata": {},
   "outputs": [
    {
     "name": "stdout",
     "output_type": "stream",
     "text": [
      "root /bin/bash\n",
      "daemon /usr/sbin/nologin\n",
      "bin /usr/sbin/nologin\n"
     ]
    }
   ],
   "source": [
    "awk -F':' '{print $1, $7}' /etc/passwd | head -3"
   ]
  },
  {
   "cell_type": "markdown",
   "metadata": {},
   "source": [
    "comma , is field separator.  \n",
    "The default separator is space.  \n",
    "we can change it using OSF variable."
   ]
  },
  {
   "cell_type": "code",
   "execution_count": 57,
   "metadata": {},
   "outputs": [
    {
     "name": "stdout",
     "output_type": "stream",
     "text": [
      "1:root:/bin/bash:0.237788\n",
      "2:daemon:/usr/sbin/nologin:0.291066\n",
      "3:bin:/usr/sbin/nologin:0.845814\n"
     ]
    }
   ],
   "source": [
    "awk -F':' 'BEGIN { OFS=\":\" } { count++; print count, $1, $7, rand() }' /etc/passwd | head -3"
   ]
  },
  {
   "cell_type": "markdown",
   "metadata": {},
   "source": [
    "## And"
   ]
  },
  {
   "cell_type": "code",
   "execution_count": 62,
   "metadata": {},
   "outputs": [
    {
     "name": "stdout",
     "output_type": "stream",
     "text": [
      "milad    \u001b[01;31m\u001b[Kpts/7\u001b[m\u001b[K        :0               Tue May  2 20:32 - 20:33  (00:00)\n"
     ]
    }
   ],
   "source": [
    "last | grep milad | grep pts/7"
   ]
  },
  {
   "cell_type": "code",
   "execution_count": 80,
   "metadata": {},
   "outputs": [
    {
     "name": "stdout",
     "output_type": "stream",
     "text": [
      "milad    pts/7        :0               Tue May  2 20:32 - 20:33  (00:00)\n"
     ]
    }
   ],
   "source": [
    "last | awk \"(/milad/ && /pts\\/7/)\""
   ]
  },
  {
   "cell_type": "markdown",
   "metadata": {},
   "source": [
    "## Or"
   ]
  },
  {
   "cell_type": "code",
   "execution_count": 64,
   "metadata": {},
   "outputs": [
    {
     "name": "stdout",
     "output_type": "stream",
     "text": [
      "milad    \u001b[01;31m\u001b[Kpts/6\u001b[m\u001b[K        :0.0             Sun May 21 22:40 - 01:21  (02:40)\n",
      "milad    \u001b[01;31m\u001b[Kpts/6\u001b[m\u001b[K        :0               Fri May  5 23:04 - 23:05  (00:00)\n",
      "milad    \u001b[01;31m\u001b[Kpts/7\u001b[m\u001b[K        :0               Tue May  2 20:32 - 20:33  (00:00)\n",
      "milad    \u001b[01;31m\u001b[Kpts/6\u001b[m\u001b[K        :0               Tue May  2 20:32 - 20:34  (00:01)\n",
      "milad    \u001b[01;31m\u001b[Kpts/6\u001b[m\u001b[K        :0               Tue May  2 20:05 - 20:05  (00:00)\n",
      "milad    \u001b[01;31m\u001b[Kpts/6\u001b[m\u001b[K        :0.0             Mon May  1 22:23 - 00:10  (01:47)\n"
     ]
    }
   ],
   "source": [
    "last | grep milad | grep -e pts/6 -e  pts/7"
   ]
  },
  {
   "cell_type": "code",
   "execution_count": 65,
   "metadata": {},
   "outputs": [
    {
     "name": "stdout",
     "output_type": "stream",
     "text": [
      "milad    \u001b[01;31m\u001b[Kpts/6\u001b[m\u001b[K        :0.0             Sun May 21 22:40 - 01:21  (02:40)\n",
      "milad    \u001b[01;31m\u001b[Kpts/6\u001b[m\u001b[K        :0               Fri May  5 23:04 - 23:05  (00:00)\n",
      "milad    \u001b[01;31m\u001b[Kpts/7\u001b[m\u001b[K        :0               Tue May  2 20:32 - 20:33  (00:00)\n",
      "milad    \u001b[01;31m\u001b[Kpts/6\u001b[m\u001b[K        :0               Tue May  2 20:32 - 20:34  (00:01)\n",
      "milad    \u001b[01;31m\u001b[Kpts/6\u001b[m\u001b[K        :0               Tue May  2 20:05 - 20:05  (00:00)\n",
      "milad    \u001b[01;31m\u001b[Kpts/6\u001b[m\u001b[K        :0.0             Mon May  1 22:23 - 00:10  (01:47)\n"
     ]
    }
   ],
   "source": [
    "last | grep milad | grep -E \"pts/6|pts/7\""
   ]
  },
  {
   "cell_type": "code",
   "execution_count": 76,
   "metadata": {},
   "outputs": [
    {
     "name": "stdout",
     "output_type": "stream",
     "text": [
      "milad    pts/6        :0.0             Sun May 21 22:40 - 01:21  (02:40)\n",
      "milad    pts/6        :0               Fri May  5 23:04 - 23:05  (00:00)\n",
      "milad    pts/7        :0               Tue May  2 20:32 - 20:33  (00:00)\n",
      "milad    pts/6        :0               Tue May  2 20:32 - 20:34  (00:01)\n",
      "milad    pts/6        :0               Tue May  2 20:05 - 20:05  (00:00)\n",
      "milad    pts/6        :0.0             Mon May  1 22:23 - 00:10  (01:47)\n"
     ]
    }
   ],
   "source": [
    "last | awk \"(/milad/ && (/pts\\/6/||/pts\\/7/))\""
   ]
  },
  {
   "cell_type": "code",
   "execution_count": 81,
   "metadata": {},
   "outputs": [
    {
     "name": "stdout",
     "output_type": "stream",
     "text": [
      "Username         Port     From             Latest\n",
      "milad            tty1                      Fri May 26 11:28:43 +0430 2017\n"
     ]
    }
   ],
   "source": [
    "lastlog | grep -v \"Never\""
   ]
  },
  {
   "cell_type": "code",
   "execution_count": 85,
   "metadata": {},
   "outputs": [
    {
     "name": "stdout",
     "output_type": "stream",
     "text": [
      "Username         Port     From             Latest\n",
      "milad            tty1                      Fri May 26 11:28:43 +0430 2017\n"
     ]
    }
   ],
   "source": [
    "lastlog | awk \"!(/Never/)\""
   ]
  },
  {
   "cell_type": "code",
   "execution_count": 5,
   "metadata": {},
   "outputs": [
    {
     "name": "stdout",
     "output_type": "stream",
     "text": [
      "adm:x:4:syslog,milad\n"
     ]
    }
   ],
   "source": [
    "awk \"/milad/ && /syslog/\" /etc/group"
   ]
  },
  {
   "cell_type": "code",
   "execution_count": 29,
   "metadata": {},
   "outputs": [
    {
     "name": "stdout",
     "output_type": "stream",
     "text": [
      "syslog:x:108:\n",
      "milad:x:1000:\n"
     ]
    }
   ],
   "source": [
    "awk '(/milad/ || /syslog/) && !(/milad$/)' /etc/group"
   ]
  },
  {
   "cell_type": "code",
   "execution_count": 25,
   "metadata": {},
   "outputs": [
    {
     "name": "stdout",
     "output_type": "stream",
     "text": [
      "syslog\n"
     ]
    }
   ],
   "source": [
    "awk -F ':' '(/milad/ || /syslog/) && !(/milad$/) && $3 < 1000 { print $1 }' /etc/group"
   ]
  },
  {
   "cell_type": "code",
   "execution_count": 50,
   "metadata": {},
   "outputs": [
    {
     "name": "stdout",
     "output_type": "stream",
     "text": [
      "- - - - -\n",
      "1:syslog\n",
      "* * * * *\n",
      "Total rows:71\n",
      "Found:1\n",
      "Fields:4\n"
     ]
    }
   ],
   "source": [
    "awk 'BEGIN {FS=\":\"; print \"- - - - -\"} (/milad/ || /syslog/) && !(/milad$/) && $3 < 1000 { cnt++; print cnt\":\"$1 }\\\n",
    "END { print \"* * * * *\\nTotal rows:\" NR; print \"Found:\" cnt \"\\n\" \"Fields:\" NF}' /etc/group"
   ]
  },
  {
   "cell_type": "code",
   "execution_count": 54,
   "metadata": {},
   "outputs": [
    {
     "name": "stdout",
     "output_type": "stream",
     "text": [
      "\u001b[01;31m\u001b[Kadm:\u001b[m\u001b[Kx:4:syslog,milad\n"
     ]
    }
   ],
   "source": [
    "grep adm: /etc/group"
   ]
  },
  {
   "cell_type": "code",
   "execution_count": 7,
   "metadata": {},
   "outputs": [
    {
     "name": "stdout",
     "output_type": "stream",
     "text": [
      "BEGIN { FS=\":\"; print \"------\"; count=0;}\n",
      "$4 ~ $1{\n",
      " count++; print $1 \n",
      "}\n",
      "END { print \"------\"; print \"Number:\", count }\n",
      "\n"
     ]
    }
   ],
   "source": [
    "cat awk.s"
   ]
  },
  {
   "cell_type": "code",
   "execution_count": 8,
   "metadata": {},
   "outputs": [
    {
     "name": "stdout",
     "output_type": "stream",
     "text": [
      "------\n",
      "milad\n",
      "raven\n",
      "------\n",
      "Number: 2\n"
     ]
    }
   ],
   "source": [
    "awk -f awk.s /etc/group"
   ]
  },
  {
   "cell_type": "code",
   "execution_count": 9,
   "metadata": {},
   "outputs": [
    {
     "name": "stdout",
     "output_type": "stream",
     "text": [
      "BEGIN { FS=\":\"; print \"------\"; count=0;}\n",
      "{\n",
      " if($4 ~ $1){\n",
      " count++; print $1\n",
      " }\n",
      "}\n",
      "END { print \"------\"; print \"Number:\", count }\n"
     ]
    }
   ],
   "source": [
    "cat awk.s # same as above script"
   ]
  },
  {
   "cell_type": "code",
   "execution_count": 10,
   "metadata": {},
   "outputs": [
    {
     "name": "stdout",
     "output_type": "stream",
     "text": [
      "hi this\n",
      "is a\n",
      "sample file\n",
      "\n",
      "here is\n",
      "somethig else\n",
      "separated with\n",
      "two new line\n"
     ]
    }
   ],
   "source": [
    "cat txt"
   ]
  },
  {
   "cell_type": "code",
   "execution_count": 13,
   "metadata": {},
   "outputs": [
    {
     "name": "stdout",
     "output_type": "stream",
     "text": [
      "here is\n",
      "somethig else\n",
      "separated with\n",
      "two new line\n",
      "\n"
     ]
    }
   ],
   "source": [
    "awk 'BEGIN {RS=\"\\n\\n\"} $0 ~ /sep/{ print }' txt"
   ]
  },
  {
   "cell_type": "markdown",
   "metadata": {},
   "source": [
    "RS: Record separator, default is \\n"
   ]
  },
  {
   "cell_type": "code",
   "execution_count": 6,
   "metadata": {},
   "outputs": [
    {
     "name": "stdout",
     "output_type": "stream",
     "text": [
      "separated with\n"
     ]
    }
   ],
   "source": [
    "awk '/sep/{ print }' txt"
   ]
  },
  {
   "cell_type": "code",
   "execution_count": 21,
   "metadata": {},
   "outputs": [
    {
     "name": "stdout",
     "output_type": "stream",
     "text": [
      "docker : 1\n",
      "wireshark : 1\n",
      "lpadmin : 1\n",
      "dip : 1\n",
      "sambashare : 1\n",
      "plugdev : 1\n",
      "sudo : 1\n",
      "cdrom : 1\n",
      "adm : 2\n"
     ]
    }
   ],
   "source": [
    "awk -F\":\" '$4 ~ /milad/ { if ($1 != \"milad\") a[$1]=gsub(\",\", $4)} END { for ( i in a) { print i, \":\", ++a[i] } }' \\\n",
    "/etc/group # find number of users each group has"
   ]
  },
  {
   "cell_type": "markdown",
   "metadata": {
    "collapsed": true
   },
   "source": [
    "- - -\n",
    "## Lecture notes\n",
    "\n",
    "- All lecture notes are available at github in `ipynb` format: [https://github.com/ravexina/linux-notes](https://github.com/ravexina/linux-notes). \n",
    "\n",
    "\n",
    "- There are `html` exports of project available at: [https://ravexina.github.io/linux-notes](https://ravexina.github.io/linux-notes).\n",
    "\n",
    "## License\n",
    "<a rel=\"license\" href=\"http://creativecommons.org/licenses/by-nc-sa/4.0/\">\n",
    "<img alt=\"Creative Commons License\" style=\"border-width:0\" src=\"https://i.creativecommons.org/l/by-nc-sa/4.0/88x31.png\" />\n",
    "</a>\n",
    "\n",
    "<span property=\"dct:title\">Linux Notes</span> by \n",
    "<a href=\"http://github.com/ravexina/Linux-Notes\" property=\"cc:attributionName\" rel=\"cc:attributionURL\">Milad As (Ravexina)</a> is licensed under a <a rel=\"license\" href=\"http://creativecommons.org/licenses/by-nc-sa/4.0/\">Creative Commons Attribution-NonCommercial-ShareAlike 4.0 International License</a>.\n",
    "\n",
    "- - -\n",
    "\n",
    "<a rel=\"license\" href=\"https://gitlab.com/ravexina/\"><img alt=\"ravexina's gitlab\" style=\"display:inline;border-width:0;height:30px;float:left;\" src=\"img/logo/logo-square.png\" /></a> \n",
    "\n",
    "<a rel=\"license\" href=\"https://github.com/ravexina/\"><img alt=\"ravexina's github\" style=\"float:right;display:inline;border-width:0;height:30px;\" src=\"img/logo/GitHub_Logo.png\" /></a>"
   ]
  }
 ],
 "metadata": {
  "kernelspec": {
   "display_name": "Bash",
   "language": "bash",
   "name": "bash"
  },
  "language_info": {
   "codemirror_mode": "shell",
   "file_extension": ".sh",
   "mimetype": "text/x-sh",
   "name": "bash"
  }
 },
 "nbformat": 4,
 "nbformat_minor": 2
}
