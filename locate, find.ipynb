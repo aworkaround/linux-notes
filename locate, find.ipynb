{
 "cells": [
  {
   "cell_type": "markdown",
   "metadata": {},
   "source": [
    "## Locate"
   ]
  },
  {
   "cell_type": "code",
   "execution_count": 1,
   "metadata": {
    "slideshow": {
     "slide_type": "subslide"
    }
   },
   "outputs": [
    {
     "name": "stdout",
     "output_type": "stream",
     "text": [
      "/boot/grub/grub.cfg\n",
      "/usr/share/doc/grub-common/examples/grub.cfg\n"
     ]
    }
   ],
   "source": [
    "locate grub.cfg"
   ]
  },
  {
   "cell_type": "code",
   "execution_count": 2,
   "metadata": {},
   "outputs": [
    {
     "name": "stdout",
     "output_type": "stream",
     "text": [
      "updatedb (8)         - update a database for mlocate\n"
     ]
    }
   ],
   "source": [
    "whatis updatedb"
   ]
  },
  {
   "cell_type": "code",
   "execution_count": 1,
   "metadata": {},
   "outputs": [
    {
     "name": "stdout",
     "output_type": "stream",
     "text": [
      "PRUNE_BIND_MOUNTS=\"yes\"\n",
      "# PRUNENAMES=\".git .bzr .hg .svn\"\n",
      "PRUNEPATHS=\"/tmp /var/spool /media /home/.ecryptfs /var/lib/schroot\"\n",
      "PRUNEFS=\"NFS nfs nfs4 rpc_pipefs afs binfmt_misc proc smbfs autofs iso9660 ncpfs coda devpts ftpfs devfs mfs shfs sysfs cifs lustre tmpfs usbfs udf fuse.glusterfs fuse.sshfs curlftpfs ecryptfs fusesmb devtmpfs\"\n"
     ]
    }
   ],
   "source": [
    "cat /etc/updatedb.conf"
   ]
  },
  {
   "cell_type": "code",
   "execution_count": 3,
   "metadata": {},
   "outputs": [
    {
     "name": "stdout",
     "output_type": "stream",
     "text": [
      "/usr/bin/locate\n"
     ]
    }
   ],
   "source": [
    "which locate"
   ]
  },
  {
   "cell_type": "code",
   "execution_count": 5,
   "metadata": {},
   "outputs": [
    {
     "name": "stdout",
     "output_type": "stream",
     "text": [
      "lrwxrwxrwx 1 root root 24 Aug  7 20:56 \u001b[0m\u001b[01;36m/usr/bin/locate\u001b[0m -> \u001b[30;43m/etc/alternatives/locate\u001b[0m*\n"
     ]
    }
   ],
   "source": [
    "ll `which locate`"
   ]
  },
  {
   "cell_type": "code",
   "execution_count": 6,
   "metadata": {},
   "outputs": [
    {
     "name": "stdout",
     "output_type": "stream",
     "text": [
      "lrwxrwxrwx 1 root root 16 Aug  7 20:56 \u001b[0m\u001b[01;36m/etc/alternatives/locate\u001b[0m -> \u001b[30;43m/usr/bin/mlocate\u001b[0m*\n"
     ]
    }
   ],
   "source": [
    "ll /etc/alternatives/locate"
   ]
  },
  {
   "cell_type": "code",
   "execution_count": 7,
   "metadata": {},
   "outputs": [
    {
     "name": "stdout",
     "output_type": "stream",
     "text": [
      "mlocate (1)          - find files by name\n"
     ]
    }
   ],
   "source": [
    "whatis mlocate"
   ]
  },
  {
   "cell_type": "code",
   "execution_count": 8,
   "metadata": {},
   "outputs": [
    {
     "name": "stdout",
     "output_type": "stream",
     "text": [
      "locate (1)           - find files by name\n"
     ]
    }
   ],
   "source": [
    "whatis locate"
   ]
  },
  {
   "cell_type": "markdown",
   "metadata": {},
   "source": [
    "## Find"
   ]
  },
  {
   "cell_type": "code",
   "execution_count": 43,
   "metadata": {},
   "outputs": [
    {
     "name": "stdout",
     "output_type": "stream",
     "text": [
      "./Downloads/fhs-2.3.pdf\n"
     ]
    }
   ],
   "source": [
    "find -iname fhs*"
   ]
  },
  {
   "cell_type": "code",
   "execution_count": 45,
   "metadata": {
    "collapsed": true
   },
   "outputs": [],
   "source": [
    "find -name FHS*"
   ]
  },
  {
   "cell_type": "code",
   "execution_count": 46,
   "metadata": {},
   "outputs": [
    {
     "name": "stdout",
     "output_type": "stream",
     "text": [
      "./Downloads/fhs-2.3.pdf\n"
     ]
    }
   ],
   "source": [
    "find -iname FHS*"
   ]
  },
  {
   "cell_type": "code",
   "execution_count": 2,
   "metadata": {
    "collapsed": true
   },
   "outputs": [],
   "source": [
    "#find -size +200M\n",
    "#find -inum 122223 -gid \n",
    "#find -atime +1 -mtime +1\n",
    "#find -type f # f c b l d \n",
    "#find /path -para"
   ]
  },
  {
   "cell_type": "code",
   "execution_count": 20,
   "metadata": {},
   "outputs": [
    {
     "name": "stdout",
     "output_type": "stream",
     "text": [
      "10.html  8  8.html  9.html  w  x  y  z\n"
     ]
    }
   ],
   "source": [
    "ls a/"
   ]
  },
  {
   "cell_type": "code",
   "execution_count": 25,
   "metadata": {},
   "outputs": [
    {
     "name": "stdout",
     "output_type": "stream",
     "text": [
      "a/8\n",
      "a/z\n",
      "a/x\n",
      "a/w\n",
      "a/y\n"
     ]
    }
   ],
   "source": [
    "find a/ ! -iname '*.html' -type f"
   ]
  },
  {
   "cell_type": "code",
   "execution_count": 26,
   "metadata": {},
   "outputs": [
    {
     "name": "stdout",
     "output_type": "stream",
     "text": [
      "a/8\n"
     ]
    }
   ],
   "source": [
    "find a/ -iname '[1-9]'"
   ]
  },
  {
   "cell_type": "code",
   "execution_count": 29,
   "metadata": {},
   "outputs": [
    {
     "name": "stdout",
     "output_type": "stream",
     "text": [
      "/dev/watchdog0\n",
      "/dev/watchdog\n",
      "/dev/hidraw0\n",
      "/dev/vboxnetctl\n",
      "/dev/vboxdrvu\n"
     ]
    }
   ],
   "source": [
    "find /dev -type c | head -5"
   ]
  },
  {
   "cell_type": "code",
   "execution_count": 45,
   "metadata": {},
   "outputs": [
    {
     "name": "stdout",
     "output_type": "stream",
     "text": [
      "/dev/watchdog0\n",
      "/dev/watchdog\n",
      "/dev/hidraw0\n",
      "/dev/vboxnetctl\n",
      "/dev/vboxdrvu\n",
      "/dev/vboxdrv\n",
      "/dev/video0\n",
      "/dev/media0\n",
      "/dev/vboxusb/003/003\n",
      "/dev/vboxusb/003/002\n"
     ]
    }
   ],
   "source": [
    "find /dev -type c | head"
   ]
  },
  {
   "cell_type": "code",
   "execution_count": null,
   "metadata": {},
   "outputs": [],
   "source": [
    "find /dev -type b -exec ls -lhtr {} \\;"
   ]
  },
  {
   "cell_type": "raw",
   "metadata": {},
   "source": [
    "brw-rw---- 1 root disk 252, 3 Dec 24 11:39 /dev/dm-3\n",
    "brw-rw---- 1 root disk 252, 2 Dec 24 11:39 /dev/dm-2\n",
    "brw-rw---- 1 root disk 252, 1 Dec 24 11:39 /dev/dm-1\n",
    "brw-rw---- 1 root disk 252, 0 Dec 24 11:39 /dev/dm-0\n",
    "brw-rw---- 1 root disk 8, 5 Dec 24 11:39 /dev/sda5\n",
    "brw-rw---- 1 root disk 8, 2 Dec 24 11:39 /dev/sda2\n",
    "brw-rw---- 1 root disk 8, 1 Dec 24 11:39 /dev/sda1\n",
    "brw-rw----+ 1 root cdrom 11, 0 Dec 24 11:39 /dev/sr0\n",
    "brw-rw---- 1 root disk 8, 0 Dec 24 11:39 /dev/sda\n",
    "brw-rw---- 1 root disk 7, 7 Dec 24 11:39 /dev/loop7"
   ]
  },
  {
   "cell_type": "code",
   "execution_count": 3,
   "metadata": {},
   "outputs": [
    {
     "name": "stdout",
     "output_type": "stream",
     "text": [
      "/dev/shm/pulse-shm-3708256176 Milad\n",
      "/dev/shm/pulse-shm-745853968 Milad\n",
      "/dev/shm/pulse-shm-3796149152 Milad\n",
      "/dev/shm/sem.lastpassffsemaphore Milad\n",
      "/dev/shm/pulse-shm-2242611167 Milad\n",
      "/dev/shm/pulse-shm-882805694 Milad\n",
      "/dev/shm/pulse-shm-1326275543 Milad\n"
     ]
    }
   ],
   "source": [
    "# Will runs the command for each file\n",
    "find /dev -type f -exec echo {} Milad \\;"
   ]
  },
  {
   "cell_type": "code",
   "execution_count": 53,
   "metadata": {},
   "outputs": [
    {
     "name": "stdout",
     "output_type": "stream",
     "text": [
      "/dev/sda2\n",
      "/dev/sda1\n"
     ]
    }
   ],
   "source": [
    "find /dev -name sda1 -or -name sda2"
   ]
  },
  {
   "cell_type": "code",
   "execution_count": 2,
   "metadata": {},
   "outputs": [],
   "source": [
    "# find / -mtime +10 –mtime -20\n",
    "# find ~ ! -path '*/\\.*' -perm 764 -exec chmod 664 {} \\;\n",
    "# find ~ ! -path '*/\\.*' -perm 764 -type f -exec chmod 664 {} \\;"
   ]
  },
  {
   "cell_type": "markdown",
   "metadata": {},
   "source": [
    "#### Important permissions"
   ]
  },
  {
   "cell_type": "code",
   "execution_count": 1,
   "metadata": {
    "collapsed": true
   },
   "outputs": [],
   "source": [
    "cd /usr/bin"
   ]
  },
  {
   "cell_type": "code",
   "execution_count": 2,
   "metadata": {
    "collapsed": true
   },
   "outputs": [],
   "source": [
    "find -perm 4000 # exactly 4000 - having exactly a 4 and others should be 000"
   ]
  },
  {
   "cell_type": "code",
   "execution_count": 5,
   "metadata": {},
   "outputs": [
    {
     "name": "stdout",
     "output_type": "stream",
     "text": [
      "-rwsr-xr-x 1 root root 49584 Mar 29  2016 \u001b[0m\u001b[37;41m./chfn\u001b[0m\n",
      "-rwsr-sr-x 1 daemon daemon 51464 Jan 15  2016 \u001b[0m\u001b[37;41m./at\u001b[0m\n",
      "-rwsr-xr-x 1 root root 54256 Mar 29  2016 \u001b[0m\u001b[37;41m./passwd\u001b[0m\n",
      "-rwsr-xr-x 1 root root 40432 Mar 29  2016 \u001b[0m\u001b[37;41m./chsh\u001b[0m\n",
      "-rwsr-xr-x 1 root root 39904 Mar 29  2016 \u001b[0m\u001b[37;41m./newgrp\u001b[0m\n",
      "-rwsr-xr-x 1 root root 75304 Mar 29  2016 \u001b[0m\u001b[37;41m./gpasswd\u001b[0m\n",
      "-rwsr-xr-x 1 root root 23376 Jan 18  2016 \u001b[0m\u001b[37;41m./pkexec\u001b[0m\n",
      "-rwsr-xr-x 1 root root 136808 Jan 20 19:34 \u001b[0m\u001b[37;41m./sudo\u001b[0m\n"
     ]
    }
   ],
   "source": [
    "find -perm -4000 -exec ls --color -l {} \\; # having 4 is necessary - others does not matter"
   ]
  },
  {
   "cell_type": "code",
   "execution_count": 6,
   "metadata": {},
   "outputs": [
    {
     "name": "stdout",
     "output_type": "stream",
     "text": [
      "-rwsr-sr-x 1 daemon daemon 51464 Jan 15  2016 \u001b[0m\u001b[37;41m./at\u001b[0m\n"
     ]
    }
   ],
   "source": [
    "find -perm -6000 -exec ls --color -l {} \\; # having 4 and 2 is necessary - others does not matter"
   ]
  },
  {
   "cell_type": "code",
   "execution_count": 9,
   "metadata": {},
   "outputs": [
    {
     "name": "stdout",
     "output_type": "stream",
     "text": [
      "-rwsr-sr-x 1 daemon daemon 51464 Jan 15  2016 \u001b[0m\u001b[37;41m./at\u001b[0m\n",
      "-rwxr-sr-x 1 root tty 27368 Dec 16 19:10 \u001b[0m\u001b[30;43m./wall\u001b[0m\n",
      "-rwxr-sr-x 1 root crontab 36080 Apr  6  2016 \u001b[0m\u001b[30;43m./crontab\u001b[0m\n",
      "-rwxr-sr-x 1 root shadow 62336 Mar 29  2016 \u001b[0m\u001b[30;43m./chage\u001b[0m\n",
      "-rwxr-sr-x 1 root mlocate 39520 Nov 18  2014 \u001b[0m\u001b[30;43m./mlocate\u001b[0m\n",
      "-rwxr-sr-x 1 root ssh 358624 Aug 11  2016 \u001b[0m\u001b[30;43m./ssh-agent\u001b[0m\n",
      "-rwxr-sr-x 1 root shadow 22768 Mar 29  2016 \u001b[0m\u001b[30;43m./expiry\u001b[0m\n",
      "-rwxr-sr-x 1 root tty 14752 Mar  1  2016 \u001b[0m\u001b[30;43m./bsd-write\u001b[0m\n",
      "-rwxr-sr-x 1 root utmp 434216 Feb  7  2016 \u001b[0m\u001b[30;43m./screen\u001b[0m\n"
     ]
    }
   ],
   "source": [
    "find -perm -2000 -exec ls --color -l {} \\; # having 2 is necessary - others does not matter"
   ]
  },
  {
   "cell_type": "code",
   "execution_count": 10,
   "metadata": {},
   "outputs": [
    {
     "name": "stdout",
     "output_type": "stream",
     "text": [
      "-rwsr-xr-x 1 root root 49584 Mar 29  2016 \u001b[0m\u001b[37;41m./chfn\u001b[0m\n",
      "-rwsr-sr-x 1 daemon daemon 51464 Jan 15  2016 \u001b[0m\u001b[37;41m./at\u001b[0m\n",
      "-rwsr-xr-x 1 root root 54256 Mar 29  2016 \u001b[0m\u001b[37;41m./passwd\u001b[0m\n",
      "-rwxr-sr-x 1 root tty 27368 Dec 16 19:10 \u001b[0m\u001b[30;43m./wall\u001b[0m\n",
      "-rwsr-xr-x 1 root root 40432 Mar 29  2016 \u001b[0m\u001b[37;41m./chsh\u001b[0m\n",
      "-rwxr-sr-x 1 root crontab 36080 Apr  6  2016 \u001b[0m\u001b[30;43m./crontab\u001b[0m\n",
      "-rwxr-sr-x 1 root shadow 62336 Mar 29  2016 \u001b[0m\u001b[30;43m./chage\u001b[0m\n",
      "-rwsr-xr-x 1 root root 39904 Mar 29  2016 \u001b[0m\u001b[37;41m./newgrp\u001b[0m\n",
      "-rwxr-sr-x 1 root mlocate 39520 Nov 18  2014 \u001b[0m\u001b[30;43m./mlocate\u001b[0m\n",
      "-rwxr-sr-x 1 root ssh 358624 Aug 11  2016 \u001b[0m\u001b[30;43m./ssh-agent\u001b[0m\n",
      "-rwxr-sr-x 1 root shadow 22768 Mar 29  2016 \u001b[0m\u001b[30;43m./expiry\u001b[0m\n",
      "-rwsr-xr-x 1 root root 75304 Mar 29  2016 \u001b[0m\u001b[37;41m./gpasswd\u001b[0m\n",
      "-rwsr-xr-x 1 root root 23376 Jan 18  2016 \u001b[0m\u001b[37;41m./pkexec\u001b[0m\n",
      "-rwxr-sr-x 1 root tty 14752 Mar  1  2016 \u001b[0m\u001b[30;43m./bsd-write\u001b[0m\n",
      "-rwxr-sr-x 1 root utmp 434216 Feb  7  2016 \u001b[0m\u001b[30;43m./screen\u001b[0m\n",
      "-rwsr-xr-x 1 root root 136808 Jan 20 19:34 \u001b[0m\u001b[37;41m./sudo\u001b[0m\n"
     ]
    }
   ],
   "source": [
    "find -perm /6000 -exec ls --color -l {} \\; # having 2 OR 4 OR both is necessary - others does not matter"
   ]
  },
  {
   "cell_type": "code",
   "execution_count": 15,
   "metadata": {},
   "outputs": [
    {
     "name": "stdout",
     "output_type": "stream",
     "text": [
      "drwxrwxrwt 12 root root 12288 Mar  5 14:45 \u001b[0m\u001b[30;42m/tmp\u001b[0m\n"
     ]
    }
   ],
   "source": [
    "find / -maxdepth 1 -perm /3000 -exec ls --color -dl {} \\; # having 2 OR 1 OR both is necessary - others does not matter"
   ]
  },
  {
   "cell_type": "code",
   "execution_count": 1,
   "metadata": {},
   "outputs": [
    {
     "name": "stdout",
     "output_type": "stream",
     "text": [
      "-rwsr-sr-x 1 daemon daemon 51464 Jan 15  2016 \u001b[0m\u001b[37;41m/usr/bin/at\u001b[0m\n"
     ]
    }
   ],
   "source": [
    "find /usr/bin/ ! -user root -perm /6000 -exec ls -l --color {} \\;"
   ]
  },
  {
   "cell_type": "code",
   "execution_count": 2,
   "metadata": {
    "collapsed": true
   },
   "outputs": [],
   "source": [
    "find /usr/local/ -nouser"
   ]
  },
  {
   "cell_type": "markdown",
   "metadata": {
    "collapsed": true
   },
   "source": [
    "- - -\n",
    "## Lecture notes\n",
    "\n",
    "- All lecture notes are available at github in `ipynb` format: [https://github.com/ravexina/linux-notes](https://github.com/ravexina/linux-notes). \n",
    "\n",
    "\n",
    "- There are `html` exports of project available at: [https://ravexina.github.io/linux-notes](https://ravexina.github.io/linux-notes).\n",
    "\n",
    "## License\n",
    "<a rel=\"license\" href=\"http://creativecommons.org/licenses/by-nc-sa/4.0/\">\n",
    "<img alt=\"Creative Commons License\" style=\"border-width:0\" src=\"https://i.creativecommons.org/l/by-nc-sa/4.0/88x31.png\" />\n",
    "</a>\n",
    "\n",
    "<span property=\"dct:title\">Linux Notes</span> by \n",
    "<a href=\"http://github.com/ravexina/Linux-Notes\" property=\"cc:attributionName\" rel=\"cc:attributionURL\">Milad As (Ravexina)</a> is licensed under a <a rel=\"license\" href=\"http://creativecommons.org/licenses/by-nc-sa/4.0/\">Creative Commons Attribution-NonCommercial-ShareAlike 4.0 International License</a>.\n",
    "\n",
    "- - -\n",
    "\n",
    "<a rel=\"license\" href=\"https://gitlab.com/ravexina/\"><img alt=\"ravexina's gitlab\" style=\"display:inline;border-width:0;height:30px;float:left;\" src=\"img/logo/logo-square.png\" /></a> \n",
    "\n",
    "<a rel=\"license\" href=\"https://github.com/ravexina/\"><img alt=\"ravexina's github\" style=\"float:right;display:inline;border-width:0;height:30px;\" src=\"img/logo/GitHub_Logo.png\" /></a>"
   ]
  }
 ],
 "metadata": {
  "kernelspec": {
   "display_name": "Bash",
   "language": "bash",
   "name": "bash"
  },
  "language_info": {
   "codemirror_mode": "shell",
   "file_extension": ".sh",
   "mimetype": "text/x-sh",
   "name": "bash"
  }
 },
 "nbformat": 4,
 "nbformat_minor": 2
}
