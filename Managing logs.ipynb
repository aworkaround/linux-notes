{
 "cells": [
  {
   "cell_type": "markdown",
   "metadata": {},
   "source": [
    "## Managing Logs\n",
    "\n",
    "- lastlog\n",
    "- last, lastb\n",
    "- dmsg\n",
    "- syslog, logger, logrotate\n",
    "- journalctl"
   ]
  },
  {
   "cell_type": "markdown",
   "metadata": {},
   "source": [
    "## lastlog"
   ]
  },
  {
   "cell_type": "code",
   "execution_count": 29,
   "metadata": {},
   "outputs": [
    {
     "name": "stdout",
     "output_type": "stream",
     "text": [
      "Username         Port     From             Latest\n",
      "milad            tty1                      Tue Feb 28 13:57:38 +0330 2017\n"
     ]
    }
   ],
   "source": [
    "lastlog -u milad"
   ]
  },
  {
   "cell_type": "code",
   "execution_count": 47,
   "metadata": {},
   "outputs": [
    {
     "name": "stdout",
     "output_type": "stream",
     "text": [
      "vnstat                                     **Never logged in**\n",
      "raven                                      **Never logged in**\n",
      "nm-openvpn                                 **Never logged in**\n"
     ]
    }
   ],
   "source": [
    "lastlog | tail -3"
   ]
  },
  {
   "cell_type": "code",
   "execution_count": 48,
   "metadata": {},
   "outputs": [
    {
     "name": "stdout",
     "output_type": "stream",
     "text": [
      "Username         Port     From             Latest\n",
      "milad            tty1                      Tue Feb 28 13:57:38 +0330 2017\n"
     ]
    }
   ],
   "source": [
    "lastlog | grep -vi never"
   ]
  },
  {
   "cell_type": "markdown",
   "metadata": {},
   "source": [
    "## last, lastb"
   ]
  },
  {
   "cell_type": "code",
   "execution_count": 37,
   "metadata": {},
   "outputs": [
    {
     "name": "stdout",
     "output_type": "stream",
     "text": [
      "milad    pts/9        :0               Tue Feb 28 19:32 - 19:32  (00:00)\n",
      "\n",
      "wtmp begins Wed Feb  1 20:14:48 2017\n"
     ]
    }
   ],
   "source": [
    "# last --help\n",
    "last --since \"5 min ago\" -n 1"
   ]
  },
  {
   "cell_type": "code",
   "execution_count": 78,
   "metadata": {},
   "outputs": [
    {
     "name": "stdout",
     "output_type": "stream",
     "text": [
      "milad    pts/2        :0               Wed Feb  1 20:14 - 22:39  (02:24)\n",
      "milad    pts/1        :0               Wed Feb  1 22:47 - 23:41  (00:54)\n",
      "milad    pts/2        :0               Wed Feb  1 23:37 - 23:47  (00:10)\n",
      "milad    pts/0        :0               Wed Feb  1 23:47 - 23:47  (00:00)\n"
     ]
    }
   ],
   "source": [
    "last | tail -6 | tac | tail -4"
   ]
  },
  {
   "cell_type": "code",
   "execution_count": 40,
   "metadata": {},
   "outputs": [
    {
     "name": "stdout",
     "output_type": "stream",
     "text": [
      "reboot   system boot  4.4.0-64-generic Tue Feb 28 13:57   still running\n",
      "reboot   system boot  4.4.0-64-generic Mon Feb 27 12:14   still running\n",
      "reboot   system boot  4.4.0-64-generic Sun Feb 26 22:31 - 02:23  (03:51)\n",
      "reboot   system boot  4.4.0-64-generic Sat Feb 25 20:17 - 18:05  (21:48)\n",
      "reboot   system boot  4.4.0-64-generic Sat Feb 25 09:38 - 18:05 (1+08:26)\n",
      "\n",
      "wtmp begins Wed Feb  1 20:14:48 2017\n"
     ]
    }
   ],
   "source": [
    "last reboot -n5"
   ]
  },
  {
   "cell_type": "code",
   "execution_count": null,
   "metadata": {
    "collapsed": true
   },
   "outputs": [],
   "source": [
    "sudo lastb"
   ]
  },
  {
   "cell_type": "markdown",
   "metadata": {},
   "source": [
    "milad    tty1                          Fri Feb 24 12:26 - 12:26  (00:00)"
   ]
  },
  {
   "cell_type": "code",
   "execution_count": 43,
   "metadata": {},
   "outputs": [
    {
     "name": "stdout",
     "output_type": "stream",
     "text": [
      "/var/log/btmp\n",
      "/var/log/wtmp\n"
     ]
    }
   ],
   "source": [
    "ls /var/log/*tmp -1"
   ]
  },
  {
   "cell_type": "markdown",
   "metadata": {},
   "source": [
    "## dmesg\n",
    "\n",
    "- dmesg obtains its data by reading the kernel ring buffer.\n",
    "- buffer is a portion of a computer's memory that is set aside as a temporary holding place for data that is being sent to or received from an external device, such as a hard disk drive (HDD), printer or keyboard.\n",
    "- ring buffer is a buffer of fixed size for which any new data added to it overwrites the oldest data in it."
   ]
  },
  {
   "cell_type": "code",
   "execution_count": 5,
   "metadata": {},
   "outputs": [
    {
     "name": "stdout",
     "output_type": "stream",
     "text": [
      "dmesg (1)            - print or control the kernel ring buffer\n"
     ]
    }
   ],
   "source": [
    "whatis dmesg"
   ]
  },
  {
   "cell_type": "code",
   "execution_count": 1,
   "metadata": {},
   "outputs": [
    {
     "name": "stdout",
     "output_type": "stream",
     "text": [
      "\u001b[32m\u001b[32m\u001b[1m[Feb28 13:56] \u001b[0m\u001b[31mError parsing PCC subspaces from PCCT\u001b[0m\n",
      "\u001b[32m\u001b[32m\u001b[1m[Feb28 16:26] \u001b[0m\u001b[33msd 6:0:0:0\u001b[0m\u001b[31m: [sdb] No Caching mode page found\n",
      "\u001b[0m\u001b[32m[  +0.000004] \u001b[0m\u001b[33msd 6:0:0:0\u001b[0m\u001b[31m: [sdb] Assuming drive cache: write through\n",
      "\u001b[0m"
     ]
    }
   ],
   "source": [
    "dmesg -l err -H # Level, Human readable"
   ]
  },
  {
   "cell_type": "code",
   "execution_count": 7,
   "metadata": {},
   "outputs": [
    {
     "name": "stdout",
     "output_type": "stream",
     "text": [
      "(Nothing has been logged yet.)\n"
     ]
    }
   ],
   "source": [
    "cat /var/log/dmesg # Until system boot"
   ]
  },
  {
   "cell_type": "markdown",
   "metadata": {},
   "source": [
    "## SYSLOG, Logger, logrotate"
   ]
  },
  {
   "cell_type": "code",
   "execution_count": 22,
   "metadata": {},
   "outputs": [
    {
     "name": "stdout",
     "output_type": "stream",
     "text": [
      "1047 /usr/sbin/rsyslogd -n\n"
     ]
    }
   ],
   "source": [
    "pgrep syslog -a"
   ]
  },
  {
   "cell_type": "code",
   "execution_count": 43,
   "metadata": {},
   "outputs": [
    {
     "name": "stdout",
     "output_type": "stream",
     "text": [
      "Description-en: reliable system and kernel logging daemon\n",
      " Rsyslog is a multi-threaded implementation of syslogd (a system utility\n",
      " providing support for message logging), with features that include:\n",
      "  * reliable syslog over TCP, SSL/TLS and RELP\n",
      "  * on-demand disk buffering\n",
      "  * email alerting\n",
      "  * writing to MySQL or PostgreSQL databases (via separate output plugins)\n",
      "  * permitted sender lists\n",
      "  * filtering on any part of the syslog message\n",
      "  * on-the-wire message compression\n",
      "  * fine-grained output format control\n",
      "  * failover to backup destinations\n",
      "  * enterprise-class encrypted syslog relaying\n",
      " .\n",
      " It is the default syslogd on Debian systems.\n"
     ]
    }
   ],
   "source": [
    "# Lets see what syslog is\n",
    "\n",
    "apt-cache show rsyslog | grep -i desc -A14 -m1 | cat"
   ]
  },
  {
   "cell_type": "code",
   "execution_count": 54,
   "metadata": {},
   "outputs": [],
   "source": [
    "ls /var/log | egrep -v \"gz|.1\" | tr \"\\n\" \" \""
   ]
  },
  {
   "cell_type": "markdown",
   "metadata": {},
   "source": [
    "apt auth.log btmp dmesg kern.log \n",
    "lastlog  wtmp syslog"
   ]
  },
  {
   "cell_type": "code",
   "execution_count": 55,
   "metadata": {},
   "outputs": [
    {
     "name": "stdout",
     "output_type": "stream",
     "text": [
      "Feb 28 19:37:27 Raven sudo:    milad : TTY=pts/5 ; PWD=/etc ; USER=root ; COMMAND=/usr/bin/lastb\n"
     ]
    }
   ],
   "source": [
    "tail /var/log/auth.log | grep sudo | head -1"
   ]
  },
  {
   "cell_type": "code",
   "execution_count": 2,
   "metadata": {},
   "outputs": [],
   "source": [
    "# lets see how rsyslog manages these files\n",
    "\n",
    "# facilities  0.kern\n",
    "# priority    0 emerg\n",
    "\n",
    "# /identifier  sudo/\n",
    "\n",
    "vim /etc/rsyslog.d/50-default.conf"
   ]
  },
  {
   "cell_type": "code",
   "execution_count": 71,
   "metadata": {},
   "outputs": [],
   "source": [
    "logger -p mail.err \"Milad is not able to send mail\""
   ]
  },
  {
   "cell_type": "code",
   "execution_count": 14,
   "metadata": {},
   "outputs": [
    {
     "name": "stdout",
     "output_type": "stream",
     "text": [
      "Feb 28 19:58:06 Raven milad: Milad is not able to send mail\n"
     ]
    }
   ],
   "source": [
    "tail -1 /var/log/mail.err"
   ]
  },
  {
   "cell_type": "code",
   "execution_count": 79,
   "metadata": {},
   "outputs": [
    {
     "name": "stdout",
     "output_type": "stream",
     "text": [
      "logrotate (8)        - rotates, compresses, and mails system logs\n"
     ]
    }
   ],
   "source": [
    "whatis logrotate"
   ]
  },
  {
   "cell_type": "code",
   "execution_count": null,
   "metadata": {
    "collapsed": true
   },
   "outputs": [],
   "source": [
    "logrotate /etc/logrotate.conf"
   ]
  },
  {
   "cell_type": "code",
   "execution_count": null,
   "metadata": {
    "collapsed": true
   },
   "outputs": [],
   "source": [
    "/var/log/test.log\n",
    "{\n",
    "        rotate 4\n",
    "        weekly\n",
    "        missingok\n",
    "        notifempty\n",
    "        compress\n",
    "}"
   ]
  },
  {
   "cell_type": "markdown",
   "metadata": {},
   "source": [
    "## journalctl\n",
    "\n",
    "When used alone, every journal entry that is in the system will be displayed.\n",
    "\n",
    "- Includes logs from:\n",
    "    - the early boot process\n",
    "    - the kernel\n",
    "    - the initrd\n",
    "    - applications stdout/stderr"
   ]
  },
  {
   "cell_type": "code",
   "execution_count": 6,
   "metadata": {},
   "outputs": [
    {
     "name": "stdout",
     "output_type": "stream",
     "text": [
      "journalctl (1)       - Query the systemd journal\n"
     ]
    }
   ],
   "source": [
    "whatis journalctl"
   ]
  },
  {
   "cell_type": "code",
   "execution_count": 17,
   "metadata": {},
   "outputs": [
    {
     "name": "stdout",
     "output_type": "stream",
     "text": [
      "-- Logs begin at Tue 2017-02-28 13:57:11 IRST, end at Wed 2017-03-01 00:45:01 IRST. --\n",
      "Feb 28 19:58:06 Raven.localhost milad[13383]: \u001b[0;1;31mMilad is not able to send mail\u001b[0m\n"
     ]
    }
   ],
   "source": [
    "# remember our mail message log? \n",
    "# logger -p mail.err \"Milad is not able to send mail\"\n",
    "journalctl SYSLOG_FACILITY=2 -n1"
   ]
  },
  {
   "cell_type": "code",
   "execution_count": 8,
   "metadata": {},
   "outputs": [
    {
     "name": "stdout",
     "output_type": "stream",
     "text": [
      "-- Logs begin at Tue 2017-02-28 13:57:11 IRST, end at Tue 2017-02-28 19:00:27 IRST. --\n",
      "Feb 28 19:00:27 Raven.localhost systemd[1446]: Time has been changed\n",
      "Feb 28 19:00:27 Raven.localhost systemd[1]: Time has been changed\n",
      "Feb 28 19:00:27 Raven.localhost systemd[1]: apt-daily.timer: Adding 10h 37min 30.380011s random time.\n"
     ]
    }
   ],
   "source": [
    "journalctl -n 3"
   ]
  },
  {
   "cell_type": "code",
   "execution_count": 11,
   "metadata": {},
   "outputs": [
    {
     "name": "stdout",
     "output_type": "stream",
     "text": [
      "-- Logs begin at Tue 2017-02-28 13:57:11 IRST, end at Tue 2017-02-28 19:00:27 IRST. --\n",
      "Feb 28 19:00:27 Raven.localhost systemd[1]: Time has been changed\n",
      "-- Subject: Time change\n",
      "-- Defined-By: systemd\n",
      "-- Support: http://lists.freedesktop.org/mailman/listinfo/systemd-devel\n",
      "-- \n",
      "-- The system clock has been changed to REALTIME microseconds after January 1st, 1970.\n",
      "Feb 28 19:00:27 Raven.localhost systemd[1]: apt-daily.timer: Adding 10h 37min 30.380011s random time.\n"
     ]
    }
   ],
   "source": [
    "journalctl -n 2 -x # extra explaination (catalog)"
   ]
  },
  {
   "cell_type": "markdown",
   "metadata": {},
   "source": [
    "### Persistent Log"
   ]
  },
  {
   "cell_type": "code",
   "execution_count": null,
   "metadata": {
    "collapsed": true
   },
   "outputs": [],
   "source": [
    "# vim /etc/systemd/journald.conf\n",
    "\n",
    "[Journal]\n",
    "Storage=persistent"
   ]
  },
  {
   "cell_type": "code",
   "execution_count": null,
   "metadata": {
    "collapsed": true
   },
   "outputs": [],
   "source": [
    "man 5 journald.conf"
   ]
  },
  {
   "cell_type": "markdown",
   "metadata": {},
   "source": [
    "/Storage  \n",
    "\"volatile\", \"persistent\", \"auto\"  \n",
    "\"persistent\", data will be stored preferably on disk"
   ]
  },
  {
   "cell_type": "markdown",
   "metadata": {},
   "source": [
    "### Filter by boot or time"
   ]
  },
  {
   "cell_type": "code",
   "execution_count": 7,
   "metadata": {},
   "outputs": [
    {
     "name": "stdout",
     "output_type": "stream",
     "text": [
      " 0 8dcd6ce7c4f141eb9c52dd88b71ac0d6 Tue 2017-02-28 13:57:11 IRST—Tue 2017-02-28 16:05:01 IRST\n"
     ]
    }
   ],
   "source": [
    "journalctl --list-boots"
   ]
  },
  {
   "cell_type": "code",
   "execution_count": 11,
   "metadata": {},
   "outputs": [],
   "source": [
    "journalctl -b # Last boot"
   ]
  },
  {
   "cell_type": "code",
   "execution_count": 80,
   "metadata": {},
   "outputs": [
    {
     "name": "stdout",
     "output_type": "stream",
     "text": [
      "-- Logs begin at Tue 2017-02-28 13:57:11 IRST, end at Tue 2017-02-28 21:45:01 IRST. --\n",
      "Feb 28 21:45:01 Raven.localhost CRON[16610]: pam_unix(cron:session): session closed for user root\n"
     ]
    }
   ],
   "source": [
    "journalctl -b 8dcd6ce7c4f141eb9c52dd88b71ac0d6 -n1\n",
    "\n",
    "# journalctl -b 0"
   ]
  },
  {
   "cell_type": "code",
   "execution_count": 18,
   "metadata": {},
   "outputs": [],
   "source": [
    "journalctl --since 16:02 --until 16:07"
   ]
  },
  {
   "cell_type": "code",
   "execution_count": 17,
   "metadata": {},
   "outputs": [],
   "source": [
    "journalctl --since \"2017-02-28 16:05\""
   ]
  },
  {
   "cell_type": "markdown",
   "metadata": {},
   "source": [
    "**Available words:** \"yesterday\", \"today\", \"tomorrow\", or \"now\""
   ]
  },
  {
   "cell_type": "code",
   "execution_count": null,
   "metadata": {
    "collapsed": true
   },
   "outputs": [],
   "source": [
    "journalctl --since yesterday"
   ]
  },
  {
   "cell_type": "code",
   "execution_count": null,
   "metadata": {
    "collapsed": true
   },
   "outputs": [],
   "source": [
    "journalctl --since 01:00 --until \"5 hour ago\""
   ]
  },
  {
   "cell_type": "markdown",
   "metadata": {},
   "source": [
    "### Filter by units"
   ]
  },
  {
   "cell_type": "code",
   "execution_count": 88,
   "metadata": {},
   "outputs": [
    {
     "name": "stdout",
     "output_type": "stream",
     "text": [
      "-- Logs begin at Tue 2017-02-28 13:57:11 IRST, end at Tue 2017-02-28 21:45:01 IRST. --\n",
      "Feb 28 13:57:32 Raven.localhost systemd[1]: Started LSB: VirtualBox Linux kernel module.\n"
     ]
    }
   ],
   "source": [
    "journalctl -u virtualbox.service -n1"
   ]
  },
  {
   "cell_type": "code",
   "execution_count": 89,
   "metadata": {},
   "outputs": [
    {
     "name": "stdout",
     "output_type": "stream",
     "text": [
      "-- Logs begin at Tue 2017-02-28 13:57:11 IRST, end at Tue 2017-02-28 21:45:01 IRST. --\n",
      "Feb 28 13:57:32 Raven.localhost virtualbox[1259]:    ...done.\n"
     ]
    }
   ],
   "source": [
    "journalctl _SYSTEMD_UNIT=virtualbox.service --no-full -n1"
   ]
  },
  {
   "cell_type": "code",
   "execution_count": 18,
   "metadata": {
    "scrolled": true
   },
   "outputs": [
    {
     "name": "stdout",
     "output_type": "stream",
     "text": [
      "\u001b[0;1;32m●\u001b[0m dbus.service - D-Bus System Message Bus\n",
      "   Loaded: loaded (/lib/systemd/system/dbus.service; static; vendor preset: enabled)\n",
      "   Active: \u001b[0;1;32mactive (running)\u001b[0m since Tue 2017-02-28 13:57:22 IRST; 10h ago\n",
      "     Docs: man:dbus-daemon(1)\n",
      " Main PID: 1051 (dbus-daemon)\n",
      "   CGroup: /system.slice/dbus.service\n",
      "           └─1051 /usr/bin/dbus-daemon --system --address=systemd: --nofork -...\n",
      "\n",
      "Feb 28 15:47:05 Raven.localhost dbus[1051]: \u001b[0;1;39m[system] Activating via systemd:...'\u001b[0m\n",
      "Feb 28 15:47:05 Raven.localhost dbus[1051]: \u001b[0;1;39m[system] Successfully activated ...'\u001b[0m\n",
      "Feb 28 15:52:51 Raven.localhost dbus[1051]: \u001b[0;1;39m[system] Activating via systemd:...'\u001b[0m\n",
      "Feb 28 15:52:52 Raven.localhost dbus[1051]: \u001b[0;1;39m[system] Successfully activated ...'\u001b[0m\n",
      "Feb 28 15:54:16 Raven.localhost dbus[1051]: \u001b[0;1;39m[system] Activating via systemd:...'\u001b[0m\n",
      "Feb 28 15:54:16 Raven.localhost dbus[1051]: \u001b[0;1;39m[system] Successfully activated ...'\u001b[0m\n",
      "Feb 28 18:16:30 Raven.localhost dbus[1051]: \u001b[0;1;39m[system] Activating via systemd:...'\u001b[0m\n",
      "Feb 28 18:16:31 Raven.localhost dbus[1051]: \u001b[0;1;39m[system] Successfully activated ...'\u001b[0m\n",
      "Feb 28 20:50:11 Raven.localhost dbus[1051]: \u001b[0;1;39m[system] Activating via systemd:...'\u001b[0m\n",
      "Feb 28 20:50:11 Raven.localhost dbus[1051]: \u001b[0;1;39m[system] Successfully activated ...'\u001b[0m\n",
      "Hint: Some lines were ellipsized, use -l to show in full.\n"
     ]
    }
   ],
   "source": [
    "systemctl status dbus"
   ]
  },
  {
   "cell_type": "code",
   "execution_count": 19,
   "metadata": {},
   "outputs": [
    {
     "name": "stdout",
     "output_type": "stream",
     "text": [
      "-- Logs begin at Tue 2017-02-28 13:57:11 IRST, end at Wed 2017-03-01 00:55:01 IRST. --\n",
      "Feb 28 15:47:05 Raven.localhost dbus[1051]: \u001b[0;1;39m[system] Activating via systemd:...'\u001b[0m\n",
      "Feb 28 15:47:05 Raven.localhost dbus[1051]: \u001b[0;1;39m[system] Successfully activated ...'\u001b[0m\n",
      "Feb 28 15:52:51 Raven.localhost dbus[1051]: \u001b[0;1;39m[system] Activating via systemd:...'\u001b[0m\n",
      "Feb 28 15:52:52 Raven.localhost dbus[1051]: \u001b[0;1;39m[system] Successfully activated ...'\u001b[0m\n",
      "Feb 28 15:54:16 Raven.localhost dbus[1051]: \u001b[0;1;39m[system] Activating via systemd:...'\u001b[0m\n",
      "Feb 28 15:54:16 Raven.localhost dbus[1051]: \u001b[0;1;39m[system] Successfully activated ...'\u001b[0m\n",
      "Feb 28 18:16:30 Raven.localhost dbus[1051]: \u001b[0;1;39m[system] Activating via systemd:...'\u001b[0m\n",
      "Feb 28 18:16:31 Raven.localhost dbus[1051]: \u001b[0;1;39m[system] Successfully activated ...'\u001b[0m\n",
      "Feb 28 20:50:11 Raven.localhost dbus[1051]: \u001b[0;1;39m[system] Activating via systemd:...'\u001b[0m\n",
      "Feb 28 20:50:11 Raven.localhost dbus[1051]: \u001b[0;1;39m[system] Successfully activated ...'\u001b[0m\n"
     ]
    }
   ],
   "source": [
    "journalctl -u dbus -n --no-full"
   ]
  },
  {
   "cell_type": "code",
   "execution_count": 24,
   "metadata": {},
   "outputs": [
    {
     "name": "stdout",
     "output_type": "stream",
     "text": [
      "Feb 28 13:57:22 Raven.localhost \u001b[01;31m\u001b[Ksystemd\u001b[m\u001b[K[1]: Started D-Bus System Message Bus.\n",
      "Feb 28 13:57:22 Raven.localhost dbus-daemon[1051]: Unknown username \"whoopsie\" in message bus configuration file\n",
      "Feb 28 13:57:22 Raven.localhost dbus[1051]: [system] AppArmor D-Bus mediation is enabled\n"
     ]
    }
   ],
   "source": [
    "journalctl -u dbus.service --since yesterday -n3 -b0"
   ]
  },
  {
   "cell_type": "code",
   "execution_count": 42,
   "metadata": {},
   "outputs": [
    {
     "name": "stdout",
     "output_type": "stream",
     "text": [
      "-- Logs begin at Tue 2017-02-28 13:57:11 IRST, end at Wed 2017-03-01 01:05:01 IRST. --\n",
      "Feb 28 18:16:31 Raven.localhost dbus[1051]: \u001b[0;1;39m[system] Successfully activated ...'\u001b[0m\n",
      "Feb 28 20:50:11 Raven.localhost dbus[1051]: \u001b[0;1;39m[system] Activating via systemd:...'\u001b[0m\n",
      "Feb 28 20:50:11 Raven.localhost dbus[1051]: \u001b[0;1;39m[system] Successfully activated ...'\u001b[0m\n"
     ]
    }
   ],
   "source": [
    "journalctl -t dbus -n3 --no-full # syslog identifier (look at systemd message at above example)"
   ]
  },
  {
   "cell_type": "markdown",
   "metadata": {},
   "source": [
    "### Filter by fileds\n",
    "\n",
    "man systemd.journal-fields"
   ]
  },
  {
   "cell_type": "code",
   "execution_count": 33,
   "metadata": {},
   "outputs": [
    {
     "name": "stdout",
     "output_type": "stream",
     "text": [
      "_AUDIT_TYPE\n",
      "_UDEV_DEVNODE\n",
      "_HOSTNAME\n",
      "_GID\n",
      "_UID\n",
      "_SYSTEMD_UNIT\n",
      "_AUDIT_FIELD_PROFILE\n",
      "_BOOT_ID\n",
      "_SYSTEMD_OWNER_UID\n",
      "_AUDIT_FIELD_OPERATION\n"
     ]
    }
   ],
   "source": [
    "journalctl -N | grep \"^_\" | tail -10 "
   ]
  },
  {
   "cell_type": "code",
   "execution_count": 26,
   "metadata": {},
   "outputs": [
    {
     "name": "stdout",
     "output_type": "stream",
     "text": [
      "-- No entries --\n"
     ]
    }
   ],
   "source": [
    "journalctl _UID=`id -u privoxy`"
   ]
  },
  {
   "cell_type": "markdown",
   "metadata": {},
   "source": [
    "Available values for a given journal field:"
   ]
  },
  {
   "cell_type": "code",
   "execution_count": 40,
   "metadata": {},
   "outputs": [
    {
     "name": "stdout",
     "output_type": "stream",
     "text": [
      "audit\n",
      "syslog\n",
      "stdout\n",
      "journal\n",
      "kernel\n",
      "driver\n"
     ]
    }
   ],
   "source": [
    "journalctl -F _TRANSPORT\n",
    "# transport = How the entry was received by the journal service."
   ]
  },
  {
   "cell_type": "code",
   "execution_count": 32,
   "metadata": {},
   "outputs": [
    {
     "name": "stdout",
     "output_type": "stream",
     "text": [
      "Feb 28 13:57:11 Raven.localhost kernel: Initializing cgroup subsys cpuset\n",
      "Feb 28 13:57:11 Raven.localhost kernel: Initializing cgroup subsys cpu\n"
     ]
    }
   ],
   "source": [
    "journalctl _TRANSPORT=kernel | head -3 | tail -2"
   ]
  },
  {
   "cell_type": "code",
   "execution_count": 30,
   "metadata": {},
   "outputs": [
    {
     "name": "stdout",
     "output_type": "stream",
     "text": [
      "ntfs-3g\n",
      "milad\n",
      "upowerd\n",
      "org.gtk.vfs.Daemon\n",
      "CRON\n",
      "org.gtk.vfs.AfcVolumeMonitor\n",
      "udisksd\n",
      "systemd-timesyncd\n",
      "sudo\n",
      "dnsmasq\n"
     ]
    }
   ],
   "source": [
    "journalctl -F SYSLOG_IDENTIFIER -n10"
   ]
  },
  {
   "cell_type": "code",
   "execution_count": 39,
   "metadata": {},
   "outputs": [
    {
     "name": "stdout",
     "output_type": "stream",
     "text": [
      "-- Logs begin at Tue 2017-02-28 13:57:11 IRST, end at Wed 2017-03-01 01:05:01 IRST. --\n",
      "Feb 28 23:57:24 Raven.localhost smartd[1036]: Device: /dev/sda [SAT], SMART Usage Attribute: 194 Temperature_Celsius changed from 43 to 44\n"
     ]
    }
   ],
   "source": [
    "journalctl -t smartd -r -n1"
   ]
  },
  {
   "cell_type": "markdown",
   "metadata": {},
   "source": [
    "#### SYSLOG Facilities\n",
    "\n",
    "- syslog facilities:\n",
    "  - 0             kernel messages\n",
    "  - 1             user-level messages\n",
    "  - 2             mail system\n",
    "  - 3             system daemons\n",
    "  - 4             security/authorization messages\n",
    "  - 5             messages generated internally by syslogd\n",
    "  - 6             line printer subsystem\n",
    "  - 7             network news subsystem\n",
    "  - 8             UUCP subsystem\n",
    "  - 9             clock daemon\n",
    "  - 10             security/authorization messages\n",
    "  - 11             FTP daemon\n",
    "  - 12             NTP subsystem"
   ]
  },
  {
   "cell_type": "code",
   "execution_count": 1,
   "metadata": {},
   "outputs": [
    {
     "name": "stdout",
     "output_type": "stream",
     "text": [
      "SYSLOG_\u001b[01;31m\u001b[KFAC\u001b[m\u001b[KILITY\n"
     ]
    }
   ],
   "source": [
    "journalctl -N | grep -i fac"
   ]
  },
  {
   "cell_type": "code",
   "execution_count": 3,
   "metadata": {},
   "outputs": [
    {
     "name": "stdout",
     "output_type": "stream",
     "text": [
      "2 10 AUDIT SUPPLICANT MB GLIB DEVICE WIFI PLATFORM DHCP6 DHCP4 SETTINGS RFKILL DNS CORE 9 4 1 0 3 "
     ]
    }
   ],
   "source": [
    "journalctl -F SYSLOG_FACILITY | tr '\\n' ' '"
   ]
  },
  {
   "cell_type": "markdown",
   "metadata": {},
   "source": [
    "### Kernel logs\n",
    "\n",
    "kernel ring buffer (dmesg)"
   ]
  },
  {
   "cell_type": "code",
   "execution_count": 35,
   "metadata": {},
   "outputs": [
    {
     "name": "stdout",
     "output_type": "stream",
     "text": [
      "900\n",
      "900\n",
      "900\n"
     ]
    }
   ],
   "source": [
    "journalctl -k | wc -l\n",
    "journalctl --dmesg | wc -l\n",
    "dmesg | wc -l"
   ]
  },
  {
   "cell_type": "code",
   "execution_count": 36,
   "metadata": {},
   "outputs": [
    {
     "name": "stdout",
     "output_type": "stream",
     "text": [
      "Specifying boot ID has no effect, no persistent journal was found\n"
     ]
    }
   ],
   "source": [
    "journalctl -k -b -3"
   ]
  },
  {
   "cell_type": "code",
   "execution_count": 9,
   "metadata": {},
   "outputs": [
    {
     "name": "stdout",
     "output_type": "stream",
     "text": [
      "-- Logs begin at Tue 2017-02-28 13:57:11 IRST, end at Wed 2017-03-01 00:35:01 IRST. --\n",
      "Feb 28 16:26:18 Raven.localhost kernel: \u001b[0;1;39msd 6:0:0:0: [sdb] Attached SCSI disk\u001b[0m\n",
      "Feb 28 21:19:20 Raven.localhost kernel: usb 4-5: reset SuperSpeed USB device number 2 using xhci_hcd\n"
     ]
    }
   ],
   "source": [
    "journalctl SYSLOG_FACILITY=0 -n2"
   ]
  },
  {
   "cell_type": "markdown",
   "metadata": {},
   "source": [
    "### Logs generated by a binary"
   ]
  },
  {
   "cell_type": "code",
   "execution_count": 55,
   "metadata": {},
   "outputs": [
    {
     "name": "stdout",
     "output_type": "stream",
     "text": [
      "-- Logs begin at Tue 2017-02-28 13:57:11 IRST, end at Tue 2017-02-28 17:21:43 IRST. --\n",
      "Feb 28 13:58:09 Raven.localhost NetworkManager[1057]: <info>  [1488277689.6789] dnsmasq[0x149e7a0]: dnsmasq appeared as :1.22\n"
     ]
    }
   ],
   "source": [
    "journalctl `which NetworkManager` -n1"
   ]
  },
  {
   "cell_type": "code",
   "execution_count": 39,
   "metadata": {},
   "outputs": [
    {
     "name": "stdout",
     "output_type": "stream",
     "text": [
      "123\n",
      "112\n"
     ]
    }
   ],
   "source": [
    "journalctl -u NetworkManager.service | wc -l\n",
    "journalctl `which NetworkManager` | wc -l "
   ]
  },
  {
   "cell_type": "markdown",
   "metadata": {},
   "source": [
    "### Priority"
   ]
  },
  {
   "cell_type": "markdown",
   "metadata": {},
   "source": [
    "journalctl -p <span style=\"color:blue\">[tab][tab]</span>\n",
    "\n",
    "    0: emerg : System is unusable \n",
    "    1: alert :  Should be corrected immediately \n",
    "    2: crit :  Critical conditions \n",
    "    3: err :  Error conditions \n",
    "    4: warning :  May indicate that an error will occur if action is not taken. \n",
    "    5: notice :  Events that are unusual, but not error conditions. \n",
    "    6: info :  Normal operational messages that require no action. \n",
    "    7: debug :  Information useful to developers for debugging the application. "
   ]
  },
  {
   "cell_type": "code",
   "execution_count": 5,
   "metadata": {},
   "outputs": [
    {
     "name": "stdout",
     "output_type": "stream",
     "text": [
      "-- Logs begin at Tue 2017-02-28 13:57:11 IRST, end at Wed 2017-03-01 00:25:01 IRST. --\n",
      "Feb 28 21:58:04 Raven.localhost sudo[16702]: \u001b[0;1;31m   milad : 3 incorrect password attempts ; TTY=pts/3 ; PWD=/home/milad ; USER=root ; COMMAND=/bin/ls\u001b[0m\n"
     ]
    }
   ],
   "source": [
    "journalctl -p 1 -n1 # -p emerg"
   ]
  },
  {
   "cell_type": "code",
   "execution_count": null,
   "metadata": {
    "collapsed": true
   },
   "outputs": [],
   "source": [
    "journalctl -p crit -o json-pretty # [tab-tab]"
   ]
  },
  {
   "cell_type": "code",
   "execution_count": null,
   "metadata": {
    "collapsed": true
   },
   "outputs": [],
   "source": [
    "journalctl -k -f # following like tail -f"
   ]
  },
  {
   "cell_type": "markdown",
   "metadata": {
    "collapsed": true
   },
   "source": [
    "### Old logs"
   ]
  },
  {
   "cell_type": "code",
   "execution_count": 94,
   "metadata": {},
   "outputs": [
    {
     "name": "stdout",
     "output_type": "stream",
     "text": [
      "Archived and active journals take up 4.5M on disk.\n"
     ]
    }
   ],
   "source": [
    "journalctl --disk-usage\n",
    "sudo journalctl --vacuum-size=5M\n",
    "sudo journalctl --vacuum-time=2months"
   ]
  },
  {
   "cell_type": "code",
   "execution_count": null,
   "metadata": {
    "collapsed": true
   },
   "outputs": [],
   "source": [
    "Referenses:\n",
    "\n",
    "LFCS & RHCSA\n",
    "\n",
    "man dmsg\n",
    "man journalctl\n",
    "man 5 journald.conf\n",
    "man systemd.journal-fields\n",
    "\n",
    "http://www.linfo.org/dmesg.html\n",
    "https://wiki.archlinux.org/index.php/Systemd\n",
    "https://help.ubuntu.com/community/LinuxLogFiles\n",
    "https://tools.ietf.org/html/rfc5424#section-6.2.1\n",
    "https://www.digitalocean.com/community/tutorials/how-to-use-journalctl-to-view-and-manipulate-systemd-logs"
   ]
  },
  {
   "cell_type": "markdown",
   "metadata": {
    "collapsed": true
   },
   "source": [
    "- - -\n",
    "## Lecture notes\n",
    "\n",
    "- All lecture notes are available at github in `ipynb` format: [https://github.com/ravexina/linux-notes](https://github.com/ravexina/linux-notes). \n",
    "\n",
    "\n",
    "- There are `html` exports of project available at: [https://ravexina.github.io/linux-notes](https://ravexina.github.io/linux-notes).\n",
    "\n",
    "## License\n",
    "<a rel=\"license\" href=\"http://creativecommons.org/licenses/by-nc-sa/4.0/\">\n",
    "<img alt=\"Creative Commons License\" style=\"border-width:0\" src=\"https://i.creativecommons.org/l/by-nc-sa/4.0/88x31.png\" />\n",
    "</a>\n",
    "\n",
    "<span property=\"dct:title\">Linux Notes</span> by \n",
    "<a href=\"http://github.com/ravexina/Linux-Notes\" property=\"cc:attributionName\" rel=\"cc:attributionURL\">Milad As (Ravexina)</a> is licensed under a <a rel=\"license\" href=\"http://creativecommons.org/licenses/by-nc-sa/4.0/\">Creative Commons Attribution-NonCommercial-ShareAlike 4.0 International License</a>.\n",
    "\n",
    "- - -\n",
    "\n",
    "<a rel=\"license\" href=\"https://gitlab.com/ravexina/\"><img alt=\"ravexina's gitlab\" style=\"display:inline;border-width:0;height:30px;float:left;\" src=\"img/logo/logo-square.png\" /></a> \n",
    "\n",
    "<a rel=\"license\" href=\"https://github.com/ravexina/\"><img alt=\"ravexina's github\" style=\"float:right;display:inline;border-width:0;height:30px;\" src=\"img/logo/GitHub_Logo.png\" /></a>"
   ]
  }
 ],
 "metadata": {
  "kernelspec": {
   "display_name": "Bash",
   "language": "bash",
   "name": "bash"
  },
  "language_info": {
   "codemirror_mode": "shell",
   "file_extension": ".sh",
   "mimetype": "text/x-sh",
   "name": "bash"
  }
 },
 "nbformat": 4,
 "nbformat_minor": 2
}
