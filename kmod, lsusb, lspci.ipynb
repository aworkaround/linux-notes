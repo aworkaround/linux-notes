{
 "cells": [
  {
   "cell_type": "markdown",
   "metadata": {},
   "source": [
    "Now that we know much more about how system and devices are working togeder lets talk about kernel modules"
   ]
  },
  {
   "cell_type": "markdown",
   "metadata": {},
   "source": [
    "## lsmod, modprobe, insmod, rmmod"
   ]
  },
  {
   "cell_type": "code",
   "execution_count": 6,
   "metadata": {},
   "outputs": [
    {
     "name": "stdout",
     "output_type": "stream",
     "text": [
      "Module                  Size  Used by\n",
      "vboxpci                24576  0\n",
      "uas                    24576  0\n",
      "usb_storage            69632  2 uas\n",
      "msr                    16384  0\n",
      "acpi_call              16384  0\n",
      "pci_stub               16384  1\n",
      "vboxnetadp             28672  0\n",
      "vboxnetflt             28672  0\n",
      "vboxdrv               454656  3 vboxnetadp,vboxnetflt,vboxpci\n"
     ]
    }
   ],
   "source": [
    "# list modules loaded into kernel\n",
    "# /proc/modules\n",
    "lsmod | head"
   ]
  },
  {
   "cell_type": "code",
   "execution_count": 11,
   "metadata": {},
   "outputs": [
    {
     "name": "stdout",
     "output_type": "stream",
     "text": [
      "\u001b[01;31m\u001b[Kvbox\u001b[m\u001b[Kpci 24576 0 - Live 0x0000000000000000 (OE)\n",
      "\u001b[01;31m\u001b[Kvbox\u001b[m\u001b[Knetadp 28672 0 - Live 0x0000000000000000 (OE)\n",
      "\u001b[01;31m\u001b[Kvbox\u001b[m\u001b[Knetflt 28672 0 - Live 0x0000000000000000 (OE)\n",
      "\u001b[01;31m\u001b[Kvbox\u001b[m\u001b[Kdrv 454656 3 \u001b[01;31m\u001b[Kvbox\u001b[m\u001b[Kpci,\u001b[01;31m\u001b[Kvbox\u001b[m\u001b[Knetadp,\u001b[01;31m\u001b[Kvbox\u001b[m\u001b[Knetflt, Live 0x0000000000000000 (OE)\n"
     ]
    }
   ],
   "source": [
    "cat /proc/modules | grep -i vbox"
   ]
  },
  {
   "cell_type": "code",
   "execution_count": 3,
   "metadata": {},
   "outputs": [
    {
     "name": "stdout",
     "output_type": "stream",
     "text": [
      "\u001b[01;31m\u001b[Kvboxpci\u001b[m\u001b[K                24576  0\n",
      "vboxdrv               454656  3 vboxnetadp,vboxnetflt,\u001b[01;31m\u001b[Kvboxpci\u001b[m\u001b[K\n"
     ]
    }
   ],
   "source": [
    "lsmod | grep -i vboxpci"
   ]
  },
  {
   "cell_type": "code",
   "execution_count": null,
   "metadata": {
    "collapsed": true
   },
   "outputs": [],
   "source": [
    "# Remove a module\n",
    "modprobe -r vboxpci\n",
    "rmmod vboxpci"
   ]
  },
  {
   "cell_type": "code",
   "execution_count": null,
   "metadata": {
    "collapsed": true
   },
   "outputs": [],
   "source": [
    "# Load a  module\n",
    "modprobe modulenName\n",
    "insmod full-Path-to-module"
   ]
  },
  {
   "cell_type": "code",
   "execution_count": 7,
   "metadata": {},
   "outputs": [
    {
     "name": "stdout",
     "output_type": "stream",
     "text": [
      "filename:       /lib/modules/4.4.0-57-generic/updates/dkms/vboxpci.ko\n",
      "version:        5.0.24_Ubuntu r108355\n",
      "license:        GPL\n",
      "description:    Oracle VM VirtualBox PCI access Driver\n",
      "author:         Oracle Corporation\n",
      "srcversion:     3B78BC57F16249D1EF8D255\n",
      "depends:        vboxdrv\n",
      "vermagic:       4.4.0-57-generic SMP mod_unload modversions \n"
     ]
    }
   ],
   "source": [
    "# get module info\n",
    "modinfo vboxpci"
   ]
  },
  {
   "cell_type": "code",
   "execution_count": null,
   "metadata": {
    "collapsed": true
   },
   "outputs": [],
   "source": [
    "# load vboxpci with insmod and full path\n",
    "insmod /lib/modules/4.4.0-53-generic/updates/dkms/vboxpci.ko"
   ]
  },
  {
   "cell_type": "code",
   "execution_count": 8,
   "metadata": {},
   "outputs": [
    {
     "name": "stdout",
     "output_type": "stream",
     "text": [
      "insmod /lib/modules/4.4.0-57-generic/updates/dkms/vboxdrv.ko \n",
      "insmod /lib/modules/4.4.0-57-generic/updates/dkms/vboxpci.ko \n"
     ]
    }
   ],
   "source": [
    "# show dependencies of a module\n",
    "modprobe --show-depends vboxpci"
   ]
  },
  {
   "cell_type": "markdown",
   "metadata": {},
   "source": [
    "So if I load vboxpci then vboxdrv also will be loaded  \n",
    "The process at remove is the same."
   ]
  },
  {
   "cell_type": "markdown",
   "metadata": {},
   "source": [
    "## lsusb"
   ]
  },
  {
   "cell_type": "code",
   "execution_count": 14,
   "metadata": {},
   "outputs": [
    {
     "name": "stdout",
     "output_type": "stream",
     "text": [
      "lsusb (8)            - list USB devices\n",
      "lspci (8)            - list all PCI devices\n"
     ]
    }
   ],
   "source": [
    "whatis lsusb\n",
    "whatis lspci"
   ]
  },
  {
   "cell_type": "code",
   "execution_count": 13,
   "metadata": {},
   "outputs": [
    {
     "name": "stdout",
     "output_type": "stream",
     "text": [
      "Bus 002 Device 002: ID 8087:8000 Intel Corp. \n",
      "Bus 002 Device 001: ID 1d6b:0002 Linux Foundation 2.0 root hub\n",
      "Bus 001 Device 002: ID 8087:8008 Intel Corp. \n",
      "Bus 001 Device 001: ID 1d6b:0002 Linux Foundation 2.0 root hub\n",
      "Bus 004 Device 001: ID 1d6b:0003 Linux Foundation 3.0 root hub\n",
      "Bus 003 Device 002: ID 5986:0397 Acer, Inc \n",
      "Bus 003 Device 006: ID 1000:1320 Speed Tech Corp. \n",
      "Bus 003 Device 001: ID 1d6b:0002 Linux Foundation 2.0 root hub\n"
     ]
    }
   ],
   "source": [
    "lsusb"
   ]
  },
  {
   "cell_type": "code",
   "execution_count": 16,
   "metadata": {},
   "outputs": [
    {
     "name": "stdout",
     "output_type": "stream",
     "text": [
      "/:  Bus 04.Port 1: Dev 1, Class=root_hub, Driver=xhci_hcd/6p, 5000M\n",
      "/:  Bus 03.Port 1: Dev 1, Class=root_hub, Driver=xhci_hcd/14p, 480M\n",
      "    |__ Port 1: Dev 6, If 0, Class=Mass Storage, Driver=usb-storage, 480M\n",
      "    |__ Port 12: Dev 2, If 0, Class=Video, Driver=uvcvideo, 480M\n",
      "    |__ Port 12: Dev 2, If 1, Class=Video, Driver=uvcvideo, 480M\n",
      "/:  Bus 02.Port 1: Dev 1, Class=root_hub, Driver=ehci-pci/3p, 480M\n",
      "    |__ Port 1: Dev 2, If 0, Class=Hub, Driver=hub/8p, 480M\n",
      "/:  Bus 01.Port 1: Dev 1, Class=root_hub, Driver=ehci-pci/3p, 480M\n",
      "    |__ Port 1: Dev 2, If 0, Class=Hub, Driver=hub/6p, 480M\n"
     ]
    }
   ],
   "source": [
    "lsusb -t # dump hierarchy as a tree"
   ]
  },
  {
   "cell_type": "code",
   "execution_count": 18,
   "metadata": {},
   "outputs": [
    {
     "name": "stdout",
     "output_type": "stream",
     "text": [
      "Bus 003 Device 002: ID 5986:0397 Acer, Inc \n",
      "Bus 003 Device 006: ID 1000:1320 Speed Tech Corp. \n",
      "Bus 003 Device 001: ID 1d6b:0002 Linux Foundation 2.0 root hub\n"
     ]
    }
   ],
   "source": [
    "# check bus 003\n",
    "lsusb -s 003:"
   ]
  },
  {
   "cell_type": "code",
   "execution_count": 19,
   "metadata": {},
   "outputs": [
    {
     "name": "stdout",
     "output_type": "stream",
     "text": [
      "Bus 003 Device 006: ID 1000:1320 Speed Tech Corp. \n"
     ]
    }
   ],
   "source": [
    "# bus 003 device 006\n",
    "lsusb -s 003:006"
   ]
  },
  {
   "cell_type": "code",
   "execution_count": 22,
   "metadata": {},
   "outputs": [
    {
     "name": "stdout",
     "output_type": "stream",
     "text": [
      "Bus 003 Device 006: ID 1000:1320 Speed Tech Corp. \n"
     ]
    }
   ],
   "source": [
    "# USB with vendor id: 1000 and device id: 1320\n",
    "lsusb -d 1000:1320"
   ]
  },
  {
   "cell_type": "markdown",
   "metadata": {},
   "source": [
    "There is a list of all knowen usb vendor and products:"
   ]
  },
  {
   "cell_type": "raw",
   "metadata": {},
   "source": [
    "/var/lib/usbutils/usb.ids"
   ]
  },
  {
   "cell_type": "raw",
   "metadata": {},
   "source": [
    "Download new daily snapshot of list:\n",
    "\n",
    "sudo update-usbids"
   ]
  },
  {
   "cell_type": "code",
   "execution_count": 23,
   "metadata": {},
   "outputs": [
    {
     "name": "stdout",
     "output_type": "stream",
     "text": [
      "Bus 001\n",
      "Bus 002\n",
      "Bus 003\n",
      "Bus 004\n"
     ]
    }
   ],
   "source": [
    "lsusb | sort | cut -d ' ' -f1-2 | uniq"
   ]
  },
  {
   "cell_type": "markdown",
   "metadata": {},
   "source": [
    "## lspci"
   ]
  },
  {
   "cell_type": "code",
   "execution_count": 25,
   "metadata": {},
   "outputs": [
    {
     "name": "stdout",
     "output_type": "stream",
     "text": [
      "00:00.0 0600: 8086:0c04 (rev 06)\n",
      "00:02.0 0300: 8086:0416 (rev 06)\n"
     ]
    }
   ],
   "source": [
    "# vendor code\n",
    "lspci -n | head -2"
   ]
  },
  {
   "cell_type": "code",
   "execution_count": 27,
   "metadata": {},
   "outputs": [
    {
     "name": "stdout",
     "output_type": "stream",
     "text": [
      "00:00.0 Host bridge [0600]: Intel Corporation Xeon E3-1200 v3/4th Gen Core Processor DRAM Controller [8086:0c04] (rev 06)\n",
      "00:02.0 VGA compatible controller [0300]: Intel Corporation 4th Gen Core Processor Integrated Graphics Controller [8086:0416] (rev 06)\n"
     ]
    }
   ],
   "source": [
    "# name and code of vendor\n",
    "lspci -nn | head -2"
   ]
  },
  {
   "cell_type": "code",
   "execution_count": 33,
   "metadata": {},
   "outputs": [],
   "source": [
    "# lspci -vvv (verbose to three times)"
   ]
  },
  {
   "cell_type": "code",
   "execution_count": 46,
   "metadata": {},
   "outputs": [
    {
     "name": "stdout",
     "output_type": "stream",
     "text": [
      "00:02.0 VGA compatible controller: Intel Corporation 4th Gen Core Processor Integrated Graphics Controller (rev 06)\n"
     ]
    }
   ],
   "source": [
    "# lspci -d [<vendor>]:[<device>][:<class>]\n",
    "lspci -d 8086:0416:0300"
   ]
  },
  {
   "cell_type": "raw",
   "metadata": {},
   "source": [
    "lspci -s [[[[<domain>]:]<bus>]:][<slot>][.[<func>]]\n",
    "\n",
    "Example only contais slot and function:"
   ]
  },
  {
   "cell_type": "code",
   "execution_count": 53,
   "metadata": {},
   "outputs": [
    {
     "name": "stdout",
     "output_type": "stream",
     "text": [
      "00:02.0 VGA compatible controller: Intel Corporation 4th Gen Core Processor Integrated Graphics Controller (rev 06)\n"
     ]
    }
   ],
   "source": [
    "lspci -s :02.0"
   ]
  },
  {
   "cell_type": "code",
   "execution_count": 54,
   "metadata": {},
   "outputs": [
    {
     "name": "stdout",
     "output_type": "stream",
     "text": [
      "04:00.0 Network controller: Realtek Semiconductor Co., Ltd. RTL8723BE PCIe Wireless Network Adapter\n",
      "04:00.0 Network controller: Realtek Semiconductor Co., Ltd. RTL8723BE PCIe Wireless Network Adapter\n"
     ]
    }
   ],
   "source": [
    "# domain, bus, slot, func\n",
    "lspci -s 00:04:00.0\n",
    "\n",
    "# bus, slot, func\n",
    "lspci -s 04:00.0"
   ]
  },
  {
   "cell_type": "code",
   "execution_count": 58,
   "metadata": {},
   "outputs": [
    {
     "name": "stdout",
     "output_type": "stream",
     "text": [
      "00:00.0 Host bridge: Intel Corporation Xeon E3-1200 v3/4th Gen Core Processor DRAM Controller (rev 06)\n",
      "02:00.0 Unassigned class [ff00]: Realtek Semiconductor Co., Ltd. RTS5227 PCI Express Card Reader (rev 01)\n"
     ]
    }
   ],
   "source": [
    "# slot\n",
    "lspci -s 00 | head -2"
   ]
  },
  {
   "cell_type": "code",
   "execution_count": 57,
   "metadata": {
    "scrolled": true
   },
   "outputs": [
    {
     "name": "stdout",
     "output_type": "stream",
     "text": [
      "00:02.0 \u001b[01;31m\u001b[KVGA\u001b[m\u001b[K compatible controller: Intel Corporation 4th Gen Core Processor Integrated Graphics Controller (rev 06)\n",
      "\tSubsystem: Lenovo 4th Gen Core Processor Integrated Graphics Controller\n",
      "\tKernel driver in use: i915\n",
      "\tKernel modules: i915\n"
     ]
    }
   ],
   "source": [
    "# which kernel is in charge of handeling the device\n",
    "lspci -k | grep -i vga -A3"
   ]
  },
  {
   "cell_type": "markdown",
   "metadata": {},
   "source": [
    "##### A list of all known PCI ID's:"
   ]
  },
  {
   "cell_type": "raw",
   "metadata": {},
   "source": [
    "/usr/share/hwdata/pci.ids"
   ]
  },
  {
   "cell_type": "raw",
   "metadata": {},
   "source": [
    "sudo update-pciids"
   ]
  },
  {
   "cell_type": "markdown",
   "metadata": {},
   "source": [
    "use another file instead of pci.ids:"
   ]
  },
  {
   "cell_type": "code",
   "execution_count": null,
   "metadata": {
    "collapsed": true
   },
   "outputs": [],
   "source": [
    "lspci -i [file]"
   ]
  },
  {
   "cell_type": "markdown",
   "metadata": {
    "collapsed": true
   },
   "source": [
    "#### Exercise:\n",
    "Change VGA details to firefox by mozilla foundation\n",
    "\n",
    "#### Explainations:\n",
    "- A PCI device can have up to eight functions\n",
    "- The revision number defines the device's chipset and firmware versions"
   ]
  },
  {
   "cell_type": "code",
   "execution_count": 66,
   "metadata": {},
   "outputs": [],
   "source": [
    "# lspci -vmm  # machine readable\n",
    "# lspci -x    # hexadecimal "
   ]
  },
  {
   "cell_type": "markdown",
   "metadata": {},
   "source": [
    "- - -\n",
    "## Lecture notes\n",
    "\n",
    "- All lecture notes are available at github in `ipynb` format: [https://github.com/ravexina/linux-notes](https://github.com/ravexina/linux-notes). \n",
    "\n",
    "\n",
    "- There are `html` exports of project available at: [https://ravexina.github.io/linux-notes](https://ravexina.github.io/linux-notes).\n",
    "\n",
    "## License\n",
    "<a rel=\"license\" href=\"http://creativecommons.org/licenses/by-nc-sa/4.0/\">\n",
    "<img alt=\"Creative Commons License\" style=\"border-width:0\" src=\"https://i.creativecommons.org/l/by-nc-sa/4.0/88x31.png\" />\n",
    "</a>\n",
    "\n",
    "<span property=\"dct:title\">Linux Notes</span> by \n",
    "<a href=\"http://github.com/ravexina/Linux-Notes\" property=\"cc:attributionName\" rel=\"cc:attributionURL\">Milad As (Ravexina)</a> is licensed under a <a rel=\"license\" href=\"http://creativecommons.org/licenses/by-nc-sa/4.0/\">Creative Commons Attribution-NonCommercial-ShareAlike 4.0 International License</a>.\n",
    "\n",
    "- - -\n",
    "\n",
    "<a rel=\"license\" href=\"https://gitlab.com/ravexina/\"><img alt=\"ravexina's gitlab\" style=\"display:inline;border-width:0;height:30px;float:left;\" src=\"img/logo/logo-square.png\" /></a> \n",
    "\n",
    "<a rel=\"license\" href=\"https://github.com/ravexina/\"><img alt=\"ravexina's github\" style=\"float:right;display:inline;border-width:0;height:30px;\" src=\"img/logo/GitHub_Logo.png\" /></a>"
   ]
  }
 ],
 "metadata": {
  "kernelspec": {
   "display_name": "Bash",
   "language": "bash",
   "name": "bash"
  },
  "language_info": {
   "codemirror_mode": "shell",
   "file_extension": ".sh",
   "mimetype": "text/x-sh",
   "name": "bash"
  }
 },
 "nbformat": 4,
 "nbformat_minor": 2
}
