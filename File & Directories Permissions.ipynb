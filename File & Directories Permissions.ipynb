{
 "cells": [
  {
   "cell_type": "markdown",
   "metadata": {},
   "source": [
    "## chown"
   ]
  },
  {
   "cell_type": "code",
   "execution_count": 3,
   "metadata": {},
   "outputs": [
    {
     "name": "stdout",
     "output_type": "stream",
     "text": [
      "-rw-rw-r-- 1 milad milad 0 Dec 28 07:19 /home/milad/z\n"
     ]
    }
   ],
   "source": [
    "ls -l ~/z"
   ]
  },
  {
   "cell_type": "code",
   "execution_count": 13,
   "metadata": {},
   "outputs": [
    {
     "name": "stdout",
     "output_type": "stream",
     "text": [
      "root:x:0:0:root:/root:/bin/bash\n",
      "daemon:x:1:1:daemon:/usr/sbin:/usr/sbin/nologin\n"
     ]
    }
   ],
   "source": [
    "cat /etc/passwd | head -2"
   ]
  },
  {
   "cell_type": "code",
   "execution_count": null,
   "metadata": {},
   "outputs": [],
   "source": [
    "sudo chown root ~/z "
   ]
  },
  {
   "cell_type": "code",
   "execution_count": 15,
   "metadata": {},
   "outputs": [
    {
     "name": "stdout",
     "output_type": "stream",
     "text": [
      "-rw-rw-r-- 1 root adm 0 Dec 28 07:19 /home/milad/z\n"
     ]
    }
   ],
   "source": [
    "ls ~/z -l"
   ]
  },
  {
   "cell_type": "code",
   "execution_count": null,
   "metadata": {
    "collapsed": true
   },
   "outputs": [],
   "source": [
    "sudo chown :root ~/z "
   ]
  },
  {
   "cell_type": "code",
   "execution_count": 1,
   "metadata": {},
   "outputs": [
    {
     "name": "stdout",
     "output_type": "stream",
     "text": [
      "-rw-rw-r-- 1 root root 0 Dec 28 07:19 /home/milad/z\n"
     ]
    }
   ],
   "source": [
    "ls -l ~/z"
   ]
  },
  {
   "cell_type": "code",
   "execution_count": null,
   "metadata": {
    "collapsed": true
   },
   "outputs": [],
   "source": [
    "sudo chown milad:milad z"
   ]
  },
  {
   "cell_type": "code",
   "execution_count": 2,
   "metadata": {},
   "outputs": [
    {
     "name": "stdout",
     "output_type": "stream",
     "text": [
      "-rw-rw-r-- 1 milad milad 0 Dec 28 07:19 /home/milad/z\n"
     ]
    }
   ],
   "source": [
    "ls -l ~/z"
   ]
  },
  {
   "cell_type": "markdown",
   "metadata": {},
   "source": [
    "## chmod"
   ]
  },
  {
   "cell_type": "code",
   "execution_count": 15,
   "metadata": {},
   "outputs": [],
   "source": [
    "touch a b c"
   ]
  },
  {
   "cell_type": "code",
   "execution_count": 16,
   "metadata": {},
   "outputs": [
    {
     "name": "stdout",
     "output_type": "stream",
     "text": [
      "-rw-rw-rw- 1 milad milad 0 Dec 28 10:02 a\n",
      "-rw-rw-rw- 1 milad milad 0 Dec 28 10:02 b\n",
      "-rw-rw-rw- 1 milad milad 0 Dec 28 10:02 c\n"
     ]
    }
   ],
   "source": [
    "ls -la a b c"
   ]
  },
  {
   "cell_type": "markdown",
   "metadata": {},
   "source": [
    "### Analysis the meaning\n",
    "\n",
    "<img src=\"img/understanding_linux_files_permissions_7551.png\"  style=\"display:inline;width: 400px;\"/>"
   ]
  },
  {
   "cell_type": "code",
   "execution_count": 28,
   "metadata": {},
   "outputs": [],
   "source": [
    "chmod ugo+w [a-c]"
   ]
  },
  {
   "cell_type": "code",
   "execution_count": 23,
   "metadata": {},
   "outputs": [
    {
     "name": "stdout",
     "output_type": "stream",
     "text": [
      "-rw-rw-rw- 1 milad milad 0 Dec 28 10:02 a\n",
      "-rw-rw-rw- 1 milad milad 0 Dec 28 10:02 b\n",
      "-rw-rw-rw- 1 milad milad 0 Dec 28 10:02 c\n",
      "\n",
      "666 a\n",
      "666 b\n",
      "666 c\n"
     ]
    }
   ],
   "source": [
    "ls -la [a-c]\n",
    "\n",
    "stat -c \"%a %n\" [a-c]"
   ]
  },
  {
   "cell_type": "code",
   "execution_count": 29,
   "metadata": {},
   "outputs": [],
   "source": [
    "chmod u+x,o-rw [a-c]"
   ]
  },
  {
   "cell_type": "code",
   "execution_count": 30,
   "metadata": {},
   "outputs": [
    {
     "name": "stdout",
     "output_type": "stream",
     "text": [
      "-rwxrw---- 1 milad milad 0 Dec 28 10:02 \u001b[0m\u001b[01;32ma\u001b[0m\n",
      "-rwxrw---- 1 milad milad 0 Dec 28 10:02 \u001b[01;32mb\u001b[0m\n",
      "-rwxrw---- 1 milad milad 0 Dec 28 10:02 \u001b[01;32mc\u001b[0m\n"
     ]
    }
   ],
   "source": [
    "ls -la [a-c]"
   ]
  },
  {
   "cell_type": "code",
   "execution_count": 31,
   "metadata": {
    "collapsed": true
   },
   "outputs": [],
   "source": [
    "chmod 067 a"
   ]
  },
  {
   "cell_type": "code",
   "execution_count": 32,
   "metadata": {},
   "outputs": [
    {
     "name": "stdout",
     "output_type": "stream",
     "text": [
      "----rw-rwx 1 milad milad 0 Dec 28 10:02 \u001b[0m\u001b[01;32ma\u001b[0m\n"
     ]
    }
   ],
   "source": [
    "ls -la a"
   ]
  },
  {
   "cell_type": "code",
   "execution_count": 33,
   "metadata": {
    "collapsed": true
   },
   "outputs": [],
   "source": [
    "chmod u+rw,o-rwx a"
   ]
  },
  {
   "cell_type": "code",
   "execution_count": 35,
   "metadata": {},
   "outputs": [
    {
     "name": "stdout",
     "output_type": "stream",
     "text": [
      "-rw-rw---- 1 milad milad 0 Dec 28 10:02 a\n"
     ]
    }
   ],
   "source": [
    "ls -la a"
   ]
  },
  {
   "cell_type": "markdown",
   "metadata": {},
   "source": [
    "## umask\n",
    "\n",
    "The default permissions on \n",
    "\n",
    "Files: 666 (Because we don't want files to have X by default)\n",
    "Directories: 777 (Because we need X to cd in)\n",
    "\n"
   ]
  },
  {
   "cell_type": "code",
   "execution_count": 37,
   "metadata": {},
   "outputs": [
    {
     "name": "stdout",
     "output_type": "stream",
     "text": [
      "0002\n"
     ]
    }
   ],
   "source": [
    "umask\n",
    "#files 664\n",
    "#directories 775"
   ]
  },
  {
   "cell_type": "code",
   "execution_count": 41,
   "metadata": {},
   "outputs": [
    {
     "name": "stdout",
     "output_type": "stream",
     "text": [
      "775 test\n"
     ]
    }
   ],
   "source": [
    "mkdir test\n",
    "stat -c \"%a %n\" test"
   ]
  },
  {
   "cell_type": "markdown",
   "metadata": {},
   "source": [
    "## SUID, SGID\n",
    "\n",
    "### SUID\n",
    "- Files: executes with file owner permission\n",
    "- Directory : Nothing will happen\n",
    "- xyyy bit:  4\n",
    "\n",
    "### SGID\n",
    "- Files: executes with file group permission\n",
    "- Directories: new dirs will have the same group as parend dir\n",
    "- xyyy bit:  2"
   ]
  },
  {
   "cell_type": "markdown",
   "metadata": {},
   "source": [
    "## Sticky Bit\n",
    "\n",
    "- Files: Nothing will happen (Back in days: buffer in ram)\n",
    "- Directories: only the owner will be able to remove files\n",
    "- xyyy bit: 1"
   ]
  },
  {
   "cell_type": "code",
   "execution_count": 42,
   "metadata": {},
   "outputs": [
    {
     "name": "stdout",
     "output_type": "stream",
     "text": [
      "drwxrwxrwt 11 root root 4096 Dec 28 10:28 \u001b[0m\u001b[30;42m/tmp\u001b[0m\n"
     ]
    }
   ],
   "source": [
    "ls -ld /tmp"
   ]
  },
  {
   "cell_type": "markdown",
   "metadata": {
    "collapsed": true
   },
   "source": [
    "- - -\n",
    "## Lecture notes\n",
    "\n",
    "- All lecture notes are available at github in `ipynb` format: [https://github.com/ravexina/linux-notes](https://github.com/ravexina/linux-notes). \n",
    "\n",
    "\n",
    "- There are `html` exports of project available at: [https://ravexina.github.io/linux-notes](https://ravexina.github.io/linux-notes).\n",
    "\n",
    "## License\n",
    "<a rel=\"license\" href=\"http://creativecommons.org/licenses/by-nc-sa/4.0/\">\n",
    "<img alt=\"Creative Commons License\" style=\"border-width:0\" src=\"https://i.creativecommons.org/l/by-nc-sa/4.0/88x31.png\" />\n",
    "</a>\n",
    "\n",
    "<span property=\"dct:title\">Linux Notes</span> by \n",
    "<a href=\"http://github.com/ravexina/Linux-Notes\" property=\"cc:attributionName\" rel=\"cc:attributionURL\">Milad As (Ravexina)</a> is licensed under a <a rel=\"license\" href=\"http://creativecommons.org/licenses/by-nc-sa/4.0/\">Creative Commons Attribution-NonCommercial-ShareAlike 4.0 International License</a>.\n",
    "\n",
    "- - -\n",
    "\n",
    "<a rel=\"license\" href=\"https://gitlab.com/ravexina/\"><img alt=\"ravexina's gitlab\" style=\"display:inline;border-width:0;height:30px;float:left;\" src=\"img/logo/logo-square.png\" /></a> \n",
    "\n",
    "<a rel=\"license\" href=\"https://github.com/ravexina/\"><img alt=\"ravexina's github\" style=\"float:right;display:inline;border-width:0;height:30px;\" src=\"img/logo/GitHub_Logo.png\" /></a>"
   ]
  }
 ],
 "metadata": {
  "kernelspec": {
   "display_name": "Bash",
   "language": "bash",
   "name": "bash"
  },
  "language_info": {
   "codemirror_mode": "shell",
   "file_extension": ".sh",
   "mimetype": "text/x-sh",
   "name": "bash"
  }
 },
 "nbformat": 4,
 "nbformat_minor": 2
}
