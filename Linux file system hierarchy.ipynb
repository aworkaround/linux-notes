{
 "cells": [
  {
   "cell_type": "markdown",
   "metadata": {},
   "source": [
    "# FHS"
   ]
  },
  {
   "cell_type": "code",
   "execution_count": 1,
   "metadata": {},
   "outputs": [
    {
     "name": "stdout",
     "output_type": "stream",
     "text": [
      "hier: /usr/share/man/man7/hier.7.gz\n"
     ]
    }
   ],
   "source": [
    "whereis -m hier"
   ]
  },
  {
   "cell_type": "code",
   "execution_count": null,
   "metadata": {
    "collapsed": true
   },
   "outputs": [],
   "source": [
    "man hier"
   ]
  },
  {
   "cell_type": "markdown",
   "metadata": {},
   "source": [
    "<img src=\"img/fhs.jpg\">"
   ]
  },
  {
   "cell_type": "markdown",
   "metadata": {},
   "source": [
    "Here, only the most important directories in the system will be presented.\n",
    "\n",
    "**/bin** is a place for most commonly used terminal commands, like ls, mount, rm, etc.\n",
    "\n",
    "**/boot** contains files needed to start up the system, including the Linux kernel, a RAM disk image and bootloader configuration files.\n",
    "\n",
    "**/dev** contains all device files, which are not regular files but instead refer to various hardware devices on the system, including hard drives.\n",
    "\n",
    "**/etc** contains system-global configuration files, which affect the system's behavior for all users.\n",
    "\n",
    "**/home** home sweet home, this is the place for users' home directories.\n",
    "\n",
    "**/lib** contains very important dynamic libraries and kernel modules\n",
    "\n",
    "**/media** is intended as a mount point for external devices, such as hard drives or removable media (floppies, CDs, DVDs).\n",
    "\n",
    "**/mnt** is also a place for mount points, but dedicated specifically to \"temporarily mounted\" devices, such as network filesystems.\n",
    "\n",
    "**/opt** can be used to store additional software for your system, which is not handled by the package manager.\n",
    "\n",
    "**/proc** is a virtual filesystem that provides a mechanism for kernel to send information to processes.\n",
    "\n",
    "**/root** is the superuser's home directory, not in /home/ **to allow for booting the system even if /home/ is not available.**\n",
    "\n",
    "**/run** is a tmpfs (temporary file system) available early in the boot process where ephemeral run-time data is stored. Files under this directory are removed or truncated at the beginning of the boot process.\n",
    "(It deprecates various legacy locations such as /var/run, /var/lock, /lib/init/rw in otherwise non-ephemeral directory trees as well as /dev/.* and /dev/shm  which are not device files.)\n",
    "\n",
    "**/sbin** contains important administrative commands that should generally only be employed by the superuser.\n",
    "\n",
    "**/srv** can contain data directories of services such as HTTP (/srv/www/) or FTP.\n",
    "\n",
    "**/sys** is a virtual filesystem that can be accessed to set or obtain information about the kernel's view of the system.\n",
    "\n",
    "**/tmp** is a place for temporary files used by applications.\n",
    "\n",
    "**/usr** contains the majority of user utilities and applications, and partly replicates the root directory structure, containing for instance, among others, /usr/bin/ and /usr/lib.\n",
    "\n",
    "**/var** is dedicated to variable data, such as logs, databases, websites, and temporary spool (e-mail etc.) files that persist from one boot to the next. A notable directory it contains is /var/log where system log files are kept. "
   ]
  },
  {
   "cell_type": "markdown",
   "metadata": {},
   "source": [
    "### Binary Paths:\n",
    "\n",
    "Please refer to the Filesystem Hierarchy Standard (FHS) for Linux for this.\n",
    "\n",
    "> /bin : For binaries usable **before the /usr partition is mounted.** This is used for **trivial binaries** used in the very early boot stage or ones that you need to have available in booting **single-user mode**. \n",
    "\n",
    "> Think of binaries like cat, ls, etc.\n",
    "\n",
    "> /sbin : Same, but for scripts with superuser (root) privileges required.\n",
    "\n",
    "> /usr/bin : Same as first, but for **general system-wide** binaries.\n",
    "\n",
    "> /usr/sbin : Same as above, but for scripts with superuser (root) privileges required.\n",
    "\n",
    "##### if I'm writing my own scripts, where should I add these?\n",
    "\n",
    "For system-wide available scripts:\n",
    "- You should use /usr/local/bin or /usr/local/sbin \n",
    "- The local path means it's not managed by the system packages. (ex: make install).\n",
    "\n",
    "For user-scoped scripts:\n",
    "> use ~/bin (a personal bin folder in your home directory).\n",
    "\n",
    "The FHS says for /usr/local:\n",
    "> Tertiary hierarchy for local data, specific to this host. Typically has further subdirectories, e.g., bin/, lib/, share/."
   ]
  },
  {
   "cell_type": "markdown",
   "metadata": {},
   "source": [
    "- - -\n",
    "## Lecture notes\n",
    "\n",
    "- All lecture notes are available at github in `ipynb` format: [https://github.com/ravexina/linux-notes](https://github.com/ravexina/linux-notes). \n",
    "\n",
    "\n",
    "- There are `html` exports of project available at: [https://ravexina.github.io/linux-notes](https://ravexina.github.io/linux-notes).\n",
    "- - -\n",
    "\n",
    "## License\n",
    "<a rel=\"license\" href=\"http://creativecommons.org/licenses/by-nc-sa/4.0/\">\n",
    "<img alt=\"Creative Commons License\" style=\"border-width:0\" src=\"https://i.creativecommons.org/l/by-nc-sa/4.0/88x31.png\" />\n",
    "</a>\n",
    "\n",
    "<span property=\"dct:title\">Linux Notes</span> by \n",
    "<a href=\"http://github.com/ravexina/Linux-Notes\" property=\"cc:attributionName\" rel=\"cc:attributionURL\">Milad As (Ravexina)</a> is licensed under a <a rel=\"license\" href=\"http://creativecommons.org/licenses/by-nc-sa/4.0/\">Creative Commons Attribution-NonCommercial-ShareAlike 4.0 International License</a>.\n",
    "\n",
    "- - -\n",
    "\n",
    "<a rel=\"license\" href=\"https://gitlab.com/ravexina/\"><img alt=\"ravexina's gitlab\" style=\"display:inline;border-width:0;height:30px;float:left;\" src=\"img/logo/logo-square.png\" /></a> \n",
    "\n",
    "<a rel=\"license\" href=\"https://github.com/ravexina/\"><img alt=\"ravexina's github\" style=\"float:right;display:inline;border-width:0;height:30px;\" src=\"img/logo/GitHub_Logo.png\" /></a>"
   ]
  }
 ],
 "metadata": {
  "kernelspec": {
   "display_name": "Bash",
   "language": "bash",
   "name": "bash"
  },
  "language_info": {
   "codemirror_mode": "shell",
   "file_extension": ".sh",
   "mimetype": "text/x-sh",
   "name": "bash"
  }
 },
 "nbformat": 4,
 "nbformat_minor": 2
}
