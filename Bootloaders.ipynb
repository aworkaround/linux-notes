{
 "cells": [
  {
   "cell_type": "markdown",
   "metadata": {},
   "source": [
    "## Bootloaders\n"
   ]
  },
  {
   "cell_type": "markdown",
   "metadata": {},
   "source": [
    "## Grub 2\n",
    "\n",
    "![img](img/bl/grub2.png)"
   ]
  },
  {
   "cell_type": "markdown",
   "metadata": {},
   "source": [
    "### Configuration"
   ]
  },
  {
   "cell_type": "code",
   "execution_count": 19,
   "metadata": {},
   "outputs": [
    {
     "name": "stdout",
     "output_type": "stream",
     "text": [
      "/dev/sda  /dev/sda1  /dev/sda2  /dev/sda5\n"
     ]
    }
   ],
   "source": [
    "ls /dev/sda* --color=no"
   ]
  },
  {
   "cell_type": "code",
   "execution_count": null,
   "metadata": {
    "collapsed": true
   },
   "outputs": [],
   "source": [
    "# Install on MBR\n",
    "grub-install /dev/sda"
   ]
  },
  {
   "cell_type": "code",
   "execution_count": 29,
   "metadata": {},
   "outputs": [
    {
     "name": "stdout",
     "output_type": "stream",
     "text": [
      "GRUB_DEFAULT=0\n",
      "#GRUB_HIDDEN_TIMEOUT=0\n",
      "#GRUB_HIDDEN_TIMEOUT_QUIET=true\n",
      "GRUB_TIMEOUT=10\n",
      "GRUB_DISTRIBUTOR=`lsb_release -i -s 2> /dev/null || echo Debian`\n",
      "GRUB_CMDLINE_LINUX_DEFAULT=\"\"\n",
      "#GRUB_CMDLINE_LINUX_DEFAULT=\"quiet splash\"\n",
      "GRUB_CMDLINE_LINUX=\"\"\n",
      "#GRUB_BADRAM=\"0x01234567,0xfefefefe,0x89abcdef,0xefefefef\"\n",
      "#GRUB_TERMINAL=console\n",
      "#GRUB_GFXMODE=640x480\n",
      "#GRUB_DISABLE_LINUX_UUID=true\n",
      "#GRUB_DISABLE_RECOVERY=\"true\"\n",
      "#GRUB_INIT_TUNE=\"480 440 1\"\n"
     ]
    }
   ],
   "source": [
    "# Defaul config fike\n",
    "grep -E '^#?GRUB.+' --color=no /etc/default/grub "
   ]
  },
  {
   "cell_type": "markdown",
   "metadata": {},
   "source": [
    "- `GRUB_DEFAULT`\n",
    "    - The default menu entry. This may be a number or the special string `saved` (`sudo grub-set-default`).  \n",
    "    - \"2>2\" submenus\n",
    "    \n",
    "- `GRUB_SAVEDEFAULT`\n",
    "    - If this option is set to `true`, then, when an entry is selected, save it as a new default entry for use by future runs of GRUB.  \n",
    "\n",
    "\n",
    "- `GRUB_TIMEOUT`\n",
    "    - Boot the default entry this many seconds after the menu is displayed.  \n",
    "    - Set to `0` to boot immediately without displaying the menu, or to `-1` to wait indefinitely.  \n",
    "\n",
    "\n",
    "- `GRUB_HIDDEN_TIMEOUT`    \n",
    "    - Wait this many seconds before displaying the menu. If ESC is pressed during that time, display the menu.  \n",
    "    - If you set `GRUB_HIDDEN_TIMEOUT`, you should also set `GRUB_TIMEOUT=0` so that the menu is not displayed at all unless ESC is pressed.  \n",
    "\n",
    "\n",
    "- `GRUB_HIDDEN_TIMEOUT_QUIET`\n",
    "    - to suppress the verbose countdown while waiting for a key to be pressed before displaying the menu.  \n",
    "\n",
    "\n",
    "- `GRUB_DISTRIBUTOR`\n",
    "    - Set by distributors of GRUB to their identifying name. This is used to generate more informative menu entry titles.  \n",
    "\n",
    "\n",
    "- `GRUB_CMDLINE_LINUX_DEFAULT`\n",
    "    - Unless `GRUB_DISABLE_RECOVERY` is set to `true`, two menu entries will be generated for each Linux kernel: one default entry and one entry for recovery mode. This option lists command-line arguments to add only to the **default** menu entry, after those listed in \n",
    "`GRUB_CMDLINE_LINUX`.  \n",
    "\n",
    "\n",
    "- `GRUB_CMDLINE_LINUX`\n",
    "    - Command-line arguments to add to menu entries for the Linux kernel.  \n",
    "    \n",
    "    \n",
    "- `GRUB_RECORDFAIL_TIMEOUT`\n",
    "    - Show menu if last boot has been failed\n",
    "        - `-1 wait`\n",
    "        -  `0 do not wait no matter what`\n",
    "        - `>0 wait x second`\n",
    "        \n",
    "- `GRUB_DISABLE_SUBMENU`\n",
    "    - `y`"
   ]
  },
  {
   "cell_type": "code",
   "execution_count": 33,
   "metadata": {},
   "outputs": [
    {
     "name": "stdout",
     "output_type": "stream",
     "text": [
      "Ubuntu\n"
     ]
    }
   ],
   "source": [
    "lsb_release -i  -s || echo debian"
   ]
  },
  {
   "cell_type": "code",
   "execution_count": null,
   "metadata": {
    "collapsed": true
   },
   "outputs": [],
   "source": [
    "grub-mkconfig -o /boot/grub/grub.cfg # /boot/grub2/grub.cfg in some: grub.conf"
   ]
  },
  {
   "cell_type": "code",
   "execution_count": null,
   "metadata": {
    "collapsed": true
   },
   "outputs": [],
   "source": [
    "update-grub"
   ]
  },
  {
   "cell_type": "code",
   "execution_count": 1,
   "metadata": {},
   "outputs": [
    {
     "name": "stdout",
     "output_type": "stream",
     "text": [
      "update-grub (8)      - stub for grub-mkconfig\n"
     ]
    }
   ],
   "source": [
    "whatis update-grub"
   ]
  },
  {
   "cell_type": "code",
   "execution_count": 4,
   "metadata": {},
   "outputs": [
    {
     "name": "stdout",
     "output_type": "stream",
     "text": [
      "#\n",
      "# DO NOT EDIT THIS FILE\n",
      "#\n",
      "# It is automatically generated by grub-mkconfig using templates\n",
      "# from /etc/grub.d and settings from /etc/default/grub\n"
     ]
    }
   ],
   "source": [
    "head -5 /boot/grub/grub.cfg"
   ]
  },
  {
   "cell_type": "markdown",
   "metadata": {},
   "source": [
    "grub.cfg is overwritten by certain Grub 2 package updates, whenever a kernel is added or removed, or when the user runs update-grub. "
   ]
  },
  {
   "cell_type": "code",
   "execution_count": 2,
   "metadata": {},
   "outputs": [
    {
     "name": "stdout",
     "output_type": "stream",
     "text": [
      "\u001b[0m\u001b[01;32m00_header\u001b[0m        \u001b[01;32m10_linux\u001b[0m      \u001b[01;32m30_os-prober\u001b[0m      \u001b[01;32m40_custom\u001b[0m  README\n",
      "\u001b[01;32m05_debian_theme\u001b[0m  \u001b[01;32m20_linux_xen\u001b[0m  \u001b[01;32m30_uefi-firmware\u001b[0m  \u001b[01;32m41_custom\u001b[0m\n"
     ]
    }
   ],
   "source": [
    "ls /etc/grub.d"
   ]
  },
  {
   "cell_type": "code",
   "execution_count": 31,
   "metadata": {},
   "outputs": [
    {
     "name": "stdout",
     "output_type": "stream",
     "text": [
      "  00_*: Reserved for 00_header.\n",
      "  10_*: Native boot entries.\n",
      "  20_*: Third party apps (e.g. memtest86+).\n"
     ]
    }
   ],
   "source": [
    "grep \"*\" /etc/grub.d/README"
   ]
  },
  {
   "cell_type": "markdown",
   "metadata": {},
   "source": [
    "### Password protected entries"
   ]
  },
  {
   "cell_type": "markdown",
   "metadata": {},
   "source": [
    "<span style=\"color:darkred\">Persons with physical access to the computer can gain access to the files via other methods which GRUB 2 cannot prevent. </span>"
   ]
  },
  {
   "cell_type": "code",
   "execution_count": null,
   "metadata": {
    "collapsed": true
   },
   "outputs": [],
   "source": [
    "# What people do\n",
    "sudo nano /etc/grub.d/00_header\n",
    "sudo nano /etc/grub.d/01_users\n",
    "\n",
    "# Should use cat << END ... END"
   ]
  },
  {
   "cell_type": "code",
   "execution_count": null,
   "metadata": {
    "collapsed": true
   },
   "outputs": [],
   "source": [
    "# What I do\n",
    "sudo cp /etc/grub.d/40_custom /etc/grub.d/42_custom"
   ]
  },
  {
   "cell_type": "markdown",
   "metadata": {},
   "source": [
    "#### Superuser\n",
    "Can select/edit anything and have access to terminal."
   ]
  },
  {
   "cell_type": "code",
   "execution_count": null,
   "metadata": {
    "collapsed": true
   },
   "outputs": [],
   "source": [
    "set superusers=\"ravexina\"\n",
    "password ravexina 123\n",
    "\n",
    "# -- other users optional -- #\n",
    "password milad 111\n",
    "password userb 222"
   ]
  },
  {
   "cell_type": "markdown",
   "metadata": {},
   "source": [
    "#### Secure password"
   ]
  },
  {
   "cell_type": "code",
   "execution_count": null,
   "metadata": {
    "collapsed": true
   },
   "outputs": [],
   "source": [
    "grub-mkpasswd-pbkdf2"
   ]
  },
  {
   "cell_type": "markdown",
   "metadata": {},
   "source": [
    "    Enter password: \n",
    "    Reenter password: \n",
    "    PBKDF2 hash of your password is grub.pbkdf2.sha512.10000.048CFA9270E0BC8ECF22A27100538B0864C224E50E9179E018CBDF16FEB788C5D8510158BA65195885E5DB1D2A634C0AAEDF5268A1BF519C64BEB0E3DAF9B208.8E7D8ECC5662FA2431AF078B400788EF93937A324D92B0BC71400554D3E5949092F8CD7851995300479C71BC31E820C43065993CD395DAE4A1FAFC681DB1C668"
   ]
  },
  {
   "cell_type": "markdown",
   "metadata": {},
   "source": [
    "`set superusers=\"milad\"`  \n",
    "`password_pbkdf2 milad grub.pbkdf2.sha512.10000.048CFA9270E0BC8ECF22A27100538B0864C224E5...`"
   ]
  },
  {
   "cell_type": "markdown",
   "metadata": {},
   "source": [
    "#### Protecting menu entries"
   ]
  },
  {
   "cell_type": "code",
   "execution_count": null,
   "metadata": {
    "collapsed": true
   },
   "outputs": [],
   "source": [
    "menuentry --class os \"May be run by any user\" --unrestricted {\n",
    "\n",
    "menuentry --class os \"Superusers only\" --users \"\" {\n",
    "\n",
    "menuentry --class os \"May be run by user1 and user2 or a superuser\" --users user1,user2 {"
   ]
  },
  {
   "cell_type": "code",
   "execution_count": 48,
   "metadata": {},
   "outputs": [
    {
     "name": "stdout",
     "output_type": "stream",
     "text": [
      "      \u001b[01;31m\u001b[Kecho \"menuentry\u001b[m\u001b[K '$(echo \"$title\" | grub_quote)' ${CLASS} \\$menuentry_id_option 'gnulinux-$version-$type-$boot_device_id' {\" | sed \"s/^/$submenu_indentation/\"\n",
      "      \u001b[01;31m\u001b[Kecho \"menuentry\u001b[m\u001b[K '$(echo \"$os\" | grub_quote)' ${CLASS} \\$menuentry_id_option 'gnulinux-simple-$boot_device_id' {\" | sed \"s/^/$submenu_indentation/\"\n"
     ]
    }
   ],
   "source": [
    "# to protect them all\n",
    "grep  \"echo \\\"menuentry\" /etc/grub.d/10_linux"
   ]
  },
  {
   "cell_type": "code",
   "execution_count": 53,
   "metadata": {},
   "outputs": [
    {
     "name": "stdout",
     "output_type": "stream",
     "text": [
      "menuentry '$(echo \"${LONGNAME} $bitstr $onstr\" | grub_quote)' --class osx --class darwin --class os \\$menuentry_id_option 'osprober-xnu-$2-$(grub_get_device_id \"${DEVICE}\")'  {\n",
      "menuentry '$(echo \"${LONGNAME} $onstr\" | grub_quote)' --class windows --class os \\$menuentry_id_option 'osprober-chain-$(grub_get_device_id \"${DEVICE}\")' {\n",
      "menuentry '$(echo \"${LONGNAME} $onstr\" | grub_quote)' --class windows --class os \\$menuentry_id_option 'osprober-efi-$(grub_get_device_id \"${DEVICE}\")' {\n",
      "menuentry '$(echo \"$OS $onstr\" | grub_quote)' --class gnu-linux --class gnu --class os \\$menuentry_id_option 'osprober-gnulinux-simple-$boot_device_id' {\n",
      "\tmenuentry '$(echo \"$title\" | grub_quote)' --class gnu-linux --class gnu --class os \\$menuentry_id_option 'osprober-gnulinux-$LKERNEL-${recovery_params}-$boot_device_id' {\n",
      "menuentry '$(echo \"${LONGNAME} $onstr\" | grub_quote)' --class hurd --class gnu --class os \\$menuentry_id_option 'osprober-gnuhurd-/boot/gnumach.gz-false-$(grub_get_device_id \"${DEVICE}\")' {\n"
     ]
    }
   ],
   "source": [
    "# To other os's\n",
    "sed -n \"/--class os/p\" /etc/grub.d/30_os-prober"
   ]
  },
  {
   "cell_type": "code",
   "execution_count": null,
   "metadata": {
    "collapsed": true
   },
   "outputs": [],
   "source": [
    "sudo sed -i \"s/--class os/--class os --users milad,karam\" /etc/grub.d/30_os-prober"
   ]
  },
  {
   "cell_type": "markdown",
   "metadata": {},
   "source": [
    "### Custom menu entries\n",
    "\n",
    "- 06_custom -> First\n",
    "- 15_custom -> After active"
   ]
  },
  {
   "cell_type": "code",
   "execution_count": 101,
   "metadata": {},
   "outputs": [
    {
     "ename": "",
     "evalue": "1",
     "output_type": "error",
     "traceback": []
    }
   ],
   "source": [
    "grep -Poz \"menuentry 'Ubuntu' (.|\\n)*?\\}\" /boot/grub/grub.cfg "
   ]
  },
  {
   "cell_type": "markdown",
   "metadata": {},
   "source": [
    "`menuentry 'Ubuntu' --class ubuntu --class gnu-linux --class gnu --class os {\n",
    "    recordfail\n",
    "    load_video\n",
    "    gfxmode $linux_gfx_mode\n",
    "    insmod gzio\n",
    "    insmod part_msdos\n",
    "    insmod ext2\n",
    "    set root='hd0,msdos1'\n",
    "    search --no-floppy --fs-uuid --set=root 3c52f-1134-1\n",
    "    linux\t/vmlinuz\n",
    "    initrd\t/initrd.img\n",
    "}`"
   ]
  },
  {
   "cell_type": "code",
   "execution_count": null,
   "metadata": {
    "collapsed": true
   },
   "outputs": [],
   "source": [
    "# GRUB_DISABLE_OS_PROBER=true "
   ]
  },
  {
   "cell_type": "code",
   "execution_count": null,
   "metadata": {
    "collapsed": true
   },
   "outputs": [],
   "source": [
    "sudo chmod -x /etc/grub.d/10_linux /etc/grub.d/20_linux_xen /etc/grub.d/30_os-prober"
   ]
  },
  {
   "cell_type": "code",
   "execution_count": 102,
   "metadata": {},
   "outputs": [
    {
     "name": "stdout",
     "output_type": "stream",
     "text": [
      "lrwxrwxrwx 1 root root 29 May  2 15:28 \u001b[0m\u001b[01;36m/vmlinuz\u001b[0m -> boot/vmlinuz-4.4.0-77-generic\n"
     ]
    }
   ],
   "source": [
    "ll /vmlinuz"
   ]
  },
  {
   "cell_type": "markdown",
   "metadata": {},
   "source": [
    "## Grub legacy"
   ]
  },
  {
   "cell_type": "code",
   "execution_count": null,
   "metadata": {
    "collapsed": true
   },
   "outputs": [],
   "source": [
    "sudo nano /boot/grub/menu.lst # mostly symlink to -> ./grub.conf"
   ]
  },
  {
   "cell_type": "markdown",
   "metadata": {},
   "source": [
    "## Lilo\n",
    "\n",
    "![lilo](img/bl/lilo.png)"
   ]
  },
  {
   "cell_type": "code",
   "execution_count": null,
   "metadata": {
    "collapsed": true
   },
   "outputs": [],
   "source": [
    "sudo nano /etc/lilo.conf"
   ]
  },
  {
   "cell_type": "code",
   "execution_count": null,
   "metadata": {
    "collapsed": true
   },
   "outputs": [],
   "source": [
    "sudo lilo"
   ]
  },
  {
   "cell_type": "code",
   "execution_count": null,
   "metadata": {
    "collapsed": true
   },
   "outputs": [],
   "source": [
    "man 5 lilo.conf"
   ]
  },
  {
   "cell_type": "code",
   "execution_count": null,
   "metadata": {
    "collapsed": true
   },
   "outputs": [],
   "source": [
    "man 8 lilo"
   ]
  },
  {
   "cell_type": "markdown",
   "metadata": {},
   "source": [
    "- - -\n",
    "\n",
    "### Resources:\n",
    "\n",
    "https://www.gnu.org/software/grub/manual/grub.html  \n",
    "https://help.ubuntu.com/community/Grub2  \n",
    "https://help.ubuntu.com/community/Grub2/CustomMenus"
   ]
  },
  {
   "cell_type": "markdown",
   "metadata": {},
   "source": [
    "- - -\n",
    "## Lecture notes\n",
    "\n",
    "- All lecture notes are available at github in `ipynb` format: [https://github.com/ravexina/linux-notes](https://github.com/ravexina/linux-notes). \n",
    "\n",
    "\n",
    "- There are `html` exports of project available at: [https://ravexina.github.io/linux-notes](https://ravexina.github.io/linux-notes).\n",
    "\n",
    "## License\n",
    "<a rel=\"license\" href=\"http://creativecommons.org/licenses/by-nc-sa/4.0/\">\n",
    "<img alt=\"Creative Commons License\" style=\"border-width:0\" src=\"https://i.creativecommons.org/l/by-nc-sa/4.0/88x31.png\" />\n",
    "</a>\n",
    "\n",
    "<span property=\"dct:title\">Linux Notes</span> by \n",
    "<a href=\"http://github.com/ravexina/Linux-Notes\" property=\"cc:attributionName\" rel=\"cc:attributionURL\">Milad As (Ravexina)</a> is licensed under a <a rel=\"license\" href=\"http://creativecommons.org/licenses/by-nc-sa/4.0/\">Creative Commons Attribution-NonCommercial-ShareAlike 4.0 International License</a>.\n",
    "\n",
    "- - -\n",
    "\n",
    "<a rel=\"license\" href=\"https://gitlab.com/ravexina/\"><img alt=\"ravexina's gitlab\" style=\"display:inline;border-width:0;height:30px;float:left;\" src=\"img/logo/logo-square.png\" /></a> \n",
    "\n",
    "<a rel=\"license\" href=\"https://github.com/ravexina/\"><img alt=\"ravexina's github\" style=\"float:right;display:inline;border-width:0;height:30px;\" src=\"img/logo/GitHub_Logo.png\" /></a>"
   ]
  }
 ],
 "metadata": {
  "kernelspec": {
   "display_name": "Bash",
   "language": "bash",
   "name": "bash"
  },
  "language_info": {
   "codemirror_mode": "shell",
   "file_extension": ".sh",
   "mimetype": "text/x-sh",
   "name": "bash"
  }
 },
 "nbformat": 4,
 "nbformat_minor": 2
}
