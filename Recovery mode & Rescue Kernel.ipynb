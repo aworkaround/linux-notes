{
 "cells": [
  {
   "cell_type": "code",
   "execution_count": null,
   "metadata": {},
   "outputs": [],
   "source": [
    "Ubuntu (4.4.0-321.e1) 16.04 xenial        # new installed kernel\n",
    "Ubuntu (4.3.0-011.e0) 16.04 xenial        # old kernel\n",
    "Ubuntu (0-rescue-ce94ks5084) 16.04 xenial # rescue kernel (image) that we can boot into (not rescue target/mode)\n",
    "\n",
    "# if an update broked kernel we got a rescue one"
   ]
  },
  {
   "cell_type": "code",
   "execution_count": 13,
   "metadata": {},
   "outputs": [
    {
     "name": "stdout",
     "output_type": "stream",
     "text": [
      "#GRUB_DISABLE_\u001b[01;31m\u001b[KRECOVERY=\u001b[m\u001b[K\"true\"\n"
     ]
    }
   ],
   "source": [
    "cat /etc/default/grub | grep -i recovery="
   ]
  },
  {
   "cell_type": "code",
   "execution_count": 54,
   "metadata": {},
   "outputs": [
    {
     "name": "stdout",
     "output_type": "stream",
     "text": [
      "GRUB_DISABLE_RECOVERY=\"false\"\n"
     ]
    }
   ],
   "source": [
    "sed  -n \"/REC/s/^#//; /REC/s/true/false/p\" /etc/default/grub\n",
    "# sed -i \"/REC/s/^#//; /REC/s/true/false/\" /etc/default/grub"
   ]
  },
  {
   "cell_type": "code",
   "execution_count": 56,
   "metadata": {
    "collapsed": true
   },
   "outputs": [],
   "source": [
    "# update-grub\n",
    "# grub-mkconfig -o /boot/grub/grub.cfg"
   ]
  },
  {
   "cell_type": "raw",
   "metadata": {},
   "source": [
    "Ubuntu (4.4.0-321.e1) 16.04 xenial \n",
    "Ubuntu (4.4.0-321.e1) 16.04 xenial (recovery mode)\n",
    "Ubuntu (4.3.0-011.e0) 16.04 xenial\n",
    "Ubuntu (4.3.0-011.e0) 16.04 xenial (recovery mode)\n",
    "Ubuntu (0-rescue-ce94ks5084) 16.04 xenial \n",
    "Ubuntu (0-rescue-ce94ks5084) 16.04 xenial (recovery mode)"
   ]
  },
  {
   "cell_type": "markdown",
   "metadata": {},
   "source": [
    "- - -\n",
    "## Lecture notes\n",
    "\n",
    "- All lecture notes are available at github in `ipynb` format: [https://github.com/ravexina/linux-notes](https://github.com/ravexina/linux-notes). \n",
    "\n",
    "\n",
    "- There are `html` exports of project available at: [https://ravexina.github.io/linux-notes](https://ravexina.github.io/linux-notes).\n",
    "\n",
    "## License\n",
    "<a rel=\"license\" href=\"http://creativecommons.org/licenses/by-nc-sa/4.0/\">\n",
    "<img alt=\"Creative Commons License\" style=\"border-width:0\" src=\"https://i.creativecommons.org/l/by-nc-sa/4.0/88x31.png\" />\n",
    "</a>\n",
    "\n",
    "<span property=\"dct:title\">Linux Notes</span> by \n",
    "<a href=\"http://github.com/ravexina/Linux-Notes\" property=\"cc:attributionName\" rel=\"cc:attributionURL\">Milad As (Ravexina)</a> is licensed under a <a rel=\"license\" href=\"http://creativecommons.org/licenses/by-nc-sa/4.0/\">Creative Commons Attribution-NonCommercial-ShareAlike 4.0 International License</a>.\n",
    "\n",
    "- - -\n",
    "\n",
    "<a rel=\"license\" href=\"https://gitlab.com/ravexina/\"><img alt=\"ravexina's gitlab\" style=\"display:inline;border-width:0;height:30px;float:left;\" src=\"img/logo/logo-square.png\" /></a> \n",
    "\n",
    "<a rel=\"license\" href=\"https://github.com/ravexina/\"><img alt=\"ravexina's github\" style=\"float:right;display:inline;border-width:0;height:30px;\" src=\"img/logo/GitHub_Logo.png\" /></a>"
   ]
  }
 ],
 "metadata": {
  "kernelspec": {
   "display_name": "Bash",
   "language": "bash",
   "name": "bash"
  },
  "language_info": {
   "codemirror_mode": "shell",
   "file_extension": ".sh",
   "mimetype": "text/x-sh",
   "name": "bash"
  }
 },
 "nbformat": 4,
 "nbformat_minor": 2
}
