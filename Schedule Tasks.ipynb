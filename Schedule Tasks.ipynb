{
 "cells": [
  {
   "cell_type": "markdown",
   "metadata": {},
   "source": [
    "## Cron\n",
    "\n",
    "The cron daemon is a background process that runs particular programs at particular times.  "
   ]
  },
  {
   "cell_type": "code",
   "execution_count": 1,
   "metadata": {},
   "outputs": [
    {
     "name": "stdout",
     "output_type": "stream",
     "text": [
      "/etc/crontab\n",
      "\n",
      "/etc/cron.d:\n",
      "popularity-contest\n",
      "\n",
      "/etc/cron.daily:\n",
      "\u001b[0m\u001b[01;32mapt-compat\u001b[0m    \u001b[01;32mdpkg\u001b[0m       \u001b[01;32mman-db\u001b[0m   \u001b[01;32mpasswd\u001b[0m\n",
      "\u001b[01;32mbsdmainutils\u001b[0m  \u001b[01;32mlogrotate\u001b[0m  \u001b[01;32mmlocate\u001b[0m  \u001b[01;32mpopularity-contest\u001b[0m\n",
      "\n",
      "/etc/cron.hourly:\n",
      "\n",
      "/etc/cron.monthly:\n",
      "\u001b[01;32mvrms\u001b[0m\n",
      "\n",
      "/etc/cron.weekly:\n",
      "\u001b[01;32mfstrim\u001b[0m  \u001b[01;32mman-db\u001b[0m  \u001b[01;32mtor\u001b[0m\n"
     ]
    }
   ],
   "source": [
    "ls /etc/cron*"
   ]
  },
  {
   "cell_type": "markdown",
   "metadata": {},
   "source": [
    "- Root put (His/Other Users) jobs here:  <span style=\"color:green\">/etc/crontab</span> **(system-wide crontab)**  \n",
    "- extension of crontab:  <span style=\"color:green\">/etc/cron.d</span>\n",
    "\n",
    "- <span style=\"color:blue\">Not in cron format</span>. These are scripts that run once a dail, hour, etc.\n",
    "    - cron.daily/\n",
    "    - cron.hourly/\n",
    "    - cron.weekly/\n",
    "    - cron.monthly/"
   ]
  },
  {
   "cell_type": "code",
   "execution_count": 7,
   "metadata": {},
   "outputs": [
    {
     "name": "stdout",
     "output_type": "stream",
     "text": [
      "# /etc/crontab: system-wide crontab\n",
      "# Unlike any other crontab you don't have to run the `crontab'\n",
      "# command to install the new version when you edit this file\n",
      "# and files in /etc/cron.d. These files also have username fields,\n",
      "# that none of the other crontabs do.\n",
      "\n",
      "SHELL=/bin/sh\n",
      "PATH=/usr/local/sbin:/usr/local/bin:/sbin:/bin:/usr/sbin:/usr/bin\n",
      "\n",
      "# m h dom mon dow user\tcommand\n",
      "17 *\t* * *\troot    cd / && run-parts --report /etc/cron.hourly\n"
     ]
    }
   ],
   "source": [
    "head -11 /etc/crontab"
   ]
  },
  {
   "cell_type": "code",
   "execution_count": null,
   "metadata": {
    "collapsed": true
   },
   "outputs": [],
   "source": [
    "echo \"30 8-16 * * * milad updtime >> /home/milad/test\" >> /etc/crontab \n",
    "# system wide, root access, will run by milad"
   ]
  },
  {
   "cell_type": "markdown",
   "metadata": {},
   "source": [
    "Every 30 Min\n",
    "From 8 Am to 4 PM\n",
    "Every day of month, day of week"
   ]
  },
  {
   "cell_type": "markdown",
   "metadata": {},
   "source": [
    "<img style=\"width:75%\" src=\"img/cron.png\" />"
   ]
  },
  {
   "cell_type": "code",
   "execution_count": null,
   "metadata": {
    "collapsed": true
   },
   "outputs": [],
   "source": [
    "crontab -e # user specific cron file"
   ]
  },
  {
   "cell_type": "code",
   "execution_count": null,
   "metadata": {
    "collapsed": true
   },
   "outputs": [],
   "source": [
    "# in top of crontab file will email the command output to milad\n",
    "MAILTO=milad"
   ]
  },
  {
   "cell_type": "code",
   "execution_count": null,
   "metadata": {
    "collapsed": true
   },
   "outputs": [],
   "source": [
    "crontab -l # shows usere cron file\n",
    "crontab -r # delete crontab file"
   ]
  },
  {
   "cell_type": "code",
   "execution_count": null,
   "metadata": {
    "collapsed": true
   },
   "outputs": [],
   "source": [
    "/etc/cron.deny  # users in this file can't use cron\n",
    "/etc/cron.allow # if created only users in this file can use cron (NO ONE ELSE)"
   ]
  },
  {
   "cell_type": "markdown",
   "metadata": {},
   "source": [
    "*if both cron.allow and cron.deny files exist the cron.deny is ignored.*"
   ]
  },
  {
   "cell_type": "markdown",
   "metadata": {},
   "source": [
    "## At\n",
    "queue, examine or delete jobs for later execution"
   ]
  },
  {
   "cell_type": "code",
   "execution_count": 11,
   "metadata": {},
   "outputs": [
    {
     "name": "stdout",
     "output_type": "stream",
     "text": [
      "active\n"
     ]
    }
   ],
   "source": [
    "systemctl is-active atd.service"
   ]
  },
  {
   "cell_type": "markdown",
   "metadata": {},
   "source": [
    "<span style=\"color:green\">at</span> HH:MM <span style=\"color:gray\"> If that time is already past, the next day is assumed. </span>   \n",
    "<span style=\"color:green\">at</span> midnight, noon, or teatime (4pm)  \n",
    "<span style=\"color:green\">at</span> **now** + count time-units  \n",
    "\n",
    "- Time-units: \n",
    "    - minutes, hours, days, or weeks\n",
    "    - today by suffixing the time with today\n",
    "    - tomorrow by suffixing the time with tomorrow\n",
    "    \n",
    "** Examples: **\n",
    "- <span style=\"color:green\">at</span>  1am tomorrow\n",
    "- <span style=\"color:green\">at</span>  17:04 sep 23"
   ]
  },
  {
   "cell_type": "code",
   "execution_count": null,
   "metadata": {
    "collapsed": true
   },
   "outputs": [],
   "source": [
    "at -l     : atq\n",
    "at -d, -r : atrm\n",
    "at -b     : batch"
   ]
  },
  {
   "cell_type": "code",
   "execution_count": null,
   "metadata": {
    "collapsed": true
   },
   "outputs": [],
   "source": [
    "/etc/at.deny  # users in this file can't use at\n",
    "/etc/at.allow # if created only users in this file can use at (NO ONE ELSE)"
   ]
  },
  {
   "cell_type": "markdown",
   "metadata": {},
   "source": [
    "- - -\n",
    "## Lecture notes\n",
    "\n",
    "- All lecture notes are available at github in `ipynb` format: [https://github.com/ravexina/linux-notes](https://github.com/ravexina/linux-notes). \n",
    "\n",
    "\n",
    "- There are `html` exports of project available at: [https://ravexina.github.io/linux-notes](https://ravexina.github.io/linux-notes).\n",
    "\n",
    "## License\n",
    "<a rel=\"license\" href=\"http://creativecommons.org/licenses/by-nc-sa/4.0/\">\n",
    "<img alt=\"Creative Commons License\" style=\"border-width:0\" src=\"https://i.creativecommons.org/l/by-nc-sa/4.0/88x31.png\" />\n",
    "</a>\n",
    "\n",
    "<span property=\"dct:title\">Linux Notes</span> by \n",
    "<a href=\"http://github.com/ravexina/Linux-Notes\" property=\"cc:attributionName\" rel=\"cc:attributionURL\">Milad As (Ravexina)</a> is licensed under a <a rel=\"license\" href=\"http://creativecommons.org/licenses/by-nc-sa/4.0/\">Creative Commons Attribution-NonCommercial-ShareAlike 4.0 International License</a>.\n",
    "\n",
    "- - -\n",
    "\n",
    "<a rel=\"license\" href=\"https://gitlab.com/ravexina/\"><img alt=\"ravexina's gitlab\" style=\"display:inline;border-width:0;height:30px;float:left;\" src=\"img/logo/logo-square.png\" /></a> \n",
    "\n",
    "<a rel=\"license\" href=\"https://github.com/ravexina/\"><img alt=\"ravexina's github\" style=\"float:right;display:inline;border-width:0;height:30px;\" src=\"img/logo/GitHub_Logo.png\" /></a>"
   ]
  }
 ],
 "metadata": {
  "kernelspec": {
   "display_name": "Bash",
   "language": "bash",
   "name": "bash"
  },
  "language_info": {
   "codemirror_mode": "shell",
   "file_extension": ".sh",
   "mimetype": "text/x-sh",
   "name": "bash"
  }
 },
 "nbformat": 4,
 "nbformat_minor": 2
}
