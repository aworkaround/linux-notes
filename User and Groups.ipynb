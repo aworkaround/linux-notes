{
 "cells": [
  {
   "cell_type": "markdown",
   "metadata": {},
   "source": [
    "## Important files\n",
    "\n",
    "/etc/passwd : all users and accountt data\n",
    "/etc/shadow \n",
    "/etc/group\n",
    "\n",
    "## ID\n",
    "\n",
    "0: Root id  \n",
    "\n",
    "1-99 are traditionally reserved for special system users (sometimes called pseudo-users), such as wheel, daemon, lp, operator, news, mail, etc.  \n",
    "\n",
    "1-200:    system processes (Redhat)  \n",
    "201-999:  system users that uses system process but don't own file on the system\n",
    "1000 -  : system users"
   ]
  },
  {
   "cell_type": "code",
   "execution_count": 1,
   "metadata": {},
   "outputs": [
    {
     "name": "stdout",
     "output_type": "stream",
     "text": [
      "id (1)               - print real and effective user and group IDs\n"
     ]
    }
   ],
   "source": [
    "whatis id"
   ]
  },
  {
   "cell_type": "code",
   "execution_count": 7,
   "metadata": {},
   "outputs": [
    {
     "name": "stdout",
     "output_type": "stream",
     "text": [
      "uid=1000(milad) gid=1000(milad) groups=1000(milad),4(adm),24(cdrom),27(sudo),30(dip),46(plugdev),114(lpadmin),115(sambashare),119(vboxusers),123(wireshark)\n"
     ]
    }
   ],
   "source": [
    "id milad"
   ]
  },
  {
   "cell_type": "code",
   "execution_count": 3,
   "metadata": {},
   "outputs": [
    {
     "name": "stdout",
     "output_type": "stream",
     "text": [
      "1000\n",
      "milad\n"
     ]
    }
   ],
   "source": [
    "id -u\n",
    "id -un"
   ]
  },
  {
   "cell_type": "code",
   "execution_count": 4,
   "metadata": {},
   "outputs": [
    {
     "name": "stdout",
     "output_type": "stream",
     "text": [
      "1000\n",
      "milad\n"
     ]
    }
   ],
   "source": [
    "id -g\n",
    "id -gn"
   ]
  },
  {
   "cell_type": "code",
   "execution_count": 5,
   "metadata": {},
   "outputs": [
    {
     "name": "stdout",
     "output_type": "stream",
     "text": [
      "1000 4 24 27 30 46 114 115 119 123\n",
      "milad adm cdrom sudo dip plugdev lpadmin sambashare vboxusers wireshark\n"
     ]
    }
   ],
   "source": [
    "id -G\n",
    "id -Gn"
   ]
  },
  {
   "cell_type": "code",
   "execution_count": 6,
   "metadata": {},
   "outputs": [
    {
     "name": "stdout",
     "output_type": "stream",
     "text": [
      "1000\n"
     ]
    }
   ],
   "source": [
    "id -g milad"
   ]
  },
  {
   "cell_type": "markdown",
   "metadata": {},
   "source": [
    "## Adding user"
   ]
  },
  {
   "cell_type": "code",
   "execution_count": null,
   "metadata": {
    "collapsed": true
   },
   "outputs": [],
   "source": [
    "useradd -mM -c \"Milad As\" -g [primary group id] --skel SKEL_DIR -s /bin/bash -u UID -e Y-M-D milad"
   ]
  },
  {
   "cell_type": "code",
   "execution_count": null,
   "metadata": {
    "collapsed": true
   },
   "outputs": [],
   "source": [
    "-U create a same group as username and add user to it  \n",
    "-m create home dir  \n",
    "-M do not create home directory  \n",
    "-d home dir  \n",
    "\n",
    "/etc/skel                Default SKEL_DIR  \n",
    "/etc/default/useradd     Default settings"
   ]
  },
  {
   "cell_type": "code",
   "execution_count": null,
   "metadata": {
    "collapsed": true
   },
   "outputs": [],
   "source": [
    "usermod -L milad # lock # Adds a ! in shadow file password field\n",
    "usermod -U milad # unlock"
   ]
  },
  {
   "cell_type": "code",
   "execution_count": null,
   "metadata": {
    "collapsed": true
   },
   "outputs": [],
   "source": [
    "  -a, --append                  append the user to the supplemental GROUPS\n",
    "  -m, --move-home               move contents of the home directory to the"
   ]
  },
  {
   "cell_type": "markdown",
   "metadata": {},
   "source": [
    "## Manage password and login"
   ]
  },
  {
   "cell_type": "code",
   "execution_count": null,
   "metadata": {
    "collapsed": true
   },
   "outputs": [],
   "source": [
    "# Change user password\n",
    "\n",
    "passwd # Current user\n",
    "passwd username"
   ]
  },
  {
   "cell_type": "code",
   "execution_count": null,
   "metadata": {
    "collapsed": true
   },
   "outputs": [],
   "source": [
    "/usr/sbin/nologin - to prevent login\n",
    "\n",
    "# have look at:\n",
    "/etc/shadow\n",
    "milad:x:17032:0:99999:7:::\n",
    "user : passHash : lastPassCh : DayToAllowPassCh : DayToRequirePassCh : warnBeforeExpire : activeAfterExpire : expireDate"
   ]
  },
  {
   "cell_type": "markdown",
   "metadata": {},
   "source": [
    "### Manage password policies\n",
    "/etc/login.defs  -  shadow password suite configuration  \n",
    "ex: how many day to change pass or shoud change pass\n",
    "\n",
    "man 5 login.defs"
   ]
  },
  {
   "cell_type": "code",
   "execution_count": null,
   "metadata": {
    "collapsed": true
   },
   "outputs": [],
   "source": [
    "chage - change user password expiry information"
   ]
  },
  {
   "cell_type": "code",
   "execution_count": 9,
   "metadata": {},
   "outputs": [
    {
     "name": "stdout",
     "output_type": "stream",
     "text": [
      "Last password change\t\t\t\t\t: Aug 19, 2016\n",
      "Password expires\t\t\t\t\t: never\n",
      "Password inactive\t\t\t\t\t: never\n",
      "Account expires\t\t\t\t\t\t: never\n",
      "Minimum number of days between password change\t\t: 0\n",
      "Maximum number of days between password change\t\t: 99999\n",
      "Number of days of warning before password expires\t: 7\n"
     ]
    }
   ],
   "source": [
    "chage -l milad"
   ]
  },
  {
   "cell_type": "code",
   "execution_count": null,
   "metadata": {
    "collapsed": true
   },
   "outputs": [],
   "source": [
    "chage -E [`date -d \"+10day\" +%F` | -1 to remove]"
   ]
  },
  {
   "cell_type": "markdown",
   "metadata": {},
   "source": [
    "## Groups"
   ]
  },
  {
   "cell_type": "code",
   "execution_count": null,
   "metadata": {
    "collapsed": true
   },
   "outputs": [],
   "source": [
    "groupadd\n",
    "groupmod\n",
    "groupdel\n",
    "gpasswd"
   ]
  },
  {
   "cell_type": "code",
   "execution_count": 21,
   "metadata": {},
   "outputs": [
    {
     "name": "stdout",
     "output_type": "stream",
     "text": [
      "sudo:x:27:milad\n"
     ]
    }
   ],
   "source": [
    "getent group sudo"
   ]
  },
  {
   "cell_type": "code",
   "execution_count": 19,
   "metadata": {},
   "outputs": [
    {
     "name": "stdout",
     "output_type": "stream",
     "text": [
      "milad : milad adm cdrom sudo dip plugdev lpadmin sambashare vboxusers wireshark\n"
     ]
    }
   ],
   "source": [
    "groups milad"
   ]
  },
  {
   "cell_type": "code",
   "execution_count": 20,
   "metadata": {},
   "outputs": [
    {
     "name": "stdout",
     "output_type": "stream",
     "text": [
      "10\n"
     ]
    }
   ],
   "source": [
    "cat /etc/group | grep milad | wc -l"
   ]
  },
  {
   "cell_type": "code",
   "execution_count": 26,
   "metadata": {},
   "outputs": [
    {
     "name": "stdout",
     "output_type": "stream",
     "text": [
      "drwxrwxr-x 2 milad milad 4.0K Dec 28 07:15 \u001b[0m\u001b[01;34mtest\u001b[0m\n"
     ]
    }
   ],
   "source": [
    "mkdir test\n",
    "ls -lhd test"
   ]
  },
  {
   "cell_type": "markdown",
   "metadata": {},
   "source": [
    "### chgrp, chown, newgrp"
   ]
  },
  {
   "cell_type": "code",
   "execution_count": 32,
   "metadata": {},
   "outputs": [
    {
     "name": "stdout",
     "output_type": "stream",
     "text": [
      "drwxrwxr-x 2 milad adm 4.0K Dec 28 07:15 \u001b[0m\u001b[01;34mtest\u001b[0m\n"
     ]
    }
   ],
   "source": [
    "chgrp adm test\n",
    "ls -lhd test"
   ]
  },
  {
   "cell_type": "code",
   "execution_count": 31,
   "metadata": {},
   "outputs": [
    {
     "name": "stdout",
     "output_type": "stream",
     "text": [
      "drwxrwxr-x 2 milad milad 4.0K Dec 28 07:15 \u001b[0m\u001b[01;34mtest\u001b[0m\n"
     ]
    }
   ],
   "source": [
    "chown :milad test\n",
    "ls -lhd test"
   ]
  },
  {
   "cell_type": "code",
   "execution_count": 33,
   "metadata": {
    "collapsed": true
   },
   "outputs": [],
   "source": [
    "chgrp adm test\n",
    "cd test\n",
    "touch newfile.txt\n",
    "ls -lhtrFA\n",
    "newgrp adm\n",
    "touch newfile2.txt\n",
    "ls -l"
   ]
  },
  {
   "cell_type": "markdown",
   "metadata": {},
   "source": [
    "### setgid"
   ]
  },
  {
   "cell_type": "code",
   "execution_count": null,
   "metadata": {
    "collapsed": true
   },
   "outputs": [],
   "source": [
    "chmod g+s test/\n",
    "# inharite parent directory group"
   ]
  },
  {
   "cell_type": "markdown",
   "metadata": {},
   "source": [
    "- - -\n",
    "## Lecture notes\n",
    "\n",
    "- All lecture notes are available at github in `ipynb` format: [https://github.com/ravexina/linux-notes](https://github.com/ravexina/linux-notes). \n",
    "\n",
    "\n",
    "- There are `html` exports of project available at: [https://ravexina.github.io/linux-notes](https://ravexina.github.io/linux-notes).\n",
    "\n",
    "## License\n",
    "<a rel=\"license\" href=\"http://creativecommons.org/licenses/by-nc-sa/4.0/\">\n",
    "<img alt=\"Creative Commons License\" style=\"border-width:0\" src=\"https://i.creativecommons.org/l/by-nc-sa/4.0/88x31.png\" />\n",
    "</a>\n",
    "\n",
    "<span property=\"dct:title\">Linux Notes</span> by \n",
    "<a href=\"http://github.com/ravexina/Linux-Notes\" property=\"cc:attributionName\" rel=\"cc:attributionURL\">Milad As (Ravexina)</a> is licensed under a <a rel=\"license\" href=\"http://creativecommons.org/licenses/by-nc-sa/4.0/\">Creative Commons Attribution-NonCommercial-ShareAlike 4.0 International License</a>.\n",
    "\n",
    "- - -\n",
    "\n",
    "<a rel=\"license\" href=\"https://gitlab.com/ravexina/\"><img alt=\"ravexina's gitlab\" style=\"display:inline;border-width:0;height:30px;float:left;\" src=\"img/logo/logo-square.png\" /></a> \n",
    "\n",
    "<a rel=\"license\" href=\"https://github.com/ravexina/\"><img alt=\"ravexina's github\" style=\"float:right;display:inline;border-width:0;height:30px;\" src=\"img/logo/GitHub_Logo.png\" /></a>"
   ]
  }
 ],
 "metadata": {
  "kernelspec": {
   "display_name": "Bash",
   "language": "bash",
   "name": "bash"
  },
  "language_info": {
   "codemirror_mode": "shell",
   "file_extension": ".sh",
   "mimetype": "text/x-sh",
   "name": "bash"
  }
 },
 "nbformat": 4,
 "nbformat_minor": 2
}
