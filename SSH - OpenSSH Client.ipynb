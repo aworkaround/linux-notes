{
 "cells": [
  {
   "cell_type": "markdown",
   "metadata": {},
   "source": [
    "## Simple usage"
   ]
  },
  {
   "cell_type": "code",
   "execution_count": 19,
   "metadata": {},
   "outputs": [
    {
     "name": "stdout",
     "output_type": "stream",
     "text": [
      "\u001b[01;31m\u001b[Kssh\u001b[m\u001b[K\t\t22/tcp\t\t\t\t# \u001b[01;31m\u001b[KSSH\u001b[m\u001b[K Remote Login Protocol\n",
      "\u001b[01;31m\u001b[Kssh\u001b[m\u001b[K\t\t22/udp\n"
     ]
    }
   ],
   "source": [
    "grep -i ssh /etc/services\n",
    "\n",
    "# ftp: 20, 21\n",
    "# telnet: 23"
   ]
  },
  {
   "cell_type": "code",
   "execution_count": null,
   "metadata": {
    "collapsed": true
   },
   "outputs": [],
   "source": [
    "apt-get install openssh-client"
   ]
  },
  {
   "cell_type": "code",
   "execution_count": 7,
   "metadata": {},
   "outputs": [
    {
     "name": "stdout",
     "output_type": "stream",
     "text": [
      "lrwxrwxrwx 1 root root 3 Aug 11 20:55 \u001b[0m\u001b[01;36m/usr/bin/slogin\u001b[0m -> \u001b[01;32mssh\u001b[0m\n"
     ]
    }
   ],
   "source": [
    "ls -l /usr/bin/slogin"
   ]
  },
  {
   "cell_type": "code",
   "execution_count": null,
   "metadata": {
    "collapsed": true
   },
   "outputs": [],
   "source": [
    "ssh 192.168.56.4 # same user as we logged in with, user@host$"
   ]
  },
  {
   "cell_type": "code",
   "execution_count": 13,
   "metadata": {},
   "outputs": [
    {
     "name": "stdout",
     "output_type": "stream",
     "text": [
      "total 4\n",
      "-rw-------. 1 milad milad 389 Dec 31 21:54 authorized_keys\n"
     ]
    }
   ],
   "source": [
    "ssh milad@192.168.56.4 ls -l .ssh # issue command without connecting into the remote machine"
   ]
  },
  {
   "cell_type": "markdown",
   "metadata": {},
   "source": [
    "## Config"
   ]
  },
  {
   "cell_type": "code",
   "execution_count": 7,
   "metadata": {},
   "outputs": [
    {
     "name": "stdout",
     "output_type": "stream",
     "text": [
      "Host srv1\n",
      "    HostName 192.168.56.5\n",
      "    User milad\n",
      "    Port 22\n"
     ]
    }
   ],
   "source": [
    "nano .ssh/config"
   ]
  },
  {
   "cell_type": "markdown",
   "metadata": {},
   "source": [
    "## Verify ssh fingerprint"
   ]
  },
  {
   "cell_type": "code",
   "execution_count": 6,
   "metadata": {},
   "outputs": [
    {
     "name": "stdout",
     "output_type": "stream",
     "text": [
      "|1|xTYhQn7iqwKon6UeUSothBrzMUU=|r295lLgKaYB5L0XT5FOHiPR1xF8= ecdsa-sha2-nistp256 AAAAE2VjZHNhLXNoYTItbmlzdHAyNTYAAAAIbmlzdHAyNTYAAABBBA5DJEiZYdLRS5738n9dBZNnfFAUHovnq3061IsgWFwzRHWcdKIa3D4TzfZKQN/5d4gjBSznzawT1LP9GCEeWEE=\n"
     ]
    }
   ],
   "source": [
    "cat .ssh/known_hosts | head -1"
   ]
  },
  {
   "cell_type": "code",
   "execution_count": null,
   "metadata": {
    "collapsed": true
   },
   "outputs": [],
   "source": [
    "ssh localhost # will give you the fingerprint of localhost"
   ]
  },
  {
   "cell_type": "code",
   "execution_count": 5,
   "metadata": {},
   "outputs": [
    {
     "name": "stdout",
     "output_type": "stream",
     "text": [
      "# 192.168.56.4:22 SSH-2.0-OpenSSH_6.6.1\n",
      "192.168.56.4 ecdsa-sha2-nistp256 AAAAE2VjZHNhLXNoYTItbmlzdHAyNTYAAAAIbmlzdHAyNTYAAABBBA5DJEiZYdLRS5738n9dBZNnfFAUHovnq3061IsgWFwzRHWcdKIa3D4TzfZKQN/5d4gjBSznzawT1LP9GCEeWEE=\n"
     ]
    }
   ],
   "source": [
    "# Gather ssh public keys\n",
    "ssh-keyscan -t ecdsa localhost\n",
    "ssh-keyscan -t ecdsa 192.168.56.4"
   ]
  },
  {
   "cell_type": "code",
   "execution_count": null,
   "metadata": {
    "collapsed": true
   },
   "outputs": [],
   "source": [
    "cat /etc/ssh/ssh_host_ecdsa_key.pub # same as ssh-keyscan -t ecdsa localhost"
   ]
  },
  {
   "cell_type": "code",
   "execution_count": 4,
   "metadata": {},
   "outputs": [
    {
     "name": "stdout",
     "output_type": "stream",
     "text": [
      "256 SHA256:0MY+8jktivMDvak0C1THTqmDbhWYrQBT//AsR1YQoV4 192.168.56.4 (ECDSA)\n"
     ]
    }
   ],
   "source": [
    "ssh-keyscan -t ecdsa localhost > ssh.ecdsa 2> /dev/null\n",
    "ssh-keygen -lf ssh.ecdsa"
   ]
  },
  {
   "cell_type": "code",
   "execution_count": null,
   "metadata": {
    "collapsed": true
   },
   "outputs": [],
   "source": [
    "ssh"
   ]
  },
  {
   "cell_type": "raw",
   "metadata": {},
   "source": [
    "The authenticity of host '192.168.56.4 (192.168.56.4)' can't be established.\n",
    "ECDSA key fingerprint is SHA256:0MY+8jktivMDvak0C1THTqmDbhWYrQBT//AsR1YQoV4.\n",
    "Are you sure you want to continue connecting (yes/no)? "
   ]
  },
  {
   "cell_type": "code",
   "execution_count": null,
   "metadata": {
    "collapsed": true
   },
   "outputs": [],
   "source": [
    "ssh -o FingerprintHash=md5"
   ]
  },
  {
   "cell_type": "raw",
   "metadata": {},
   "source": [
    "The authenticity of host '192.168.56.4 (192.168.56.4)' can't be established.\n",
    "ECDSA key fingerprint is MD5:84:2f:86:b3:6d:86:0b:f3:cf:fe:95:de:20:e6:8d:6b.\n",
    "Are you sure you want to continue connecting (yes/no)? "
   ]
  },
  {
   "cell_type": "markdown",
   "metadata": {},
   "source": [
    "## Create a pair of key"
   ]
  },
  {
   "cell_type": "code",
   "execution_count": null,
   "metadata": {
    "collapsed": true
   },
   "outputs": [],
   "source": [
    "ssh-keygen -t rsa -b 4096 -C 'milad@tuxgeek.ir' -P '1234'\n",
    "# RSA> min: 1024 - default: 2048\n",
    "# DSA> 1024 Exact"
   ]
  },
  {
   "cell_type": "raw",
   "metadata": {},
   "source": [
    "Enter file in which to save the key (/home/milad/.ssh/id_rsa): \n",
    "Your identification has been saved in id_rsa."
   ]
  },
  {
   "cell_type": "markdown",
   "metadata": {},
   "source": [
    "## Copy ID in a safe way"
   ]
  },
  {
   "cell_type": "code",
   "execution_count": null,
   "metadata": {
    "collapsed": true
   },
   "outputs": [],
   "source": [
    "ssh-copy-id root@srv1\n",
    "ssh-copy-id root@192.168.56.4\n",
    "ssh-copy-id 192.168.56.4 # same as user we logged in\n",
    "ssh-copy-id -i new_rsa milad@srv1"
   ]
  },
  {
   "cell_type": "markdown",
   "metadata": {},
   "source": [
    "Default behaviour without -i, is to check if ‘ssh-add -L’\n",
    "\n",
    "If there was no key in agent then:  \n",
    "The default_ID_file is the most recent file that matches: ~/.ssh/id\\*.pub  \n",
    "Just use touch(1) on your preferred key's .pub file to rein‐state it as the most recent."
   ]
  },
  {
   "cell_type": "code",
   "execution_count": 15,
   "metadata": {},
   "outputs": [
    {
     "name": "stdout",
     "output_type": "stream",
     "text": [
      "ssh-rsa AAAAB3NzaC1yc2EAAAADAQABAAABAQDIj1ydevrYKJ4Kyr5cnD/fRxbNAcsdF83Xog4OXSEBa0tvRN6qYYaJbGMCGN7p1bJBMDep8JVN5mhNu25WoOlq1HLYgpFNlH/E/4+bdhyzqxt+FO3N77w6zJj30jR0NDIf9Z/aRZBYz/feFsKmswU0qn49YyQcl2KfImmKlDS+Vv/9QsKN2BLXTHMHUxlvLs416Ou7hPwYx6Aw7Zal763eUtV144JXQEKrYnjeZalcbVNQ2FghsDFglfFJfS9HD6TTS1U+iQljSMMQ6h4ea4/7pDadOgA24GZybT6KKomJP/756ifYolM29/3DWizHA4k/KKwqQ/JWXuk4/wDaoSDb new_rsa\n"
     ]
    }
   ],
   "source": [
    "ssh srv1 cat .ssh/authorized_keys"
   ]
  },
  {
   "cell_type": "markdown",
   "metadata": {},
   "source": [
    "## SSH Agent & SSH Add\n",
    "\n",
    "- is a program to hold private keys  \n",
    "- ssh-agent is usually started in the beginning of an X-session or a login session\n",
    "- all other windows or programs are started as clients to the ssh-agent program."
   ]
  },
  {
   "cell_type": "code",
   "execution_count": null,
   "metadata": {
    "collapsed": true
   },
   "outputs": [],
   "source": [
    "exec dbus-launch --sh-syntax --exit-with-session ssh-agent openbox-session\n",
    "# or login managers like lightdm"
   ]
  },
  {
   "cell_type": "code",
   "execution_count": null,
   "metadata": {
    "collapsed": true
   },
   "outputs": [],
   "source": [
    "ssh-agent bash"
   ]
  },
  {
   "cell_type": "code",
   "execution_count": null,
   "metadata": {
    "collapsed": true
   },
   "outputs": [],
   "source": [
    "eval \"$(ssh-agent -s)\""
   ]
  },
  {
   "cell_type": "code",
   "execution_count": null,
   "metadata": {
    "collapsed": true
   },
   "outputs": [],
   "source": [
    "ssh-add ~/.ssh/id_rsa"
   ]
  },
  {
   "cell_type": "markdown",
   "metadata": {},
   "source": [
    "*ssh-add:*\n",
    "-  -l          List fingerprints of all identities.  \n",
    "-  -L          List public key parameters of all identities.  \n",
    "-  -d          Delete identity.  \n",
    "-  -D          Delete all identities.  \n",
    "-  -x          Lock agent.  \n",
    "-  -X          Unlock agent.  "
   ]
  },
  {
   "cell_type": "markdown",
   "metadata": {},
   "source": [
    "## Disable ssh with password"
   ]
  },
  {
   "cell_type": "code",
   "execution_count": 6,
   "metadata": {},
   "outputs": [],
   "source": [
    "ssh root@srv1 cat /etc/ssh/sshd_config"
   ]
  },
  {
   "cell_type": "raw",
   "metadata": {},
   "source": [
    "# PermitRootLogin without-password | yes | no\n",
    "\n",
    "# To disable tunneled clear text passwords, change to no here!\n",
    "# PasswordAuthentication yes"
   ]
  },
  {
   "cell_type": "code",
   "execution_count": null,
   "metadata": {
    "collapsed": true
   },
   "outputs": [],
   "source": [
    "systemctl restart sshd.service"
   ]
  },
  {
   "cell_type": "markdown",
   "metadata": {},
   "source": [
    "## SCP"
   ]
  },
  {
   "cell_type": "code",
   "execution_count": 8,
   "metadata": {},
   "outputs": [
    {
     "name": "stdout",
     "output_type": "stream",
     "text": [
      "\r",
      "hosts                                           0%    0     0.0KB/s   --:-- ETA\r",
      "hosts                                         100%  201     0.2KB/s   00:00    \n"
     ]
    }
   ],
   "source": [
    "scp /etc/hosts srv1:/tmp/hosts"
   ]
  },
  {
   "cell_type": "code",
   "execution_count": 9,
   "metadata": {},
   "outputs": [
    {
     "name": "stdout",
     "output_type": "stream",
     "text": [
      "\r",
      "ze                                              0%    0     0.0KB/s   --:-- ETA\r",
      "ze                                            100%   10     0.0KB/s   00:00    \n"
     ]
    }
   ],
   "source": [
    "scp root@192.168.56.4:/tmp/ze /tmp"
   ]
  },
  {
   "cell_type": "markdown",
   "metadata": {},
   "source": [
    "## SFTP"
   ]
  },
  {
   "cell_type": "code",
   "execution_count": null,
   "metadata": {
    "collapsed": true
   },
   "outputs": [],
   "source": [
    "sftp root@srv1"
   ]
  },
  {
   "cell_type": "markdown",
   "metadata": {},
   "source": [
    "- cd\n",
    "- ls\n",
    "- pwd\n",
    "- mkdir  \n",
    "\n",
    "- get -p <span style=\"color:green\">remoteFile [localPath]</span>\n",
    "- put -p <span style=\"color:green\">localFile [remotePath]</span>  \n",
    "\n",
    "- lls\n",
    "- lcd\n",
    "- lpwd\n",
    "- lmkdir"
   ]
  },
  {
   "cell_type": "markdown",
   "metadata": {},
   "source": [
    "### SSHFS\n",
    "\n",
    "    The practical effect of this is that the end user can seamlessly interact with remote  \n",
    "    files being securely served over SSH just as if they were local files on his/her computer.\n",
    "       \n",
    "   - mounting\n",
    "       - sshfs [user@]host:[dir] mountpoint [options]\n",
    "\n",
    "\n",
    "   - unmounting\n",
    "       - fusermount -u mountpoint\n"
   ]
  },
  {
   "cell_type": "code",
   "execution_count": 4,
   "metadata": {},
   "outputs": [],
   "source": [
    "sshfs pc101:/home/milad/ mnt/"
   ]
  },
  {
   "cell_type": "code",
   "execution_count": 5,
   "metadata": {},
   "outputs": [],
   "source": [
    "fusermount -u ~/mnt"
   ]
  },
  {
   "cell_type": "markdown",
   "metadata": {},
   "source": [
    "- - -\n",
    "## Lecture notes\n",
    "\n",
    "- All lecture notes are available at github in `ipynb` format: [https://github.com/ravexina/linux-notes](https://github.com/ravexina/linux-notes). \n",
    "\n",
    "\n",
    "- There are `html` exports of project available at: [https://ravexina.github.io/linux-notes](https://ravexina.github.io/linux-notes).\n",
    "\n",
    "## License\n",
    "<a rel=\"license\" href=\"http://creativecommons.org/licenses/by-nc-sa/4.0/\">\n",
    "<img alt=\"Creative Commons License\" style=\"border-width:0\" src=\"https://i.creativecommons.org/l/by-nc-sa/4.0/88x31.png\" />\n",
    "</a>\n",
    "\n",
    "<span property=\"dct:title\">Linux Notes</span> by \n",
    "<a href=\"http://github.com/ravexina/Linux-Notes\" property=\"cc:attributionName\" rel=\"cc:attributionURL\">Milad As (Ravexina)</a> is licensed under a <a rel=\"license\" href=\"http://creativecommons.org/licenses/by-nc-sa/4.0/\">Creative Commons Attribution-NonCommercial-ShareAlike 4.0 International License</a>.\n",
    "\n",
    "- - -\n",
    "\n",
    "<a rel=\"license\" href=\"https://gitlab.com/ravexina/\"><img alt=\"ravexina's gitlab\" style=\"display:inline;border-width:0;height:30px;float:left;\" src=\"img/logo/logo-square.png\" /></a> \n",
    "\n",
    "<a rel=\"license\" href=\"https://github.com/ravexina/\"><img alt=\"ravexina's github\" style=\"float:right;display:inline;border-width:0;height:30px;\" src=\"img/logo/GitHub_Logo.png\" /></a>"
   ]
  }
 ],
 "metadata": {
  "kernelspec": {
   "display_name": "Bash",
   "language": "bash",
   "name": "bash"
  },
  "language_info": {
   "codemirror_mode": "shell",
   "file_extension": ".sh",
   "mimetype": "text/x-sh",
   "name": "bash"
  }
 },
 "nbformat": 4,
 "nbformat_minor": 2
}
