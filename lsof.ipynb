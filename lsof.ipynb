{
 "cells": [
  {
   "cell_type": "markdown",
   "metadata": {},
   "source": [
    "## LSOF"
   ]
  },
  {
   "cell_type": "code",
   "execution_count": 1,
   "metadata": {},
   "outputs": [
    {
     "name": "stdout",
     "output_type": "stream",
     "text": [
      "kworker/0 31880 root  rtd   unknown                      /proc/31880/root (readlink: Permission denied)\n",
      "kworker/0 31880 root  txt   unknown                      /proc/31880/exe (readlink: Permission denied)\n",
      "kworker/0 31880 root NOFD                                /proc/31880/fd (opendir: Permission denied)\n"
     ]
    }
   ],
   "source": [
    "lsof | tail -3"
   ]
  },
  {
   "cell_type": "code",
   "execution_count": 2,
   "metadata": {},
   "outputs": [
    {
     "name": "stdout",
     "output_type": "stream",
     "text": [
      "thunar    32445 milad    6u  netlink                           0t0     158717 KOBJECT_UEVENT\n",
      "thunar    32445 milad    7u     unix 0x0000000000000000        0t0     158718 type=STREAM\n",
      "thunar    32445 milad    8u  a_inode               0,11          0       7041 [eventfd]\n",
      "thunar    32445 milad    9u  a_inode               0,11          0       7041 [eventfd]\n",
      "thunar    32445 milad   10r      REG              252,3     131688   27534374 /home/milad/.local/share/gvfs-metadata/home\n",
      "thunar    32445 milad   11r      REG              252,3      32768   27535220 /home/milad/.local/share/gvfs-metadata/home-f272ac5c.log\n",
      "thunar    32445 milad   12r      REG              252,3       8628   27525517 /home/milad/.local/share/gvfs-metadata/root\n",
      "thunar    32445 milad   13r      REG              252,3      32768   27525721 /home/milad/.local/share/gvfs-metadata/root-54549598.log\n",
      "thunar    32445 milad   14r  a_inode               0,11          0       7041 inotify\n",
      "thunar    32445 milad   15u     unix 0x0000000000000000        0t0     163277 type=STREAM\n"
     ]
    }
   ],
   "source": [
    "# for a user\n",
    "lsof -u milad | tail"
   ]
  },
  {
   "cell_type": "code",
   "execution_count": 5,
   "metadata": {},
   "outputs": [
    {
     "name": "stdout",
     "output_type": "stream",
     "text": [
      "COMMAND    PID  USER   FD   TYPE DEVICE SIZE/OFF   NODE NAME\n",
      "bash      2343 milad  cwd    DIR  252,3     4096 442384 /home/milad/Documents/University/Linux/Notes\n",
      "xdg-open  4739 milad  cwd    DIR  252,3     4096 442384 /home/milad/Documents/University/Linux/Notes\n",
      "firefox   4819 milad  cwd    DIR  252,3     4096 442384 /home/milad/Documents/University/Linux/Notes\n",
      "jupyter-n 6050 milad  cwd    DIR  252,3     4096 442384 /home/milad/Documents/University/Linux/Notes\n",
      "python3   7783 milad  cwd    DIR  252,3     4096 442384 /home/milad/Documents/University/Linux/Notes\n",
      "bash      7792 milad  cwd    DIR  252,3     4096 442384 /home/milad/Documents/University/Linux/Notes\n",
      "lsof      7990 milad  cwd    DIR  252,3     4096 442384 /home/milad/Documents/University/Linux/Notes\n",
      "lsof      7991 milad  cwd    DIR  252,3     4096 442384 /home/milad/Documents/University/Linux/Notes\n"
     ]
    },
    {
     "ename": "",
     "evalue": "1",
     "output_type": "error",
     "traceback": []
    }
   ],
   "source": [
    "# within a directory\n",
    "lsof +D ~/Documents"
   ]
  },
  {
   "cell_type": "code",
   "execution_count": 6,
   "metadata": {},
   "outputs": [
    {
     "name": "stdout",
     "output_type": "stream",
     "text": [
      "6050 /usr/bin/python3 /home/milad/.local/bin/jupyter-notebook\n"
     ]
    }
   ],
   "source": [
    "pgrep jupyter -a"
   ]
  },
  {
   "cell_type": "code",
   "execution_count": 7,
   "metadata": {},
   "outputs": [
    {
     "name": "stdout",
     "output_type": "stream",
     "text": [
      "UID        PID  PPID  C STIME TTY      STAT   TIME CMD\n",
      "milad     6050  2343  0 19:54 pts/0    Sl+    0:02 /usr/bin/python3 /home/milad/\n"
     ]
    }
   ],
   "source": [
    "ps -f 6050"
   ]
  },
  {
   "cell_type": "code",
   "execution_count": 9,
   "metadata": {},
   "outputs": [
    {
     "name": "stdout",
     "output_type": "stream",
     "text": [
      "jupyter-n 6050 milad   21u  a_inode               0,11        0     7041 [eventpoll]\n",
      "jupyter-n 6050 milad   22u     unix 0x0000000000000000      0t0   266223 type=STREAM\n",
      "jupyter-n 6050 milad   23u     unix 0x0000000000000000      0t0   266224 type=STREAM\n",
      "jupyter-n 6050 milad   24u  a_inode               0,11        0     7041 [eventpoll]\n",
      "jupyter-n 6050 milad   25u     unix 0x0000000000000000      0t0   276566 type=STREAM\n",
      "jupyter-n 6050 milad   26u     unix 0x0000000000000000      0t0   276567 type=STREAM\n",
      "jupyter-n 6050 milad   27u     IPv4             272226      0t0      TCP localhost:42944->localhost:35919 (ESTABLISHED)\n",
      "jupyter-n 6050 milad   28u     unix 0x0000000000000000      0t0   276568 type=STREAM\n",
      "jupyter-n 6050 milad   29u     unix 0x0000000000000000      0t0   276569 type=STREAM\n",
      "jupyter-n 6050 milad   30u     IPv4             272227      0t0      TCP localhost:54734->localhost:36981 (ESTABLISHED)\n"
     ]
    }
   ],
   "source": [
    "# process\n",
    "lsof -p 6050 | tail"
   ]
  },
  {
   "cell_type": "code",
   "execution_count": 11,
   "metadata": {},
   "outputs": [
    {
     "name": "stdout",
     "output_type": "stream",
     "text": [
      "15367\n",
      "15370\n",
      "21957\n",
      "32445\n"
     ]
    }
   ],
   "source": [
    "# only shows process ids so we can pass it to something like kill\n",
    "lsof -u milad -t | tail -4"
   ]
  },
  {
   "cell_type": "code",
   "execution_count": 2,
   "metadata": {},
   "outputs": [
    {
     "name": "stdout",
     "output_type": "stream",
     "text": [
      "clementin 3736 milad    2w      CHR                1,3      0t0        6 /dev/null\n",
      "clementin 3736 milad    3u  a_inode               0,11        0     7041 [eventfd]\n",
      "clementin 3736 milad    4r     FIFO               0,10      0t0    32416 pipe\n",
      "clementin 3736 milad    5w     FIFO               0,10      0t0    32416 pipe\n",
      "clementin 3736 milad    6u     unix 0x0000000000000000      0t0    32417 type=STREAM\n"
     ]
    }
   ],
   "source": [
    "lsof -u^root -c clem | tail -5 # reverse user"
   ]
  },
  {
   "cell_type": "code",
   "execution_count": 13,
   "metadata": {},
   "outputs": [
    {
     "name": "stdout",
     "output_type": "stream",
     "text": [
      "thunar    32445 milad  mem    REG  252,1     3608  932764 /var/cache/fontconfig/8f35bb09461d20ae1ed6ebc3cc6cf97e-le64.cache-6\n",
      "thunar    32445 milad  mem    REG  252,1   111644  795938 /usr/share/icons/gnome/icon-theme.cache\n",
      "thunar    32445 milad  mem    REG  252,1   536520 1179314 /lib/x86_64-linux-gnu/libsystemd.so.0.14.0\n",
      "thunar    32445 milad  mem    REG  252,1   126840 1178493 /lib/x86_64-linux-gnu/libudev.so.1.6.4\n",
      "thunar    32445 milad  mem    REG  252,1    25012  791265 /usr/share/icons/hicolor/icon-theme.cache\n"
     ]
    }
   ],
   "source": [
    "lsof / | tail -5"
   ]
  },
  {
   "cell_type": "code",
   "execution_count": 19,
   "metadata": {},
   "outputs": [
    {
     "name": "stdout",
     "output_type": "stream",
     "text": [
      "clementin 3736 milad    5w     FIFO               0,10      0t0    32416 pipe\n",
      "clementin 3736 milad    6u     unix 0x0000000000000000      0t0    32417 type=STREAM\n"
     ]
    }
   ],
   "source": [
    "lsof -a -u milad -c clem | tail -2 # a makes an and"
   ]
  },
  {
   "cell_type": "code",
   "execution_count": 6,
   "metadata": {},
   "outputs": [
    {
     "ename": "",
     "evalue": "1",
     "output_type": "error",
     "traceback": []
    }
   ],
   "source": [
    "python2 -m SimpleHttpServer"
   ]
  },
  {
   "cell_type": "code",
   "execution_count": 7,
   "metadata": {},
   "outputs": [
    {
     "name": "stdout",
     "output_type": "stream",
     "text": [
      "COMMAND  PID  USER   FD   TYPE DEVICE SIZE/OFF NODE NAME\n",
      "python  8851 milad    3u  IPv4 299940      0t0  TCP *:8000 (LISTEN)\n"
     ]
    }
   ],
   "source": [
    "lsof -i TCP:8000"
   ]
  },
  {
   "cell_type": "markdown",
   "metadata": {
    "collapsed": true
   },
   "source": [
    "- - -\n",
    "## Lecture notes\n",
    "\n",
    "- All lecture notes are available at github in `ipynb` format: [https://github.com/ravexina/linux-notes](https://github.com/ravexina/linux-notes). \n",
    "\n",
    "\n",
    "- There are `html` exports of project available at: [https://ravexina.github.io/linux-notes](https://ravexina.github.io/linux-notes).\n",
    "\n",
    "## License\n",
    "<a rel=\"license\" href=\"http://creativecommons.org/licenses/by-nc-sa/4.0/\">\n",
    "<img alt=\"Creative Commons License\" style=\"border-width:0\" src=\"https://i.creativecommons.org/l/by-nc-sa/4.0/88x31.png\" />\n",
    "</a>\n",
    "\n",
    "<span property=\"dct:title\">Linux Notes</span> by \n",
    "<a href=\"http://github.com/ravexina/Linux-Notes\" property=\"cc:attributionName\" rel=\"cc:attributionURL\">Milad As (Ravexina)</a> is licensed under a <a rel=\"license\" href=\"http://creativecommons.org/licenses/by-nc-sa/4.0/\">Creative Commons Attribution-NonCommercial-ShareAlike 4.0 International License</a>.\n",
    "\n",
    "- - -\n",
    "\n",
    "<a rel=\"license\" href=\"https://gitlab.com/ravexina/\"><img alt=\"ravexina's gitlab\" style=\"display:inline;border-width:0;height:30px;float:left;\" src=\"img/logo/logo-square.png\" /></a> \n",
    "\n",
    "<a rel=\"license\" href=\"https://github.com/ravexina/\"><img alt=\"ravexina's github\" style=\"float:right;display:inline;border-width:0;height:30px;\" src=\"img/logo/GitHub_Logo.png\" /></a>"
   ]
  }
 ],
 "metadata": {
  "kernelspec": {
   "display_name": "Bash",
   "language": "bash",
   "name": "bash"
  },
  "language_info": {
   "codemirror_mode": "shell",
   "file_extension": ".sh",
   "mimetype": "text/x-sh",
   "name": "bash"
  }
 },
 "nbformat": 4,
 "nbformat_minor": 2
}
