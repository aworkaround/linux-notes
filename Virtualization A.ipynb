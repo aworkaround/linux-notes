{
 "cells": [
  {
   "cell_type": "markdown",
   "metadata": {},
   "source": [
    "# Virtalization\n",
    "\n",
    "## Hypervisor\n",
    "\n",
    "A hypervisor or virtual machine monitor (VMM) is computer software, firmware, or hardware, that **creates** and **runs** virtual machines.  \n",
    "it is a piece of software that enables you to run one or more VMs on a physical server.\n",
    "\n",
    "\n",
    "- Host\n",
    "- Guest\n",
    "- Container\n",
    "\n",
    "### Term\n",
    "\n",
    "- kernel: supervisor\n",
    "- hypervisor: the supervisor of the supervisors\n",
    "\n",
    "#### Type-1, native or bare-metal hypervisors\n",
    "\n",
    "- Run directly on the host's hardware (without an OS)\n",
    "- ex: Xen, Microsoft Hyper-V and VMware ESX/ESXi.\n",
    "\n",
    "#### Type-2 or hosted hypervisors\n",
    "- These hypervisors run on a operating system just as other computer programs do.\n",
    "- A guest operating system runs as a process on the host.\n",
    "- VMware Workstation, VMware Player, VirtualBox, Parallels Desktop for Mac and QEMU.\n",
    "\n",
    "Linux's Kernel-based Virtual Machine (KVM) module effectively convert the host operating system to a type-1 hypervisor.  \n",
    "At the same time, since Linux distributions are still general-purpose operating systems, with other applications competing for VM resources, KVM can also be categorized as type-2 hypervisors.\n",
    "\n",
    "\n",
    "<img src='img/virt/Hyperviseur.png' />\n",
    "\n"
   ]
  },
  {
   "cell_type": "markdown",
   "metadata": {},
   "source": [
    "### Basic CPU stuff\n",
    "\n",
    "#### Privileges & Rings\n",
    "A program is usually limited to its own address space so that it cannot access or modify other running programs or the operating system itself, and is usually prevented from directly manipulating hardware devices.\n",
    "\n",
    "- What when a simple application needs acces to these components?  \n",
    "    - system calls are a well defined and safe implementations for such operations which operating system provides.\n",
    "\n",
    "#### System call\n",
    "System call is a way in which a computer program requests a service from the kernel of the operating system it is executed on.\n",
    "\n",
    "- operation system (kernel) : highest level -> ring0\n",
    "- program requests a service via system call\n",
    "- cpu goes into a elevated privilege level (passes control to the kernel)\n",
    "- kernel: should the program request be granted?\n",
    "    - the kernel executes a specific set of instructions\n",
    "    - returns the privilege level to that of the calling program\n",
    "    - return to calling program\n",
    "\n",
    "<img src=\"img/virt/rings.png\" style=\"width:40%\" />\n",
    "\n",
    "#### Privileged instruction\n",
    "a privileged instruction is a processor op-code (assembler instruction) which can only be executed in \"supervisor\" (or Ring-0) mode.  \n",
    "These types of instructions tend to be used to access I/O devices and protected data structures from the kernel.  \n",
    "Regular programs execute in \"user mode\" (Ring-3) which disallows direct access to I/O devices, etc.\n"
   ]
  },
  {
   "cell_type": "markdown",
   "metadata": {},
   "source": [
    "### Virtualization technologies\n",
    "\n",
    "#### - Full Virtualization using Binary Translation\n",
    "- The guest OS is not aware it is being virtualized\n",
    "- User level code is directly executed on the processor for high performance virtualization\n",
    "- Requires no modification is os nor hardware assist.\n",
    "- Hypervisor translates all operating system instructions on the fly and cache them for future.\n",
    "- Binary translation purpose:\n",
    "    - Replace nonvirtualizable instructions with new sequences of instructions that have the intended effect on the virtual hardware.\n",
    "        - instead of executing directly on the real hardware, translate them in a way that can be run on virtual ones (Bios, Memory, etc)\n",
    "    - Different architecture\n",
    "\n",
    "#### - OS Assisted Virtualization or Paravirtualization\n",
    "- Refers to communication between the guest OS and the hypervisor to improve performance and efficiency.  \n",
    "- Involves modifying the OS kernel to replace non-virtualizable instructions with **hypercalls** that communicate directly with the virtualization layer hypervisor. \n",
    "- The hypervisor also provides hypercall interfaces for other critical kernel operations such as memory management, interrupt handling and time keeping.\n",
    "- paravirtualization is different from full virtualization, where the unmodified OS does not know it is virtualized and sensitive OS calls are trapped using binary translation. \n",
    "\n",
    "##### Hypercall\n",
    "   hypercall is to a hypervisor what a syscall is to a kernel.  \n",
    "   A hypercall is a software trap from a virtual machine to the hypervisor, just as a syscall is a software trap from an application to the  kernel.   \n",
    "   Domains will use hypercalls to request privileged operations like updating pagetables.\n",
    "\n",
    "#### - Hardware Assisted Virtualization\n",
    "- Intel Virtualization Technology (VT-x) and AMD’s AMD-V which both target privileged instructions with a new CPU execution mode feature that allows the VMM to run in a new root mode below ring 0. \n",
    "- Guest can execute privileged instructions directly on the processor.\n",
    "-  Xen calls it hardware virtual machine (HVM).\n",
    "\n",
    "<img src=\"img/virt/intelv.JPG\" />"
   ]
  },
  {
   "cell_type": "code",
   "execution_count": null,
   "metadata": {
    "collapsed": true
   },
   "outputs": [],
   "source": [
    "https://en.wikipedia.org/wiki/Hypervisor\n",
    "https://en.wikipedia.org/wiki/X86_virtualization#Intel_virtualization_.28VT-x.29\n",
    "https://en.wikipedia.org/wiki/Protection_ring\n",
    "https://en.wikipedia.org/wiki/System_call\n",
    "https://stackoverflow.com/questions/89607/what-is-a-privileged-instruction\n",
    "http://www.cs.princeton.edu/courses/archive/spr01/cs217/slides/21.os.pdf\n",
    "https://wiki.xen.org/wiki/Hypercall\n",
    "https://www.vmware.com/content/dam/digitalmarketing/vmware/en/pdf/techpaper/VMware_paravirtualization.pdf"
   ]
  },
  {
   "cell_type": "markdown",
   "metadata": {},
   "source": [
    "- - -\n",
    "## Lecture notes\n",
    "\n",
    "- All lecture notes are available at github in `ipynb` format: [https://github.com/ravexina/linux-notes](https://github.com/ravexina/linux-notes). \n",
    "\n",
    "\n",
    "- There are `html` exports of project available at: [https://ravexina.github.io/linux-notes](https://ravexina.github.io/linux-notes).\n",
    "\n",
    "## License\n",
    "<a rel=\"license\" href=\"http://creativecommons.org/licenses/by-nc-sa/4.0/\">\n",
    "<img alt=\"Creative Commons License\" style=\"border-width:0\" src=\"https://i.creativecommons.org/l/by-nc-sa/4.0/88x31.png\" />\n",
    "</a>\n",
    "\n",
    "<span property=\"dct:title\">Linux Notes</span> by \n",
    "<a href=\"http://github.com/ravexina/Linux-Notes\" property=\"cc:attributionName\" rel=\"cc:attributionURL\">Milad As (Ravexina)</a> is licensed under a <a rel=\"license\" href=\"http://creativecommons.org/licenses/by-nc-sa/4.0/\">Creative Commons Attribution-NonCommercial-ShareAlike 4.0 International License</a>.\n",
    "\n",
    "- - -\n",
    "\n",
    "<a rel=\"license\" href=\"https://gitlab.com/ravexina/\"><img alt=\"ravexina's gitlab\" style=\"display:inline;border-width:0;height:30px;float:left;\" src=\"img/logo/logo-square.png\" /></a> \n",
    "\n",
    "<a rel=\"license\" href=\"https://github.com/ravexina/\"><img alt=\"ravexina's github\" style=\"float:right;display:inline;border-width:0;height:30px;\" src=\"img/logo/GitHub_Logo.png\" /></a>"
   ]
  }
 ],
 "metadata": {
  "kernelspec": {
   "display_name": "Bash",
   "language": "bash",
   "name": "bash"
  },
  "language_info": {
   "codemirror_mode": "shell",
   "file_extension": ".sh",
   "mimetype": "text/x-sh",
   "name": "bash"
  }
 },
 "nbformat": 4,
 "nbformat_minor": 2
}
