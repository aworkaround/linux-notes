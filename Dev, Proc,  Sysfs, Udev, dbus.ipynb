{
 "cells": [
  {
   "cell_type": "markdown",
   "metadata": {},
   "source": [
    "# dubs - procfs - sysfs - /dev/ - udev\n",
    "#### How linux deal with devices :)\n",
    "\n",
    "## /dev"
   ]
  },
  {
   "cell_type": "code",
   "execution_count": 19,
   "metadata": {
    "scrolled": false
   },
   "outputs": [
    {
     "name": "stdout",
     "output_type": "stream",
     "text": [
      "brw-rw---- 1 root disk 8, 0 Dec 26 19:25 \u001b[0m\u001b[40;33;01m/dev/sda\u001b[0m\n",
      "brw-rw---- 1 root disk 8, 2 Dec 26 19:25 \u001b[40;33;01m/dev/sda2\u001b[0m\n",
      "brw-rw---- 1 root disk 8, 5 Dec 26 19:25 \u001b[40;33;01m/dev/sda5\u001b[0m\n",
      "brw-rw---- 1 root disk 8, 1 Dec 26 19:25 \u001b[40;33;01m/dev/sda1\u001b[0m\n"
     ]
    }
   ],
   "source": [
    "ls /dev/sda* -lFhart\n",
    "# Major: Driver \n",
    "# Minor: Kernel uses to determine exactly which device refered to "
   ]
  },
  {
   "cell_type": "code",
   "execution_count": 17,
   "metadata": {},
   "outputs": [
    {
     "name": "stdout",
     "output_type": "stream",
     "text": [
      "lrwxrwxrwx 1 root root 3 Dec 26 19:25 \u001b[0m\u001b[01;36m/dev/dvd\u001b[0m -> \u001b[40;33;01msr0\u001b[0m\n",
      "lrwxrwxrwx 1 root root 3 Dec 26 19:25 \u001b[01;36m/dev/dvdrw\u001b[0m -> \u001b[40;33;01msr0\u001b[0m\n"
     ]
    }
   ],
   "source": [
    "ls /dev/dv* -l"
   ]
  },
  {
   "cell_type": "code",
   "execution_count": null,
   "metadata": {
    "collapsed": true
   },
   "outputs": [],
   "source": [
    "fdisk -l /dev/sda"
   ]
  },
  {
   "cell_type": "code",
   "execution_count": 26,
   "metadata": {},
   "outputs": [
    {
     "name": "stdout",
     "output_type": "stream",
     "text": [
      "crw-rw-rw- 1 root root 1, 3 Dec 26 19:25 \u001b[0m\u001b[40;33;01m/dev/null\u001b[0m\n",
      "crw-rw-rw- 1 root root 1, 8 Dec 26 19:25 \u001b[40;33;01m/dev/random\u001b[0m\n",
      "crw-rw-rw- 1 root root 1, 9 Dec 26 19:25 \u001b[40;33;01m/dev/urandom\u001b[0m\n",
      "crw-rw-rw- 1 root root 1, 5 Dec 26 19:25 \u001b[40;33;01m/dev/zero\u001b[0m\n"
     ]
    }
   ],
   "source": [
    "ls -lF /dev/{random,urandom,zero,null}"
   ]
  },
  {
   "cell_type": "markdown",
   "metadata": {},
   "source": [
    "## ProcFS (Proc FileSystem)\n",
    "\n",
    "REMEMBER: Evertrhing is a file (sockets, process, devices, etc)  \n",
    "\n",
    "- Virtual filesystem, things are in memory\n",
    "- Contains process information (so other programs can refrence and use)\n",
    "    - What is the process \n",
    "    - where is the executable\n",
    "    - how much memory is using\n",
    "    - where is the path\n",
    "    - what memory is available\n",
    "\n",
    "It was awesome so other developer start using it to save information like cpu, memory, kernel configuration.  \n",
    "Until kernel 2.5 camedout ... (sysfs)\n",
    "\n",
    "***Hint:*** When you read from /proc, the kernel generates content on the fly. There is no hard drive involved."
   ]
  },
  {
   "cell_type": "code",
   "execution_count": 1,
   "metadata": {
    "scrolled": true
   },
   "outputs": [
    {
     "name": "stdout",
     "output_type": "stream",
     "text": [
      "\u001b[0m\u001b[01;34m1\u001b[0m     \u001b[01;34m156\u001b[0m   \u001b[01;34m169\u001b[0m   \u001b[01;34m27\u001b[0m    \u001b[01;34m4081\u001b[0m  \u001b[01;34m5386\u001b[0m  \u001b[01;34m78\u001b[0m         consoles     \u001b[01;36mnet\u001b[0m\n",
      "\u001b[01;34m10\u001b[0m    \u001b[01;34m1578\u001b[0m  \u001b[01;34m17\u001b[0m    \u001b[01;34m271\u001b[0m   \u001b[01;34m411\u001b[0m   \u001b[01;34m5432\u001b[0m  \u001b[01;34m79\u001b[0m         cpuinfo      pagetypeinfo\n",
      "\u001b[01;34m1009\u001b[0m  \u001b[01;34m1579\u001b[0m  \u001b[01;34m1708\u001b[0m  \u001b[01;34m28\u001b[0m    \u001b[01;34m445\u001b[0m   \u001b[01;34m5541\u001b[0m  \u001b[01;34m8\u001b[0m          crypto       partitions\n",
      "\u001b[01;34m1012\u001b[0m  \u001b[01;34m1583\u001b[0m  \u001b[01;34m1711\u001b[0m  \u001b[01;34m29\u001b[0m    \u001b[01;34m4491\u001b[0m  \u001b[01;34m5542\u001b[0m  \u001b[01;34m80\u001b[0m         devices      sched_debug\n",
      "\u001b[01;34m1014\u001b[0m  \u001b[01;34m1588\u001b[0m  \u001b[01;34m1716\u001b[0m  \u001b[01;34m3\u001b[0m     \u001b[01;34m45\u001b[0m    \u001b[01;34m5576\u001b[0m  \u001b[01;34m81\u001b[0m         diskstats    schedstat\n",
      "\u001b[01;34m1016\u001b[0m  \u001b[01;34m159\u001b[0m   \u001b[01;34m1717\u001b[0m  \u001b[01;34m30\u001b[0m    \u001b[01;34m4521\u001b[0m  \u001b[01;34m5631\u001b[0m  \u001b[01;34m82\u001b[0m         dma          \u001b[01;34mscsi\u001b[0m\n",
      "\u001b[01;34m1020\u001b[0m  \u001b[01;34m1591\u001b[0m  \u001b[01;34m175\u001b[0m   \u001b[01;34m302\u001b[0m   \u001b[01;34m46\u001b[0m    \u001b[01;34m565\u001b[0m   \u001b[01;34m83\u001b[0m         \u001b[01;34mdriver\u001b[0m       \u001b[01;36mself\u001b[0m\n",
      "\u001b[01;34m1023\u001b[0m  \u001b[01;34m1592\u001b[0m  \u001b[01;34m18\u001b[0m    \u001b[01;34m303\u001b[0m   \u001b[01;34m461\u001b[0m   \u001b[01;34m5678\u001b[0m  \u001b[01;34m84\u001b[0m         execdomains  slabinfo\n",
      "\u001b[01;34m1072\u001b[0m  \u001b[01;34m1593\u001b[0m  \u001b[01;34m180\u001b[0m   \u001b[01;34m304\u001b[0m   \u001b[01;34m47\u001b[0m    \u001b[01;34m5775\u001b[0m  \u001b[01;34m85\u001b[0m         fb           softirqs\n",
      "\u001b[01;34m109\u001b[0m   \u001b[01;34m1599\u001b[0m  \u001b[01;34m182\u001b[0m   \u001b[01;34m305\u001b[0m   \u001b[01;34m48\u001b[0m    \u001b[01;34m5786\u001b[0m  \u001b[01;34m86\u001b[0m         filesystems  stat\n",
      "\u001b[01;34m11\u001b[0m    \u001b[01;34m16\u001b[0m    \u001b[01;34m185\u001b[0m   \u001b[01;34m306\u001b[0m   \u001b[01;34m4885\u001b[0m  \u001b[01;34m5802\u001b[0m  \u001b[01;34m864\u001b[0m        \u001b[01;34mfs\u001b[0m           swaps\n",
      "\u001b[01;34m110\u001b[0m   \u001b[01;34m160\u001b[0m   \u001b[01;34m187\u001b[0m   \u001b[01;34m31\u001b[0m    \u001b[01;34m4891\u001b[0m  \u001b[01;34m5808\u001b[0m  \u001b[01;34m865\u001b[0m        interrupts   \u001b[01;34msys\u001b[0m\n",
      "\u001b[01;34m1134\u001b[0m  \u001b[01;34m161\u001b[0m   \u001b[01;34m2\u001b[0m     \u001b[01;34m315\u001b[0m   \u001b[01;34m4895\u001b[0m  \u001b[01;34m5826\u001b[0m  \u001b[01;34m866\u001b[0m        iomem        sysrq-trigger\n",
      "\u001b[01;34m1141\u001b[0m  \u001b[01;34m1613\u001b[0m  \u001b[01;34m20\u001b[0m    \u001b[01;34m318\u001b[0m   \u001b[01;34m4896\u001b[0m  \u001b[01;34m602\u001b[0m   \u001b[01;34m87\u001b[0m         ioports      \u001b[01;34msysvipc\u001b[0m\n",
      "\u001b[01;34m1149\u001b[0m  \u001b[01;34m1616\u001b[0m  \u001b[01;34m2041\u001b[0m  \u001b[01;34m32\u001b[0m    \u001b[01;34m4897\u001b[0m  \u001b[01;34m64\u001b[0m    \u001b[01;34m88\u001b[0m         \u001b[01;34mirq\u001b[0m          \u001b[01;36mthread-self\u001b[0m\n",
      "\u001b[01;34m1174\u001b[0m  \u001b[01;34m1619\u001b[0m  \u001b[01;34m2045\u001b[0m  \u001b[01;34m320\u001b[0m   \u001b[01;34m4898\u001b[0m  \u001b[01;34m643\u001b[0m   \u001b[01;34m89\u001b[0m         kallsyms     timer_list\n",
      "\u001b[01;34m1187\u001b[0m  \u001b[01;34m162\u001b[0m   \u001b[01;34m2048\u001b[0m  \u001b[01;34m322\u001b[0m   \u001b[01;34m4922\u001b[0m  \u001b[01;34m65\u001b[0m    \u001b[01;34m9\u001b[0m          kcore        timer_stats\n",
      "\u001b[01;34m1197\u001b[0m  \u001b[01;34m1622\u001b[0m  \u001b[01;34m2057\u001b[0m  \u001b[01;34m327\u001b[0m   \u001b[01;34m4986\u001b[0m  \u001b[01;34m68\u001b[0m    \u001b[01;34m90\u001b[0m         keys         \u001b[01;34mtty\u001b[0m\n",
      "\u001b[01;34m12\u001b[0m    \u001b[01;34m1631\u001b[0m  \u001b[01;34m2062\u001b[0m  \u001b[01;34m329\u001b[0m   \u001b[01;34m5\u001b[0m     \u001b[01;34m69\u001b[0m    \u001b[01;34m91\u001b[0m         key-users    uptime\n",
      "\u001b[01;34m13\u001b[0m    \u001b[01;34m1632\u001b[0m  \u001b[01;34m2067\u001b[0m  \u001b[01;34m33\u001b[0m    \u001b[01;34m5072\u001b[0m  \u001b[01;34m7\u001b[0m     \u001b[01;34m96\u001b[0m         kmsg         version\n",
      "\u001b[01;34m1368\u001b[0m  \u001b[01;34m1633\u001b[0m  \u001b[01;34m2073\u001b[0m  \u001b[01;34m34\u001b[0m    \u001b[01;34m5086\u001b[0m  \u001b[01;34m70\u001b[0m    \u001b[01;34m969\u001b[0m        kpagecgroup  version_signature\n",
      "\u001b[01;34m1374\u001b[0m  \u001b[01;34m164\u001b[0m   \u001b[01;34m2078\u001b[0m  \u001b[01;34m35\u001b[0m    \u001b[01;34m5089\u001b[0m  \u001b[01;34m71\u001b[0m    \u001b[01;34m990\u001b[0m        kpagecount   vmallocinfo\n",
      "\u001b[01;34m1378\u001b[0m  \u001b[01;34m1648\u001b[0m  \u001b[01;34m2082\u001b[0m  \u001b[01;34m36\u001b[0m    \u001b[01;34m5097\u001b[0m  \u001b[01;34m72\u001b[0m    \u001b[01;34m992\u001b[0m        kpageflags   vmstat\n",
      "\u001b[01;34m149\u001b[0m   \u001b[01;34m165\u001b[0m   \u001b[01;34m21\u001b[0m    \u001b[01;34m360\u001b[0m   \u001b[01;34m5100\u001b[0m  \u001b[01;34m726\u001b[0m   \u001b[01;34m994\u001b[0m        loadavg      zoneinfo\n",
      "\u001b[01;34m15\u001b[0m    \u001b[01;34m1653\u001b[0m  \u001b[01;34m2109\u001b[0m  \u001b[01;34m361\u001b[0m   \u001b[01;34m5174\u001b[0m  \u001b[01;34m73\u001b[0m    \u001b[01;34m996\u001b[0m        locks\n",
      "\u001b[01;34m151\u001b[0m   \u001b[01;34m1654\u001b[0m  \u001b[01;34m22\u001b[0m    \u001b[01;34m38\u001b[0m    \u001b[01;34m5242\u001b[0m  \u001b[01;34m738\u001b[0m   \u001b[01;34macpi\u001b[0m       mdstat\n",
      "\u001b[01;34m1535\u001b[0m  \u001b[01;34m166\u001b[0m   \u001b[01;34m23\u001b[0m    \u001b[01;34m3820\u001b[0m  \u001b[01;34m5281\u001b[0m  \u001b[01;34m74\u001b[0m    \u001b[01;34masound\u001b[0m     meminfo\n",
      "\u001b[01;34m1537\u001b[0m  \u001b[01;34m1663\u001b[0m  \u001b[01;34m25\u001b[0m    \u001b[01;34m39\u001b[0m    \u001b[01;34m5289\u001b[0m  \u001b[01;34m745\u001b[0m   buddyinfo  misc\n",
      "\u001b[01;34m154\u001b[0m   \u001b[01;34m167\u001b[0m   \u001b[01;34m250\u001b[0m   \u001b[01;34m3923\u001b[0m  \u001b[01;34m5362\u001b[0m  \u001b[01;34m75\u001b[0m    \u001b[01;34mbus\u001b[0m        modules\n",
      "\u001b[01;34m1544\u001b[0m  \u001b[01;34m168\u001b[0m   \u001b[01;34m251\u001b[0m   \u001b[01;34m398\u001b[0m   \u001b[01;34m5371\u001b[0m  \u001b[01;34m76\u001b[0m    cgroups    \u001b[01;36mmounts\u001b[0m\n",
      "\u001b[01;34m1556\u001b[0m  \u001b[01;34m1681\u001b[0m  \u001b[01;34m26\u001b[0m    \u001b[01;34m40\u001b[0m    \u001b[01;34m5384\u001b[0m  \u001b[01;34m77\u001b[0m    cmdline    mtrr\n"
     ]
    }
   ],
   "source": [
    "ls /proc"
   ]
  },
  {
   "cell_type": "code",
   "execution_count": 2,
   "metadata": {},
   "outputs": [
    {
     "name": "stdout",
     "output_type": "stream",
     "text": [
      "processor\t: 0\n",
      "vendor_id\t: GenuineIntel\n",
      "cpu family\t: 6\n",
      "model\t\t: 60\n",
      "model name\t: Intel(R) Core(TM) i3-4000M CPU @ 2.40GHz\n",
      "stepping\t: 3\n",
      "microcode\t: 0x17\n",
      "cpu MHz\t\t: 2399.906\n",
      "cache size\t: 3072 KB\n",
      "physical id\t: 0\n",
      "siblings\t: 4\n",
      "core id\t\t: 0\n",
      "cpu cores\t: 2\n",
      "apicid\t\t: 0\n",
      "initial apicid\t: 0\n",
      "fpu\t\t: yes\n",
      "fpu_exception\t: yes\n",
      "cpuid level\t: 13\n",
      "wp\t\t: yes\n",
      "flags\t\t: fpu vme de pse tsc msr pae mce cx8 apic sep mtrr pge mca cmov pat pse36 clflush dts acpi mmx fxsr sse sse2 ss ht tm pbe syscall nx pdpe1gb rdtscp lm constant_tsc arch_perfmon pebs bts rep_good nopl xtopology nonstop_tsc aperfmperf eagerfpu pni pclmulqdq dtes64 monitor ds_cpl vmx est tm2 ssse3 sdbg fma cx16 xtpr pdcm pcid sse4_1 sse4_2 movbe popcnt tsc_deadline_timer xsave avx f16c rdrand lahf_lm abm epb tpr_shadow vnmi flexpriority ept vpid fsgsbase tsc_adjust bmi1 avx2 smep bmi2 erms invpcid xsaveopt dtherm arat pln pts\n",
      "bugs\t\t:\n",
      "bogomips\t: 4788.97\n",
      "clflush size\t: 64\n",
      "cache_alignment\t: 64\n",
      "address sizes\t: 39 bits physical, 48 bits virtual\n",
      "power management:\n",
      "\n",
      "processor\t: 1\n",
      "vendor_id\t: GenuineIntel\n",
      "cpu family\t: 6\n",
      "model\t\t: 60\n",
      "model name\t: Intel(R) Core(TM) i3-4000M CPU @ 2.40GHz\n",
      "stepping\t: 3\n",
      "microcode\t: 0x17\n",
      "cpu MHz\t\t: 2400.000\n",
      "cache size\t: 3072 KB\n",
      "physical id\t: 0\n",
      "siblings\t: 4\n",
      "core id\t\t: 0\n",
      "cpu cores\t: 2\n",
      "apicid\t\t: 1\n",
      "initial apicid\t: 1\n",
      "fpu\t\t: yes\n",
      "fpu_exception\t: yes\n",
      "cpuid level\t: 13\n",
      "wp\t\t: yes\n",
      "flags\t\t: fpu vme de pse tsc msr pae mce cx8 apic sep mtrr pge mca cmov pat pse36 clflush dts acpi mmx fxsr sse sse2 ss ht tm pbe syscall nx pdpe1gb rdtscp lm constant_tsc arch_perfmon pebs bts rep_good nopl xtopology nonstop_tsc aperfmperf eagerfpu pni pclmulqdq dtes64 monitor ds_cpl vmx est tm2 ssse3 sdbg fma cx16 xtpr pdcm pcid sse4_1 sse4_2 movbe popcnt tsc_deadline_timer xsave avx f16c rdrand lahf_lm abm epb tpr_shadow vnmi flexpriority ept vpid fsgsbase tsc_adjust bmi1 avx2 smep bmi2 erms invpcid xsaveopt dtherm arat pln pts\n",
      "bugs\t\t:\n",
      "bogomips\t: 4788.97\n",
      "clflush size\t: 64\n",
      "cache_alignment\t: 64\n",
      "address sizes\t: 39 bits physical, 48 bits virtual\n",
      "power management:\n",
      "\n",
      "processor\t: 2\n",
      "vendor_id\t: GenuineIntel\n",
      "cpu family\t: 6\n",
      "model\t\t: 60\n",
      "model name\t: Intel(R) Core(TM) i3-4000M CPU @ 2.40GHz\n",
      "stepping\t: 3\n",
      "microcode\t: 0x17\n",
      "cpu MHz\t\t: 2400.000\n",
      "cache size\t: 3072 KB\n",
      "physical id\t: 0\n",
      "siblings\t: 4\n",
      "core id\t\t: 1\n",
      "cpu cores\t: 2\n",
      "apicid\t\t: 2\n",
      "initial apicid\t: 2\n",
      "fpu\t\t: yes\n",
      "fpu_exception\t: yes\n",
      "cpuid level\t: 13\n",
      "wp\t\t: yes\n",
      "flags\t\t: fpu vme de pse tsc msr pae mce cx8 apic sep mtrr pge mca cmov pat pse36 clflush dts acpi mmx fxsr sse sse2 ss ht tm pbe syscall nx pdpe1gb rdtscp lm constant_tsc arch_perfmon pebs bts rep_good nopl xtopology nonstop_tsc aperfmperf eagerfpu pni pclmulqdq dtes64 monitor ds_cpl vmx est tm2 ssse3 sdbg fma cx16 xtpr pdcm pcid sse4_1 sse4_2 movbe popcnt tsc_deadline_timer xsave avx f16c rdrand lahf_lm abm epb tpr_shadow vnmi flexpriority ept vpid fsgsbase tsc_adjust bmi1 avx2 smep bmi2 erms invpcid xsaveopt dtherm arat pln pts\n",
      "bugs\t\t:\n",
      "bogomips\t: 4788.97\n",
      "clflush size\t: 64\n",
      "cache_alignment\t: 64\n",
      "address sizes\t: 39 bits physical, 48 bits virtual\n",
      "power management:\n",
      "\n",
      "processor\t: 3\n",
      "vendor_id\t: GenuineIntel\n",
      "cpu family\t: 6\n",
      "model\t\t: 60\n",
      "model name\t: Intel(R) Core(TM) i3-4000M CPU @ 2.40GHz\n",
      "stepping\t: 3\n",
      "microcode\t: 0x17\n",
      "cpu MHz\t\t: 2400.000\n",
      "cache size\t: 3072 KB\n",
      "physical id\t: 0\n",
      "siblings\t: 4\n",
      "core id\t\t: 1\n",
      "cpu cores\t: 2\n",
      "apicid\t\t: 3\n",
      "initial apicid\t: 3\n",
      "fpu\t\t: yes\n",
      "fpu_exception\t: yes\n",
      "cpuid level\t: 13\n",
      "wp\t\t: yes\n",
      "flags\t\t: fpu vme de pse tsc msr pae mce cx8 apic sep mtrr pge mca cmov pat pse36 clflush dts acpi mmx fxsr sse sse2 ss ht tm pbe syscall nx pdpe1gb rdtscp lm constant_tsc arch_perfmon pebs bts rep_good nopl xtopology nonstop_tsc aperfmperf eagerfpu pni pclmulqdq dtes64 monitor ds_cpl vmx est tm2 ssse3 sdbg fma cx16 xtpr pdcm pcid sse4_1 sse4_2 movbe popcnt tsc_deadline_timer xsave avx f16c rdrand lahf_lm abm epb tpr_shadow vnmi flexpriority ept vpid fsgsbase tsc_adjust bmi1 avx2 smep bmi2 erms invpcid xsaveopt dtherm arat pln pts\n",
      "bugs\t\t:\n",
      "bogomips\t: 4788.97\n",
      "clflush size\t: 64\n",
      "cache_alignment\t: 64\n",
      "address sizes\t: 39 bits physical, 48 bits virtual\n",
      "power management:\n",
      "\n"
     ]
    }
   ],
   "source": [
    "cat /proc/cpuinfo"
   ]
  },
  {
   "cell_type": "code",
   "execution_count": 33,
   "metadata": {},
   "outputs": [
    {
     "name": "stdout",
     "output_type": "stream",
     "text": [
      "Architecture:          x86_64\n",
      "CPU op-mode(s):        32-bit, 64-bit\n",
      "Byte Order:            Little Endian\n",
      "CPU(s):                4\n",
      "On-line CPU(s) list:   0-3\n",
      "Thread(s) per core:    2\n",
      "Core(s) per socket:    2\n",
      "Socket(s):             1\n",
      "NUMA node(s):          1\n",
      "Vendor ID:             GenuineIntel\n",
      "CPU family:            6\n",
      "Model:                 60\n",
      "Model name:            Intel(R) Core(TM) i3-4000M CPU @ 2.40GHz\n",
      "Stepping:              3\n",
      "CPU MHz:               2400.093\n",
      "CPU max MHz:           2400.0000\n",
      "CPU min MHz:           800.0000\n",
      "BogoMIPS:              4788.97\n",
      "Virtualization:        VT-x\n",
      "L1d cache:             32K\n",
      "L1i cache:             32K\n",
      "L2 cache:              256K\n",
      "L3 cache:              3072K\n",
      "NUMA node0 CPU(s):     0-3\n",
      "Flags:                 fpu vme de pse tsc msr pae mce cx8 apic sep mtrr pge mca cmov pat pse36 clflush dts acpi mmx fxsr sse sse2 ss ht tm pbe syscall nx pdpe1gb rdtscp lm constant_tsc arch_perfmon pebs bts rep_good nopl xtopology nonstop_tsc aperfmperf eagerfpu pni pclmulqdq dtes64 monitor ds_cpl vmx est tm2 ssse3 sdbg fma cx16 xtpr pdcm pcid sse4_1 sse4_2 movbe popcnt tsc_deadline_timer xsave avx f16c rdrand lahf_lm abm epb tpr_shadow vnmi flexpriority ept vpid fsgsbase tsc_adjust bmi1 avx2 smep bmi2 erms invpcid xsaveopt dtherm arat pln pts\n"
     ]
    }
   ],
   "source": [
    "lscpu"
   ]
  },
  {
   "cell_type": "code",
   "execution_count": 3,
   "metadata": {},
   "outputs": [
    {
     "name": "stdout",
     "output_type": "stream",
     "text": [
      "MemTotal:        3757972 kB\n",
      "MemFree:         1275708 kB\n",
      "MemAvailable:    2273804 kB\n",
      "Buffers:          100916 kB\n",
      "Cached:          1202024 kB\n",
      "SwapCached:            0 kB\n",
      "Active:          1590552 kB\n",
      "Inactive:         673400 kB\n",
      "Active(anon):     963476 kB\n",
      "Inactive(anon):   150016 kB\n",
      "Active(file):     627076 kB\n",
      "Inactive(file):   523384 kB\n",
      "Unevictable:           0 kB\n",
      "Mlocked:               0 kB\n",
      "SwapTotal:       7798780 kB\n",
      "SwapFree:        7798780 kB\n",
      "Dirty:                76 kB\n",
      "Writeback:             0 kB\n",
      "AnonPages:        960912 kB\n",
      "Mapped:           471636 kB\n",
      "Shmem:            152488 kB\n",
      "Slab:             130072 kB\n",
      "SReclaimable:      99272 kB\n",
      "SUnreclaim:        30800 kB\n",
      "KernelStack:        6688 kB\n",
      "PageTables:        24224 kB\n",
      "NFS_Unstable:          0 kB\n",
      "Bounce:                0 kB\n",
      "WritebackTmp:          0 kB\n",
      "CommitLimit:     9677764 kB\n",
      "Committed_AS:    3127500 kB\n",
      "VmallocTotal:   34359738367 kB\n",
      "VmallocUsed:           0 kB\n",
      "VmallocChunk:          0 kB\n",
      "HardwareCorrupted:     0 kB\n",
      "AnonHugePages:    299008 kB\n",
      "CmaTotal:              0 kB\n",
      "CmaFree:               0 kB\n",
      "HugePages_Total:       0\n",
      "HugePages_Free:        0\n",
      "HugePages_Rsvd:        0\n",
      "HugePages_Surp:        0\n",
      "Hugepagesize:       2048 kB\n",
      "DirectMap4k:      140148 kB\n",
      "DirectMap2M:     3762176 kB\n",
      "DirectMap1G:           0 kB\n"
     ]
    }
   ],
   "source": [
    "cat /proc/meminfo"
   ]
  },
  {
   "cell_type": "code",
   "execution_count": 4,
   "metadata": {},
   "outputs": [
    {
     "name": "stdout",
     "output_type": "stream",
     "text": [
      "Linux version 4.4.0-57-generic (buildd@lgw01-54) (gcc version 5.4.0 20160609 (Ubuntu 5.4.0-6ubuntu1~16.04.4) ) #78-Ubuntu SMP Fri Dec 9 23:50:32 UTC 2016\n"
     ]
    }
   ],
   "source": [
    "cat /proc/version"
   ]
  },
  {
   "cell_type": "code",
   "execution_count": 35,
   "metadata": {},
   "outputs": [
    {
     "name": "stdout",
     "output_type": "stream",
     "text": [
      "Linux\n",
      "4.4.0-57-generic\n"
     ]
    }
   ],
   "source": [
    "uname -s\n",
    "uname -r"
   ]
  },
  {
   "cell_type": "code",
   "execution_count": 40,
   "metadata": {},
   "outputs": [
    {
     "name": "stdout",
     "output_type": "stream",
     "text": [
      "#78-Ubuntu SMP Fri Dec 9 23:50:32 UTC 2016\n"
     ]
    }
   ],
   "source": [
    "cat /proc/sys/kernel/version"
   ]
  },
  {
   "cell_type": "code",
   "execution_count": 5,
   "metadata": {},
   "outputs": [
    {
     "name": "stdout",
     "output_type": "stream",
     "text": [
      "BOOT_IMAGE=/vmlinuz-4.4.0-57-generic root=/dev/mapper/Raven--vg-root ro\n"
     ]
    }
   ],
   "source": [
    "cat /proc/cmdline"
   ]
  },
  {
   "cell_type": "code",
   "execution_count": 14,
   "metadata": {},
   "outputs": [
    {
     "name": "stdout",
     "output_type": "stream",
     "text": [
      "6557.44 24346.54\n"
     ]
    }
   ],
   "source": [
    "cat /proc/uptime\n",
    "#\"uptime  idle\""
   ]
  },
  {
   "cell_type": "code",
   "execution_count": 9,
   "metadata": {
    "scrolled": true
   },
   "outputs": [
    {
     "name": "stdout",
     "output_type": "stream",
     "text": [
      "\u001b[0m\u001b[01;34m1/\u001b[0m      \u001b[01;34m10736/\u001b[0m  \u001b[01;34m15/\u001b[0m    \u001b[01;34m161/\u001b[0m   \u001b[01;34m17/\u001b[0m    \u001b[01;34m2073/\u001b[0m  \u001b[01;34m304/\u001b[0m  \u001b[01;34m398/\u001b[0m   \u001b[01;34m5362/\u001b[0m  \u001b[01;34m72/\u001b[0m    \u001b[01;34m84/\u001b[0m\n",
      "\u001b[01;34m10/\u001b[0m     \u001b[01;34m10759/\u001b[0m  \u001b[01;34m151/\u001b[0m   \u001b[01;34m1613/\u001b[0m  \u001b[01;34m1708/\u001b[0m  \u001b[01;34m2078/\u001b[0m  \u001b[01;34m305/\u001b[0m  \u001b[01;34m40/\u001b[0m    \u001b[01;34m5384/\u001b[0m  \u001b[01;34m726/\u001b[0m   \u001b[01;34m85/\u001b[0m\n",
      "\u001b[01;34m1009/\u001b[0m   \u001b[01;34m10768/\u001b[0m  \u001b[01;34m1535/\u001b[0m  \u001b[01;34m1616/\u001b[0m  \u001b[01;34m1711/\u001b[0m  \u001b[01;34m2082/\u001b[0m  \u001b[01;34m306/\u001b[0m  \u001b[01;34m4081/\u001b[0m  \u001b[01;34m5386/\u001b[0m  \u001b[01;34m73/\u001b[0m    \u001b[01;34m86/\u001b[0m\n",
      "\u001b[01;34m1012/\u001b[0m   \u001b[01;34m10792/\u001b[0m  \u001b[01;34m1537/\u001b[0m  \u001b[01;34m1619/\u001b[0m  \u001b[01;34m1716/\u001b[0m  \u001b[01;34m21/\u001b[0m    \u001b[01;34m31/\u001b[0m   \u001b[01;34m411/\u001b[0m   \u001b[01;34m5541/\u001b[0m  \u001b[01;34m738/\u001b[0m   \u001b[01;34m864/\u001b[0m\n",
      "\u001b[01;34m1014/\u001b[0m   \u001b[01;34m109/\u001b[0m    \u001b[01;34m154/\u001b[0m   \u001b[01;34m162/\u001b[0m   \u001b[01;34m1717/\u001b[0m  \u001b[01;34m2109/\u001b[0m  \u001b[01;34m315/\u001b[0m  \u001b[01;34m445/\u001b[0m   \u001b[01;34m5631/\u001b[0m  \u001b[01;34m74/\u001b[0m    \u001b[01;34m865/\u001b[0m\n",
      "\u001b[01;34m1016/\u001b[0m   \u001b[01;34m11/\u001b[0m     \u001b[01;34m1544/\u001b[0m  \u001b[01;34m1622/\u001b[0m  \u001b[01;34m175/\u001b[0m   \u001b[01;34m22/\u001b[0m    \u001b[01;34m318/\u001b[0m  \u001b[01;34m4491/\u001b[0m  \u001b[01;34m565/\u001b[0m   \u001b[01;34m745/\u001b[0m   \u001b[01;34m866/\u001b[0m\n",
      "\u001b[01;34m1020/\u001b[0m   \u001b[01;34m110/\u001b[0m    \u001b[01;34m1556/\u001b[0m  \u001b[01;34m1631/\u001b[0m  \u001b[01;34m18/\u001b[0m    \u001b[01;34m23/\u001b[0m    \u001b[01;34m32/\u001b[0m   \u001b[01;34m45/\u001b[0m    \u001b[01;34m5678/\u001b[0m  \u001b[01;34m75/\u001b[0m    \u001b[01;34m87/\u001b[0m\n",
      "\u001b[01;34m1023/\u001b[0m   \u001b[01;34m1134/\u001b[0m   \u001b[01;34m156/\u001b[0m   \u001b[01;34m1632/\u001b[0m  \u001b[01;34m180/\u001b[0m   \u001b[01;34m25/\u001b[0m    \u001b[01;34m320/\u001b[0m  \u001b[01;34m4521/\u001b[0m  \u001b[01;34m5802/\u001b[0m  \u001b[01;34m76/\u001b[0m    \u001b[01;34m88/\u001b[0m\n",
      "\u001b[01;34m10355/\u001b[0m  \u001b[01;34m1141/\u001b[0m   \u001b[01;34m1578/\u001b[0m  \u001b[01;34m1633/\u001b[0m  \u001b[01;34m182/\u001b[0m   \u001b[01;34m250/\u001b[0m   \u001b[01;34m322/\u001b[0m  \u001b[01;34m46/\u001b[0m    \u001b[01;34m5808/\u001b[0m  \u001b[01;34m77/\u001b[0m    \u001b[01;34m89/\u001b[0m\n",
      "\u001b[01;34m10377/\u001b[0m  \u001b[01;34m1149/\u001b[0m   \u001b[01;34m1579/\u001b[0m  \u001b[01;34m164/\u001b[0m   \u001b[01;34m185/\u001b[0m   \u001b[01;34m251/\u001b[0m   \u001b[01;34m327/\u001b[0m  \u001b[01;34m461/\u001b[0m   \u001b[01;34m602/\u001b[0m   \u001b[01;34m78/\u001b[0m    \u001b[01;34m9/\u001b[0m\n",
      "\u001b[01;34m10490/\u001b[0m  \u001b[01;34m1174/\u001b[0m   \u001b[01;34m1583/\u001b[0m  \u001b[01;34m1648/\u001b[0m  \u001b[01;34m187/\u001b[0m   \u001b[01;34m26/\u001b[0m    \u001b[01;34m329/\u001b[0m  \u001b[01;34m47/\u001b[0m    \u001b[01;34m64/\u001b[0m    \u001b[01;34m7860/\u001b[0m  \u001b[01;34m90/\u001b[0m\n",
      "\u001b[01;34m10500/\u001b[0m  \u001b[01;34m1187/\u001b[0m   \u001b[01;34m1588/\u001b[0m  \u001b[01;34m165/\u001b[0m   \u001b[01;34m2/\u001b[0m     \u001b[01;34m27/\u001b[0m    \u001b[01;34m33/\u001b[0m   \u001b[01;34m48/\u001b[0m    \u001b[01;34m643/\u001b[0m   \u001b[01;34m7861/\u001b[0m  \u001b[01;34m91/\u001b[0m\n",
      "\u001b[01;34m10530/\u001b[0m  \u001b[01;34m1197/\u001b[0m   \u001b[01;34m159/\u001b[0m   \u001b[01;34m1653/\u001b[0m  \u001b[01;34m20/\u001b[0m    \u001b[01;34m271/\u001b[0m   \u001b[01;34m34/\u001b[0m   \u001b[01;34m4891/\u001b[0m  \u001b[01;34m65/\u001b[0m    \u001b[01;34m7863/\u001b[0m  \u001b[01;34m96/\u001b[0m\n",
      "\u001b[01;34m10583/\u001b[0m  \u001b[01;34m12/\u001b[0m     \u001b[01;34m1591/\u001b[0m  \u001b[01;34m1654/\u001b[0m  \u001b[01;34m2041/\u001b[0m  \u001b[01;34m28/\u001b[0m    \u001b[01;34m35/\u001b[0m   \u001b[01;34m4895/\u001b[0m  \u001b[01;34m6705/\u001b[0m  \u001b[01;34m79/\u001b[0m    \u001b[01;34m969/\u001b[0m\n",
      "\u001b[01;34m10616/\u001b[0m  \u001b[01;34m13/\u001b[0m     \u001b[01;34m1592/\u001b[0m  \u001b[01;34m166/\u001b[0m   \u001b[01;34m2045/\u001b[0m  \u001b[01;34m29/\u001b[0m    \u001b[01;34m36/\u001b[0m   \u001b[01;34m4896/\u001b[0m  \u001b[01;34m68/\u001b[0m    \u001b[01;34m8/\u001b[0m     \u001b[01;34m990/\u001b[0m\n",
      "\u001b[01;34m10620/\u001b[0m  \u001b[01;34m1368/\u001b[0m   \u001b[01;34m1593/\u001b[0m  \u001b[01;34m1663/\u001b[0m  \u001b[01;34m2048/\u001b[0m  \u001b[01;34m3/\u001b[0m     \u001b[01;34m360/\u001b[0m  \u001b[01;34m4897/\u001b[0m  \u001b[01;34m69/\u001b[0m    \u001b[01;34m80/\u001b[0m    \u001b[01;34m992/\u001b[0m\n",
      "\u001b[01;34m10651/\u001b[0m  \u001b[01;34m1374/\u001b[0m   \u001b[01;34m1599/\u001b[0m  \u001b[01;34m167/\u001b[0m   \u001b[01;34m2057/\u001b[0m  \u001b[01;34m30/\u001b[0m    \u001b[01;34m361/\u001b[0m  \u001b[01;34m4898/\u001b[0m  \u001b[01;34m7/\u001b[0m     \u001b[01;34m81/\u001b[0m    \u001b[01;34m994/\u001b[0m\n",
      "\u001b[01;34m1072/\u001b[0m   \u001b[01;34m1378/\u001b[0m   \u001b[01;34m16/\u001b[0m    \u001b[01;34m168/\u001b[0m   \u001b[01;34m2062/\u001b[0m  \u001b[01;34m302/\u001b[0m   \u001b[01;34m38/\u001b[0m   \u001b[01;34m5/\u001b[0m     \u001b[01;34m70/\u001b[0m    \u001b[01;34m82/\u001b[0m    \u001b[01;34m996/\u001b[0m\n",
      "\u001b[01;34m10724/\u001b[0m  \u001b[01;34m149/\u001b[0m    \u001b[01;34m160/\u001b[0m   \u001b[01;34m169/\u001b[0m   \u001b[01;34m2067/\u001b[0m  \u001b[01;34m303/\u001b[0m   \u001b[01;34m39/\u001b[0m   \u001b[01;34m5289/\u001b[0m  \u001b[01;34m71/\u001b[0m    \u001b[01;34m83/\u001b[0m\n"
     ]
    }
   ],
   "source": [
    "cd /proc\n",
    "ls [0-9]*/ -d\n",
    "# Currently running process\n",
    "# Htop, Top"
   ]
  },
  {
   "cell_type": "code",
   "execution_count": 15,
   "metadata": {},
   "outputs": [
    {
     "name": "stdout",
     "output_type": "stream",
     "text": [
      "[1] 10806\n"
     ]
    }
   ],
   "source": [
    "yes &> /dev/null &"
   ]
  },
  {
   "cell_type": "code",
   "execution_count": 16,
   "metadata": {},
   "outputs": [
    {
     "name": "stdout",
     "output_type": "stream",
     "text": [
      "10806\n"
     ]
    }
   ],
   "source": [
    "pidof yes"
   ]
  },
  {
   "cell_type": "code",
   "execution_count": 17,
   "metadata": {},
   "outputs": [
    {
     "name": "stdout",
     "output_type": "stream",
     "text": [
      "\u001b[0m\u001b[01;34m10806\u001b[0m\n"
     ]
    }
   ],
   "source": [
    "ls -d `pidof yes`"
   ]
  },
  {
   "cell_type": "code",
   "execution_count": 18,
   "metadata": {
    "collapsed": true
   },
   "outputs": [],
   "source": [
    "cd 10806"
   ]
  },
  {
   "cell_type": "code",
   "execution_count": 19,
   "metadata": {},
   "outputs": [
    {
     "name": "stdout",
     "output_type": "stream",
     "text": [
      "\u001b[0m\u001b[01;34mattr\u001b[0m             cpuset   limits      \u001b[01;34mnet\u001b[0m            projid_map  stat\n",
      "autogroup        \u001b[01;36mcwd\u001b[0m      loginuid    \u001b[01;34mns\u001b[0m             \u001b[01;36mroot\u001b[0m        statm\n",
      "auxv             environ  \u001b[01;34mmap_files\u001b[0m   numa_maps      sched       status\n",
      "cgroup           \u001b[01;36mexe\u001b[0m      maps        oom_adj        schedstat   syscall\n",
      "clear_refs       \u001b[01;34mfd\u001b[0m       mem         oom_score      sessionid   \u001b[01;34mtask\u001b[0m\n",
      "cmdline          \u001b[01;34mfdinfo\u001b[0m   mountinfo   oom_score_adj  setgroups   timers\n",
      "comm             gid_map  mounts      pagemap        smaps       uid_map\n",
      "coredump_filter  io       mountstats  personality    stack       wchan\n"
     ]
    }
   ],
   "source": [
    "ls"
   ]
  },
  {
   "cell_type": "code",
   "execution_count": 20,
   "metadata": {},
   "outputs": [
    {
     "name": "stdout",
     "output_type": "stream",
     "text": [
      "lrwxrwxrwx 1 milad milad 0 Dec 26 23:37 \u001b[0m\u001b[01;36mcwd\u001b[0m -> \u001b[01;34m/proc\u001b[0m\n"
     ]
    }
   ],
   "source": [
    "ls -lh cwd"
   ]
  },
  {
   "cell_type": "code",
   "execution_count": 21,
   "metadata": {},
   "outputs": [
    {
     "name": "stdout",
     "output_type": "stream",
     "text": [
      "lrwxrwxrwx 1 milad milad 0 Dec 26 23:37 \u001b[0m\u001b[01;36mexe\u001b[0m -> \u001b[01;32m/usr/bin/yes\u001b[0m\n"
     ]
    }
   ],
   "source": [
    "ls -lh exe"
   ]
  },
  {
   "cell_type": "code",
   "execution_count": 27,
   "metadata": {},
   "outputs": [
    {
     "name": "stdout",
     "output_type": "stream",
     "text": [
      "Name:\tyes\n",
      "State:\tR (running)\n",
      "Tgid:\t10806\n",
      "Ngid:\t0\n",
      "Pid:\t10806\n",
      "PPid:\t10768\n"
     ]
    }
   ],
   "source": [
    "cat status | head -6"
   ]
  },
  {
   "cell_type": "code",
   "execution_count": null,
   "metadata": {},
   "outputs": [],
   "source": [
    "# A test for cwd in procfs\n",
    "cd ~\n",
    "mkdir webserver\n",
    "dd if=/dev/zero of=file.zip bs=1M count=100\n",
    "python -m SimpleHTTPServer\n",
    "cd ~/Downloads\n",
    "wget --limit-rate=1k http://0.0.0.0:8000/file.zip -O dl.zip"
   ]
  },
  {
   "cell_type": "code",
   "execution_count": null,
   "metadata": {},
   "outputs": [],
   "source": [
    "cd /proc\n",
    "cd `pidof wget`\n",
    "ls -l cwd"
   ]
  },
  {
   "cell_type": "code",
   "execution_count": 19,
   "metadata": {},
   "outputs": [
    {
     "name": "stdout",
     "output_type": "stream",
     "text": [
      "Address                  HWtype  HWaddress           Flags Mask            Iface\n",
      "192.168.1.1              ether   ac:9e:17:52:3f:c4   C                     enp3s0\n"
     ]
    }
   ],
   "source": [
    "arp\n",
    "# makes details more readable (converts hex)"
   ]
  },
  {
   "cell_type": "code",
   "execution_count": 20,
   "metadata": {},
   "outputs": [
    {
     "name": "stdout",
     "output_type": "stream",
     "text": [
      "192.168.1.1 dev enp3s0 lladdr ac:9e:17:52:3f:c4 STALE\n"
     ]
    }
   ],
   "source": [
    "ip n"
   ]
  },
  {
   "cell_type": "code",
   "execution_count": 2,
   "metadata": {},
   "outputs": [
    {
     "name": "stdout",
     "output_type": "stream",
     "text": [
      "IP address       HW type     Flags       HW address            Mask     Device\n",
      "192.168.1.1      0x1         0x2         ac:9e:17:52:3f:c4     *        enp3s0\n"
     ]
    }
   ],
   "source": [
    "cd /proc/net\n",
    "cat arp"
   ]
  },
  {
   "cell_type": "code",
   "execution_count": 4,
   "metadata": {},
   "outputs": [
    {
     "name": "stdout",
     "output_type": "stream",
     "text": [
      "lrwxrwxrwx 1 root root 8 Dec 26 23:51 \u001b[0m\u001b[01;36m/proc/net\u001b[0m -> \u001b[01;34mself/net\u001b[0m\n"
     ]
    }
   ],
   "source": [
    "ls -ld /proc/net"
   ]
  },
  {
   "cell_type": "code",
   "execution_count": 5,
   "metadata": {},
   "outputs": [
    {
     "name": "stdout",
     "output_type": "stream",
     "text": [
      "lrwxrwxrwx 1 root root 0 Dec 26 19:25 \u001b[0m\u001b[01;36m/proc/self\u001b[0m -> \u001b[01;34m10966\u001b[0m\n"
     ]
    }
   ],
   "source": [
    "ls -ld /proc/self"
   ]
  },
  {
   "cell_type": "code",
   "execution_count": 6,
   "metadata": {},
   "outputs": [
    {
     "name": "stdout",
     "output_type": "stream",
     "text": [
      "lrwxrwxrwx 1 root root 0 Dec 26 19:25 \u001b[0m\u001b[01;36m/proc/self\u001b[0m -> \u001b[01;34m10967\u001b[0m\n"
     ]
    }
   ],
   "source": [
    "ls -ld /proc/self"
   ]
  },
  {
   "cell_type": "code",
   "execution_count": 8,
   "metadata": {},
   "outputs": [],
   "source": [
    "cd /proc/net"
   ]
  },
  {
   "cell_type": "code",
   "execution_count": 17,
   "metadata": {},
   "outputs": [
    {
     "name": "stdout",
     "output_type": "stream",
     "text": [
      "/proc/net\n",
      "/proc/10942/net\n"
     ]
    }
   ],
   "source": [
    "pwd\n",
    "pwd -P"
   ]
  },
  {
   "cell_type": "code",
   "execution_count": 11,
   "metadata": {},
   "outputs": [
    {
     "name": "stdout",
     "output_type": "stream",
     "text": [
      "10942\n"
     ]
    }
   ],
   "source": [
    "echo $$"
   ]
  },
  {
   "cell_type": "code",
   "execution_count": 13,
   "metadata": {},
   "outputs": [
    {
     "name": "stdout",
     "output_type": "stream",
     "text": [
      "10942\n"
     ]
    }
   ],
   "source": [
    "pidof -s bash"
   ]
  },
  {
   "cell_type": "code",
   "execution_count": 14,
   "metadata": {},
   "outputs": [
    {
     "name": "stdout",
     "output_type": "stream",
     "text": [
      "cd is a shell builtin\n"
     ]
    }
   ],
   "source": [
    "type cd"
   ]
  },
  {
   "cell_type": "code",
   "execution_count": null,
   "metadata": {},
   "outputs": [],
   "source": [
    "help cd"
   ]
  },
  {
   "cell_type": "markdown",
   "metadata": {},
   "source": [
    "## SYSFS\n",
    "\n",
    "### Kernel 2.5 SysFs introduced  \n",
    "\n",
    "- To contain information about system (dev, etc)\n",
    "- Pluged devices\n",
    "- Memory space address or memory interrupt\n",
    "- Configuration files\n",
    "- What brand\n",
    "\n",
    "\n",
    "- Mindfulness so: More organized.\n",
    "- Procfs still contains old stuff and are valid"
   ]
  },
  {
   "cell_type": "code",
   "execution_count": 18,
   "metadata": {},
   "outputs": [
    {
     "name": "stdout",
     "output_type": "stream",
     "text": [
      "\u001b[0m\u001b[01;34mblock\u001b[0m  \u001b[01;34mclass\u001b[0m  \u001b[01;34mdevices\u001b[0m   \u001b[01;34mfs\u001b[0m          \u001b[01;34mkernel\u001b[0m  \u001b[01;34mpower\u001b[0m\n",
      "\u001b[01;34mbus\u001b[0m    \u001b[01;34mdev\u001b[0m    \u001b[01;34mfirmware\u001b[0m  \u001b[01;34mhypervisor\u001b[0m  \u001b[01;34mmodule\u001b[0m\n"
     ]
    }
   ],
   "source": [
    "ls /sys"
   ]
  },
  {
   "cell_type": "code",
   "execution_count": 28,
   "metadata": {},
   "outputs": [
    {
     "name": "stdout",
     "output_type": "stream",
     "text": [
      "/sys/dev/block:\n",
      "\u001b[0m\u001b[01;36m1:0\u001b[0m   \u001b[01;36m11:0\u001b[0m  \u001b[01;36m1:13\u001b[0m  \u001b[01;36m1:2\u001b[0m  \u001b[01;36m1:5\u001b[0m  \u001b[01;36m1:8\u001b[0m    \u001b[01;36m252:1\u001b[0m  \u001b[01;36m7:0\u001b[0m  \u001b[01;36m7:3\u001b[0m  \u001b[01;36m7:6\u001b[0m  \u001b[01;36m8:1\u001b[0m\n",
      "\u001b[01;36m1:1\u001b[0m   \u001b[01;36m1:11\u001b[0m  \u001b[01;36m1:14\u001b[0m  \u001b[01;36m1:3\u001b[0m  \u001b[01;36m1:6\u001b[0m  \u001b[01;36m1:9\u001b[0m    \u001b[01;36m252:2\u001b[0m  \u001b[01;36m7:1\u001b[0m  \u001b[01;36m7:4\u001b[0m  \u001b[01;36m7:7\u001b[0m  \u001b[01;36m8:2\u001b[0m\n",
      "\u001b[01;36m1:10\u001b[0m  \u001b[01;36m1:12\u001b[0m  \u001b[01;36m1:15\u001b[0m  \u001b[01;36m1:4\u001b[0m  \u001b[01;36m1:7\u001b[0m  \u001b[01;36m252:0\u001b[0m  \u001b[01;36m252:3\u001b[0m  \u001b[01;36m7:2\u001b[0m  \u001b[01;36m7:5\u001b[0m  \u001b[01;36m8:0\u001b[0m  \u001b[01;36m8:5\u001b[0m\n",
      "\n",
      "/sys/dev/char:\n",
      "\u001b[01;36m10:1\u001b[0m    \u001b[01;36m10:58\u001b[0m   \u001b[01;36m1:3\u001b[0m    \u001b[01;36m1:8\u001b[0m      \u001b[01;36m248:0\u001b[0m  \u001b[01;36m4:20\u001b[0m  \u001b[01;36m4:39\u001b[0m  \u001b[01;36m4:57\u001b[0m  \u001b[01;36m4:75\u001b[0m  \u001b[01;36m4:93\u001b[0m   \u001b[01;36m7:6\u001b[0m\n",
      "\u001b[01;36m10:130\u001b[0m  \u001b[01;36m10:59\u001b[0m   \u001b[01;36m13:32\u001b[0m  \u001b[01;36m189:0\u001b[0m    \u001b[01;36m248:1\u001b[0m  \u001b[01;36m4:21\u001b[0m  \u001b[01;36m4:4\u001b[0m   \u001b[01;36m4:58\u001b[0m  \u001b[01;36m4:76\u001b[0m  \u001b[01;36m4:94\u001b[0m   \u001b[01;36m81:0\u001b[0m\n",
      "\u001b[01;36m10:144\u001b[0m  \u001b[01;36m10:60\u001b[0m   \u001b[01;36m13:33\u001b[0m  \u001b[01;36m189:1\u001b[0m    \u001b[01;36m249:0\u001b[0m  \u001b[01;36m4:22\u001b[0m  \u001b[01;36m4:40\u001b[0m  \u001b[01;36m4:59\u001b[0m  \u001b[01;36m4:77\u001b[0m  \u001b[01;36m4:95\u001b[0m   \u001b[01;36m89:0\u001b[0m\n",
      "\u001b[01;36m10:183\u001b[0m  \u001b[01;36m10:61\u001b[0m   \u001b[01;36m13:63\u001b[0m  \u001b[01;36m189:128\u001b[0m  \u001b[01;36m249:1\u001b[0m  \u001b[01;36m4:23\u001b[0m  \u001b[01;36m4:41\u001b[0m  \u001b[01;36m4:6\u001b[0m   \u001b[01;36m4:78\u001b[0m  \u001b[01;36m5:0\u001b[0m    \u001b[01;36m89:1\u001b[0m\n",
      "\u001b[01;36m10:184\u001b[0m  \u001b[01;36m10:62\u001b[0m   \u001b[01;36m13:64\u001b[0m  \u001b[01;36m189:129\u001b[0m  \u001b[01;36m250:0\u001b[0m  \u001b[01;36m4:24\u001b[0m  \u001b[01;36m4:42\u001b[0m  \u001b[01;36m4:60\u001b[0m  \u001b[01;36m4:79\u001b[0m  \u001b[01;36m5:1\u001b[0m    \u001b[01;36m89:2\u001b[0m\n",
      "\u001b[01;36m10:200\u001b[0m  \u001b[01;36m10:63\u001b[0m   \u001b[01;36m13:65\u001b[0m  \u001b[01;36m189:256\u001b[0m  \u001b[01;36m251:0\u001b[0m  \u001b[01;36m4:25\u001b[0m  \u001b[01;36m4:43\u001b[0m  \u001b[01;36m4:61\u001b[0m  \u001b[01;36m4:8\u001b[0m   \u001b[01;36m5:2\u001b[0m    \u001b[01;36m89:3\u001b[0m\n",
      "\u001b[01;36m10:223\u001b[0m  \u001b[01;36m108:0\u001b[0m   \u001b[01;36m13:66\u001b[0m  \u001b[01;36m189:257\u001b[0m  \u001b[01;36m29:0\u001b[0m   \u001b[01;36m4:26\u001b[0m  \u001b[01;36m4:44\u001b[0m  \u001b[01;36m4:62\u001b[0m  \u001b[01;36m4:80\u001b[0m  \u001b[01;36m5:3\u001b[0m    \u001b[01;36m89:4\u001b[0m\n",
      "\u001b[01;36m10:227\u001b[0m  \u001b[01;36m1:1\u001b[0m     \u001b[01;36m13:67\u001b[0m  \u001b[01;36m189:384\u001b[0m  \u001b[01;36m4:0\u001b[0m    \u001b[01;36m4:27\u001b[0m  \u001b[01;36m4:45\u001b[0m  \u001b[01;36m4:63\u001b[0m  \u001b[01;36m4:81\u001b[0m  \u001b[01;36m7:0\u001b[0m    \u001b[01;36m89:5\u001b[0m\n",
      "\u001b[01;36m10:228\u001b[0m  \u001b[01;36m1:11\u001b[0m    \u001b[01;36m13:68\u001b[0m  \u001b[01;36m1:9\u001b[0m      \u001b[01;36m4:1\u001b[0m    \u001b[01;36m4:28\u001b[0m  \u001b[01;36m4:46\u001b[0m  \u001b[01;36m4:64\u001b[0m  \u001b[01;36m4:82\u001b[0m  \u001b[01;36m7:1\u001b[0m    \u001b[01;36m89:6\u001b[0m\n",
      "\u001b[01;36m10:229\u001b[0m  \u001b[01;36m116:1\u001b[0m   \u001b[01;36m13:69\u001b[0m  \u001b[01;36m202:0\u001b[0m    \u001b[01;36m4:10\u001b[0m   \u001b[01;36m4:29\u001b[0m  \u001b[01;36m4:47\u001b[0m  \u001b[01;36m4:65\u001b[0m  \u001b[01;36m4:83\u001b[0m  \u001b[01;36m7:128\u001b[0m  \u001b[01;36m89:7\u001b[0m\n",
      "\u001b[01;36m10:231\u001b[0m  \u001b[01;36m116:10\u001b[0m  \u001b[01;36m13:70\u001b[0m  \u001b[01;36m202:1\u001b[0m    \u001b[01;36m4:11\u001b[0m   \u001b[01;36m4:3\u001b[0m   \u001b[01;36m4:48\u001b[0m  \u001b[01;36m4:66\u001b[0m  \u001b[01;36m4:84\u001b[0m  \u001b[01;36m7:129\u001b[0m\n",
      "\u001b[01;36m10:232\u001b[0m  \u001b[01;36m116:2\u001b[0m   \u001b[01;36m13:71\u001b[0m  \u001b[01;36m202:2\u001b[0m    \u001b[01;36m4:12\u001b[0m   \u001b[01;36m4:30\u001b[0m  \u001b[01;36m4:49\u001b[0m  \u001b[01;36m4:67\u001b[0m  \u001b[01;36m4:85\u001b[0m  \u001b[01;36m7:130\u001b[0m\n",
      "\u001b[01;36m10:235\u001b[0m  \u001b[01;36m116:3\u001b[0m   \u001b[01;36m13:72\u001b[0m  \u001b[01;36m202:3\u001b[0m    \u001b[01;36m4:13\u001b[0m   \u001b[01;36m4:31\u001b[0m  \u001b[01;36m4:5\u001b[0m   \u001b[01;36m4:68\u001b[0m  \u001b[01;36m4:86\u001b[0m  \u001b[01;36m7:131\u001b[0m\n",
      "\u001b[01;36m10:236\u001b[0m  \u001b[01;36m116:33\u001b[0m  \u001b[01;36m13:73\u001b[0m  \u001b[01;36m21:0\u001b[0m     \u001b[01;36m4:14\u001b[0m   \u001b[01;36m4:32\u001b[0m  \u001b[01;36m4:50\u001b[0m  \u001b[01;36m4:69\u001b[0m  \u001b[01;36m4:87\u001b[0m  \u001b[01;36m7:132\u001b[0m\n",
      "\u001b[01;36m10:237\u001b[0m  \u001b[01;36m116:4\u001b[0m   \u001b[01;36m13:74\u001b[0m  \u001b[01;36m21:1\u001b[0m     \u001b[01;36m4:15\u001b[0m   \u001b[01;36m4:33\u001b[0m  \u001b[01;36m4:51\u001b[0m  \u001b[01;36m4:7\u001b[0m   \u001b[01;36m4:88\u001b[0m  \u001b[01;36m7:133\u001b[0m\n",
      "\u001b[01;36m10:53\u001b[0m   \u001b[01;36m116:5\u001b[0m   \u001b[01;36m13:75\u001b[0m  \u001b[01;36m226:0\u001b[0m    \u001b[01;36m4:16\u001b[0m   \u001b[01;36m4:34\u001b[0m  \u001b[01;36m4:52\u001b[0m  \u001b[01;36m4:70\u001b[0m  \u001b[01;36m4:89\u001b[0m  \u001b[01;36m7:134\u001b[0m\n",
      "\u001b[01;36m10:54\u001b[0m   \u001b[01;36m116:6\u001b[0m   \u001b[01;36m13:76\u001b[0m  \u001b[01;36m226:128\u001b[0m  \u001b[01;36m4:17\u001b[0m   \u001b[01;36m4:35\u001b[0m  \u001b[01;36m4:53\u001b[0m  \u001b[01;36m4:71\u001b[0m  \u001b[01;36m4:9\u001b[0m   \u001b[01;36m7:2\u001b[0m\n",
      "\u001b[01;36m10:55\u001b[0m   \u001b[01;36m116:7\u001b[0m   \u001b[01;36m1:4\u001b[0m    \u001b[01;36m226:64\u001b[0m   \u001b[01;36m4:18\u001b[0m   \u001b[01;36m4:36\u001b[0m  \u001b[01;36m4:54\u001b[0m  \u001b[01;36m4:72\u001b[0m  \u001b[01;36m4:90\u001b[0m  \u001b[01;36m7:3\u001b[0m\n",
      "\u001b[01;36m10:56\u001b[0m   \u001b[01;36m116:8\u001b[0m   \u001b[01;36m1:5\u001b[0m    \u001b[01;36m246:0\u001b[0m    \u001b[01;36m4:19\u001b[0m   \u001b[01;36m4:37\u001b[0m  \u001b[01;36m4:55\u001b[0m  \u001b[01;36m4:73\u001b[0m  \u001b[01;36m4:91\u001b[0m  \u001b[01;36m7:4\u001b[0m\n",
      "\u001b[01;36m10:57\u001b[0m   \u001b[01;36m116:9\u001b[0m   \u001b[01;36m1:7\u001b[0m    \u001b[01;36m247:0\u001b[0m    \u001b[01;36m4:2\u001b[0m    \u001b[01;36m4:38\u001b[0m  \u001b[01;36m4:56\u001b[0m  \u001b[01;36m4:74\u001b[0m  \u001b[01;36m4:92\u001b[0m  \u001b[01;36m7:5\u001b[0m\n"
     ]
    }
   ],
   "source": [
    "ls /sys/dev/char /sys/dev/block\n",
    "# Major:Minor\n",
    "# Driver:Which Device Exactly"
   ]
  },
  {
   "cell_type": "markdown",
   "metadata": {},
   "source": [
    "## UDEV\n",
    "\n",
    "### kernel 2.6\n",
    "\n",
    " - is a device manager\n",
    " - successor of devfsd\n",
    " - manages device nodes in the /dev\n",
    " - handle all user space events  while hardware devices are added\n",
    "\n",
    "Because of good organization by sysfs udev introduced\n",
    "\n",
    "* Populates devices in /dev directory \n",
    "* By looking at sysfs\n",
    "\n",
    "BEFORE UDEV: /dev exists but it was handeling by static links to thinks like:\n",
    "while there first pluged in then unplug but device still is there"
   ]
  },
  {
   "cell_type": "code",
   "execution_count": 22,
   "metadata": {},
   "outputs": [
    {
     "name": "stdout",
     "output_type": "stream",
     "text": [
      "udev (7)             - Dynamic device management\n"
     ]
    }
   ],
   "source": [
    "whatis udev"
   ]
  },
  {
   "cell_type": "markdown",
   "metadata": {},
   "source": [
    "## DBUS\n",
    "\n",
    "[inter-process communication]  \n",
    "D-Bus is a message bus system, a simple way for applications to talk to one another. \n",
    "\n",
    "With udev devices (/dev) are handled dynamicly and in a standard way\n",
    "\n",
    "dbus:\n",
    "- read system informations from /dev\n",
    "- tells the program about devices with signals\n",
    "- programs does not have to look in:\n",
    "    - procfs, sysfs, /dev specifically #No hard code, do only your Job\n",
    "\n",
    "Plug device =>\n",
    "dbus signals to DE ->\n",
    "DE Knows about new device connected to system\n",
    "D-Bus helps coordinate process lifecycle;\n",
    "\n",
    "\n",
    "<img src=\"img/Processes_with_D-Bus.svg\" style=\"display:inline;width: 300px;\"/>\n",
    "<img src=\"img/Processes_without_D-Bus.svg\"  style=\"display:inline;width: 300px;\"/>"
   ]
  },
  {
   "cell_type": "code",
   "execution_count": 30,
   "metadata": {},
   "outputs": [],
   "source": [
    "# dbus-launch (1)      - Utility to start a message bus from a shell script\n",
    "# .xinitrc\n",
    "exec dbus-launch --sh-syntax --exit-with-session ssh-agent openbox-session"
   ]
  },
  {
   "cell_type": "markdown",
   "metadata": {},
   "source": [
    "- - -\n",
    "## Lecture notes\n",
    "\n",
    "- All lecture notes are available at github in `ipynb` format: [https://github.com/ravexina/linux-notes](https://github.com/ravexina/linux-notes). \n",
    "\n",
    "\n",
    "- There are `html` exports of project available at: [https://ravexina.github.io/linux-notes](https://ravexina.github.io/linux-notes).\n",
    "\n",
    "## License\n",
    "<a rel=\"license\" href=\"http://creativecommons.org/licenses/by-nc-sa/4.0/\">\n",
    "<img alt=\"Creative Commons License\" style=\"border-width:0\" src=\"https://i.creativecommons.org/l/by-nc-sa/4.0/88x31.png\" />\n",
    "</a>\n",
    "\n",
    "<span property=\"dct:title\">Linux Notes</span> by \n",
    "<a href=\"http://github.com/ravexina/Linux-Notes\" property=\"cc:attributionName\" rel=\"cc:attributionURL\">Milad As (Ravexina)</a> is licensed under a <a rel=\"license\" href=\"http://creativecommons.org/licenses/by-nc-sa/4.0/\">Creative Commons Attribution-NonCommercial-ShareAlike 4.0 International License</a>.\n",
    "\n",
    "- - -\n",
    "\n",
    "<a rel=\"license\" href=\"https://gitlab.com/ravexina/\"><img alt=\"ravexina's gitlab\" style=\"display:inline;border-width:0;height:30px;float:left;\" src=\"img/logo/logo-square.png\" /></a> \n",
    "\n",
    "<a rel=\"license\" href=\"https://github.com/ravexina/\"><img alt=\"ravexina's github\" style=\"float:right;display:inline;border-width:0;height:30px;\" src=\"img/logo/GitHub_Logo.png\" /></a>"
   ]
  }
 ],
 "metadata": {
  "kernelspec": {
   "display_name": "Bash",
   "language": "bash",
   "name": "bash"
  },
  "language_info": {
   "codemirror_mode": "shell",
   "file_extension": ".sh",
   "mimetype": "text/x-sh",
   "name": "bash"
  }
 },
 "nbformat": 4,
 "nbformat_minor": 2
}
