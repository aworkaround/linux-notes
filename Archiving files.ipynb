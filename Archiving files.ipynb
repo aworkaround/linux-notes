{
 "cells": [
  {
   "cell_type": "markdown",
   "metadata": {},
   "source": [
    "# Archive and compressing files"
   ]
  },
  {
   "cell_type": "markdown",
   "metadata": {},
   "source": [
    "## Tar"
   ]
  },
  {
   "cell_type": "code",
   "execution_count": 2,
   "metadata": {
    "collapsed": true
   },
   "outputs": [],
   "source": [
    "mkdir lab"
   ]
  },
  {
   "cell_type": "code",
   "execution_count": 3,
   "metadata": {
    "collapsed": true
   },
   "outputs": [],
   "source": [
    "cd lab"
   ]
  },
  {
   "cell_type": "code",
   "execution_count": 20,
   "metadata": {},
   "outputs": [
    {
     "ename": "",
     "evalue": "1",
     "output_type": "error",
     "traceback": []
    }
   ],
   "source": [
    "cp /etc/default/* . 2> /dev/null"
   ]
  },
  {
   "cell_type": "code",
   "execution_count": 23,
   "metadata": {},
   "outputs": [
    {
     "name": "stdout",
     "output_type": "stream",
     "text": [
      "alsa\n",
      "avahi-daemon\n",
      "bridge-utils\n",
      "bsdmainutils\n",
      "console-setup\n"
     ]
    }
   ],
   "source": [
    "ls | head -5"
   ]
  },
  {
   "cell_type": "code",
   "execution_count": 44,
   "metadata": {},
   "outputs": [
    {
     "name": "stdout",
     "output_type": "stream",
     "text": [
      "176K\t.\n"
     ]
    }
   ],
   "source": [
    "du . -h # disk usage"
   ]
  },
  {
   "cell_type": "code",
   "execution_count": 60,
   "metadata": {
    "collapsed": true
   },
   "outputs": [],
   "source": [
    "tar -c -f file.tar *"
   ]
  },
  {
   "cell_type": "code",
   "execution_count": 47,
   "metadata": {},
   "outputs": [
    {
     "name": "stdout",
     "output_type": "stream",
     "text": [
      "-rw-rw-r-- 1 milad milad 70K May  1 17:35 \u001b[0m\u001b[01;31mfile.tar\u001b[0m\n"
     ]
    }
   ],
   "source": [
    "ls -lh file.tar"
   ]
  },
  {
   "cell_type": "code",
   "execution_count": 48,
   "metadata": {},
   "outputs": [
    {
     "name": "stdout",
     "output_type": "stream",
     "text": [
      "41\n"
     ]
    }
   ],
   "source": [
    "ls * | grep -v tar | wc -l"
   ]
  },
  {
   "cell_type": "code",
   "execution_count": 61,
   "metadata": {
    "collapsed": true
   },
   "outputs": [],
   "source": [
    "shopt -s extglob # extended pattern matching syntax\n",
    "rm !(file.tar)"
   ]
  },
  {
   "cell_type": "code",
   "execution_count": 62,
   "metadata": {},
   "outputs": [
    {
     "name": "stdout",
     "output_type": "stream",
     "text": [
      "\u001b[0m\u001b[01;31mfile.tar\u001b[0m\n"
     ]
    }
   ],
   "source": [
    "ls"
   ]
  },
  {
   "cell_type": "code",
   "execution_count": 64,
   "metadata": {
    "collapsed": true
   },
   "outputs": [],
   "source": [
    "tar -x -f file.tar"
   ]
  },
  {
   "cell_type": "code",
   "execution_count": 56,
   "metadata": {},
   "outputs": [
    {
     "name": "stdout",
     "output_type": "stream",
     "text": [
      "alsa avahi-daemon bridge-utils bsdmainutils console-setup "
     ]
    }
   ],
   "source": [
    "ls | head -5 | tr '\\n' ' '"
   ]
  },
  {
   "cell_type": "markdown",
   "metadata": {},
   "source": [
    "## gzip, gunzip, zcat"
   ]
  },
  {
   "cell_type": "code",
   "execution_count": 18,
   "metadata": {
    "collapsed": true
   },
   "outputs": [],
   "source": [
    "rm !(file.tar)"
   ]
  },
  {
   "cell_type": "code",
   "execution_count": 19,
   "metadata": {},
   "outputs": [
    {
     "name": "stdout",
     "output_type": "stream",
     "text": [
      "\u001b[0m\u001b[01;31mfile.tar\u001b[0m\n"
     ]
    }
   ],
   "source": [
    "ls"
   ]
  },
  {
   "cell_type": "code",
   "execution_count": 4,
   "metadata": {
    "collapsed": true
   },
   "outputs": [],
   "source": [
    "gzip -9 -k file.tar # -1 fast : -9 best"
   ]
  },
  {
   "cell_type": "code",
   "execution_count": 5,
   "metadata": {},
   "outputs": [
    {
     "name": "stdout",
     "output_type": "stream",
     "text": [
      "total 88K\n",
      "-rw-rw-r-- 1 milad milad 70K May  1 17:45 \u001b[0m\u001b[01;31mfile.tar\u001b[0m\n",
      "-rw-rw-r-- 1 milad milad 16K May  1 17:45 \u001b[01;31mfile.tar.gz\u001b[0m\n"
     ]
    }
   ],
   "source": [
    "ls -lh"
   ]
  },
  {
   "cell_type": "code",
   "execution_count": 7,
   "metadata": {
    "collapsed": true
   },
   "outputs": [],
   "source": [
    "rm file.tar"
   ]
  },
  {
   "cell_type": "code",
   "execution_count": 8,
   "metadata": {},
   "outputs": [
    {
     "name": "stdout",
     "output_type": "stream",
     "text": [
      "\u001b[0m\u001b[01;31mfile.tar.gz\u001b[0m\n"
     ]
    }
   ],
   "source": [
    "ls"
   ]
  },
  {
   "cell_type": "code",
   "execution_count": 9,
   "metadata": {
    "collapsed": true
   },
   "outputs": [],
   "source": [
    "gzip --decompress file.tar.gz # -d, --uncompress, gunzip"
   ]
  },
  {
   "cell_type": "code",
   "execution_count": 25,
   "metadata": {},
   "outputs": [
    {
     "name": "stdout",
     "output_type": "stream",
     "text": [
      "total 72K\n",
      "-rw-rw-r-- 1 milad milad 70K May  1 17:45 \u001b[0m\u001b[01;31mfile.tar\u001b[0m\n"
     ]
    }
   ],
   "source": [
    "ls -lh"
   ]
  },
  {
   "cell_type": "code",
   "execution_count": 20,
   "metadata": {
    "collapsed": true
   },
   "outputs": [],
   "source": [
    "tar -x -f file.tar"
   ]
  },
  {
   "cell_type": "code",
   "execution_count": 29,
   "metadata": {},
   "outputs": [
    {
     "name": "stdout",
     "output_type": "stream",
     "text": [
      "\u001b[0m\u001b[01;31mfile.tar\u001b[0m  \u001b[01;31mfile.tar.bz2\u001b[0m  \u001b[01;31mfile.tar.gz\u001b[0m\n"
     ]
    }
   ],
   "source": [
    "gzip -k -9 file.tar; ls"
   ]
  },
  {
   "cell_type": "code",
   "execution_count": 30,
   "metadata": {},
   "outputs": [
    {
     "name": "stdout",
     "output_type": "stream",
     "text": [
      "file.tar.gz: gzip compressed data, was \"file.tar\", last modified: Mon May  1 13:41:06 2017, max compression, from Unix\n"
     ]
    }
   ],
   "source": [
    "file file.tar.gz"
   ]
  },
  {
   "cell_type": "code",
   "execution_count": 31,
   "metadata": {
    "collapsed": true
   },
   "outputs": [],
   "source": [
    "cat file.tar.gz | gunzip > file.tar # get the input from stdin"
   ]
  },
  {
   "cell_type": "code",
   "execution_count": 32,
   "metadata": {
    "collapsed": true
   },
   "outputs": [],
   "source": [
    "gzip -d -c file.tar.gz > file2.tar #  Write output on standard output"
   ]
  },
  {
   "cell_type": "code",
   "execution_count": null,
   "metadata": {
    "collapsed": true
   },
   "outputs": [],
   "source": [
    "zcat file.tar.gz # similar to -> gunzip -c, gzip -d -c"
   ]
  },
  {
   "cell_type": "code",
   "execution_count": 35,
   "metadata": {},
   "outputs": [
    {
     "name": "stdout",
     "output_type": "stream",
     "text": [
      "total 312K\n",
      "-rw-rw-r-- 1 milad milad  30K May  1 18:11 \u001b[0m\u001b[01;31mfile.tar.gz\u001b[0m\n",
      "-rw-rw-r-- 1 milad milad 140K May  1 18:23 \u001b[01;31mfile.tar\u001b[0m\n",
      "-rw-rw-r-- 1 milad milad 140K May  1 18:23 \u001b[01;31mfile2.tar\u001b[0m\n"
     ]
    }
   ],
   "source": [
    "ls -lhrt"
   ]
  },
  {
   "cell_type": "markdown",
   "metadata": {},
   "source": [
    "### bzip2, bunzip2, bzcat"
   ]
  },
  {
   "cell_type": "code",
   "execution_count": 40,
   "metadata": {},
   "outputs": [
    {
     "name": "stdout",
     "output_type": "stream",
     "text": [
      "\u001b[0m\u001b[01;31mfile.tar\u001b[0m\n"
     ]
    }
   ],
   "source": [
    "rm !(file.tar) 2> /dev/null; ls"
   ]
  },
  {
   "cell_type": "code",
   "execution_count": 41,
   "metadata": {
    "collapsed": true
   },
   "outputs": [],
   "source": [
    "bzip2 -9 file.tar"
   ]
  },
  {
   "cell_type": "code",
   "execution_count": 42,
   "metadata": {},
   "outputs": [
    {
     "name": "stdout",
     "output_type": "stream",
     "text": [
      "total 20K\n",
      "-rw-rw-r-- 1 milad milad 17K May  1 18:23 \u001b[0m\u001b[01;31mfile.tar.bz2\u001b[0m\n"
     ]
    }
   ],
   "source": [
    "ls -lh"
   ]
  },
  {
   "cell_type": "code",
   "execution_count": 47,
   "metadata": {
    "collapsed": true
   },
   "outputs": [],
   "source": [
    "bunzip2 file.tar.bz2"
   ]
  },
  {
   "cell_type": "code",
   "execution_count": 48,
   "metadata": {},
   "outputs": [
    {
     "name": "stdout",
     "output_type": "stream",
     "text": [
      "\u001b[0m\u001b[01;31mfile.tar\u001b[0m\n"
     ]
    }
   ],
   "source": [
    "ls"
   ]
  },
  {
   "cell_type": "code",
   "execution_count": 49,
   "metadata": {
    "collapsed": true
   },
   "outputs": [],
   "source": [
    "bzip2 file.tar"
   ]
  },
  {
   "cell_type": "code",
   "execution_count": 50,
   "metadata": {},
   "outputs": [
    {
     "name": "stdout",
     "output_type": "stream",
     "text": [
      "total 20K\n",
      "-rw-rw-r-- 1 milad milad 17K May  1 18:23 \u001b[0m\u001b[01;31mfile.tar.bz2\u001b[0m\n"
     ]
    }
   ],
   "source": [
    "ls -lh"
   ]
  },
  {
   "cell_type": "code",
   "execution_count": 54,
   "metadata": {
    "collapsed": true
   },
   "outputs": [],
   "source": [
    "bzcat file.tar.bz2 > new.tar"
   ]
  },
  {
   "cell_type": "code",
   "execution_count": 57,
   "metadata": {
    "collapsed": true
   },
   "outputs": [],
   "source": [
    "bzip2 -d -c file.tar.bz2 > another.tar # -c : Write the output on standard output"
   ]
  },
  {
   "cell_type": "code",
   "execution_count": 59,
   "metadata": {
    "collapsed": true
   },
   "outputs": [],
   "source": [
    "bunzip2 -c file.tar.bz2 > file.tar"
   ]
  },
  {
   "cell_type": "code",
   "execution_count": 62,
   "metadata": {
    "collapsed": true
   },
   "outputs": [],
   "source": [
    "cat file.tar.bz2 | bunzip2 > newfile.tar # cat file.tar.bz2 | bzip2 -d > newfile.tar"
   ]
  },
  {
   "cell_type": "code",
   "execution_count": 63,
   "metadata": {},
   "outputs": [
    {
     "name": "stdout",
     "output_type": "stream",
     "text": [
      "2184bc65ce5e94608d6a342dc1949982  another.tar\n",
      "2184bc65ce5e94608d6a342dc1949982  file.tar\n",
      "2184bc65ce5e94608d6a342dc1949982  newfile.tar\n",
      "2184bc65ce5e94608d6a342dc1949982  new.tar\n"
     ]
    }
   ],
   "source": [
    "md5sum *.tar"
   ]
  },
  {
   "cell_type": "markdown",
   "metadata": {},
   "source": [
    "### xz, unxz, xzcat"
   ]
  },
  {
   "cell_type": "code",
   "execution_count": 69,
   "metadata": {
    "collapsed": true
   },
   "outputs": [],
   "source": [
    "rm !(file.tar)"
   ]
  },
  {
   "cell_type": "code",
   "execution_count": 70,
   "metadata": {
    "collapsed": true
   },
   "outputs": [],
   "source": [
    "xz -k file.tar"
   ]
  },
  {
   "cell_type": "code",
   "execution_count": 72,
   "metadata": {},
   "outputs": [
    {
     "name": "stdout",
     "output_type": "stream",
     "text": [
      "total 156K\n",
      "-rw-rw-r-- 1 milad milad 140K May  1 18:30 \u001b[0m\u001b[01;31mfile.tar\u001b[0m\n",
      "-rw-rw-r-- 1 milad milad  14K May  1 18:30 \u001b[01;31mfile.tar.xz\u001b[0m\n"
     ]
    }
   ],
   "source": [
    "ls -lh"
   ]
  },
  {
   "cell_type": "markdown",
   "metadata": {},
   "source": [
    "### Back to tar"
   ]
  },
  {
   "cell_type": "code",
   "execution_count": 82,
   "metadata": {},
   "outputs": [
    {
     "name": "stdout",
     "output_type": "stream",
     "text": [
      "\u001b[0m\u001b[01;31mfile.tar\u001b[0m\n"
     ]
    }
   ],
   "source": [
    "ls"
   ]
  },
  {
   "cell_type": "code",
   "execution_count": 83,
   "metadata": {
    "collapsed": true
   },
   "outputs": [],
   "source": [
    "tar -xf file.tar"
   ]
  },
  {
   "cell_type": "code",
   "execution_count": 85,
   "metadata": {
    "collapsed": true
   },
   "outputs": [],
   "source": [
    "rm file.tar"
   ]
  },
  {
   "cell_type": "code",
   "execution_count": 86,
   "metadata": {},
   "outputs": [
    {
     "name": "stdout",
     "output_type": "stream",
     "text": [
      "41\n"
     ]
    }
   ],
   "source": [
    "ls | wc -l"
   ]
  },
  {
   "cell_type": "code",
   "execution_count": 87,
   "metadata": {},
   "outputs": [
    {
     "name": "stdout",
     "output_type": "stream",
     "text": [
      "244K\t.\n"
     ]
    }
   ],
   "source": [
    "du -h ."
   ]
  },
  {
   "cell_type": "code",
   "execution_count": 88,
   "metadata": {
    "collapsed": true
   },
   "outputs": [],
   "source": [
    "mkdir cmp"
   ]
  },
  {
   "cell_type": "code",
   "execution_count": 89,
   "metadata": {
    "collapsed": true
   },
   "outputs": [],
   "source": [
    "tar -c -z -f cmp/my.tar.gz *"
   ]
  },
  {
   "cell_type": "code",
   "execution_count": 90,
   "metadata": {
    "collapsed": true
   },
   "outputs": [],
   "source": [
    "tar -cjf cmp/my.tar.bz2 *"
   ]
  },
  {
   "cell_type": "code",
   "execution_count": 91,
   "metadata": {
    "collapsed": true
   },
   "outputs": [],
   "source": [
    "tar -cJf cmp/my.tar.xz *"
   ]
  },
  {
   "cell_type": "code",
   "execution_count": 92,
   "metadata": {},
   "outputs": [
    {
     "name": "stdout",
     "output_type": "stream",
     "text": [
      "cmp/my.tar.bz2: bzip2 compressed data, block size = 900k\n",
      "cmp/my.tar.gz:  gzip compressed data, last modified: Mon May  1 14:23:16 2017, from Unix\n",
      "cmp/my.tar.xz:  XZ compressed data\n"
     ]
    }
   ],
   "source": [
    "file cmp/*"
   ]
  },
  {
   "cell_type": "code",
   "execution_count": 94,
   "metadata": {},
   "outputs": [
    {
     "name": "stdout",
     "output_type": "stream",
     "text": [
      "-rw-rw-r-- 1 milad milad 49K May  1 18:53 \u001b[0m\u001b[01;31mcmp/my.tar.bz2\u001b[0m\n",
      "-rw-rw-r-- 1 milad milad 30K May  1 18:53 \u001b[01;31mcmp/my.tar.gz\u001b[0m\n",
      "-rw-rw-r-- 1 milad milad 93K May  1 18:53 \u001b[01;31mcmp/my.tar.xz\u001b[0m\n"
     ]
    }
   ],
   "source": [
    "ls -lh cmp/*"
   ]
  },
  {
   "cell_type": "code",
   "execution_count": 102,
   "metadata": {
    "collapsed": true
   },
   "outputs": [],
   "source": [
    "GZIP=-9 tar -cjf cmp/file.tar.gz * --exclude cmp"
   ]
  },
  {
   "cell_type": "code",
   "execution_count": 103,
   "metadata": {},
   "outputs": [
    {
     "name": "stdout",
     "output_type": "stream",
     "text": [
      "-rw-rw-r-- 1 milad milad 17K May  1 19:08 \u001b[0m\u001b[01;31mcmp/file.tar.gz\u001b[0m\n"
     ]
    }
   ],
   "source": [
    "ls cmp/file.tar.gz -lh"
   ]
  },
  {
   "cell_type": "code",
   "execution_count": null,
   "metadata": {
    "collapsed": true
   },
   "outputs": [],
   "source": [
    "tar -xOf cmp/my.tar.gz > a.tar # extract to stdout"
   ]
  },
  {
   "cell_type": "code",
   "execution_count": 106,
   "metadata": {},
   "outputs": [
    {
     "name": "stdout",
     "output_type": "stream",
     "text": [
      "alsa\n",
      "avahi-daemon\n",
      "bridge-utils\n",
      "bsdmainutils\n",
      "tar: write error\n"
     ]
    }
   ],
   "source": [
    "tar -t -f cmp/my.tar.gz | head -4 # list"
   ]
  },
  {
   "cell_type": "markdown",
   "metadata": {},
   "source": [
    "#### Paths in tar"
   ]
  },
  {
   "cell_type": "code",
   "execution_count": 128,
   "metadata": {
    "collapsed": true
   },
   "outputs": [],
   "source": [
    "tar -cf test.tar /etc/grub.d 2> /dev/null"
   ]
  },
  {
   "cell_type": "code",
   "execution_count": 129,
   "metadata": {},
   "outputs": [
    {
     "name": "stdout",
     "output_type": "stream",
     "text": [
      "etc/grub.d/30_os-prober\n"
     ]
    }
   ],
   "source": [
    "tar -tf test.tar | tail -1"
   ]
  },
  {
   "cell_type": "code",
   "execution_count": 133,
   "metadata": {
    "collapsed": true
   },
   "outputs": [],
   "source": [
    "tar -cPf test.tar /etc/grub.d 2> /dev/null # keep the leading /"
   ]
  },
  {
   "cell_type": "code",
   "execution_count": 137,
   "metadata": {},
   "outputs": [
    {
     "name": "stdout",
     "output_type": "stream",
     "text": [
      "/etc/grub.d/30_os-prober\n"
     ]
    }
   ],
   "source": [
    "tar -tf test.tar 2> /dev/null | tail -1"
   ]
  },
  {
   "cell_type": "code",
   "execution_count": 130,
   "metadata": {
    "collapsed": true
   },
   "outputs": [],
   "source": [
    "tar -cf test.tar -C /etc/grub.d . # Change dir"
   ]
  },
  {
   "cell_type": "code",
   "execution_count": 132,
   "metadata": {},
   "outputs": [
    {
     "name": "stdout",
     "output_type": "stream",
     "text": [
      "./30_os-prober\n"
     ]
    }
   ],
   "source": [
    "tar -tf test.tar | tail -1"
   ]
  },
  {
   "cell_type": "code",
   "execution_count": null,
   "metadata": {
    "collapsed": true
   },
   "outputs": [],
   "source": [
    "find /etc/grub.d/ | tar -cf grub.tar -T - -Pp # From stdin while keeping the / and permissions"
   ]
  },
  {
   "cell_type": "markdown",
   "metadata": {},
   "source": [
    "#### Updating "
   ]
  },
  {
   "cell_type": "code",
   "execution_count": 169,
   "metadata": {
    "collapsed": true
   },
   "outputs": [],
   "source": [
    "rm -r *"
   ]
  },
  {
   "cell_type": "code",
   "execution_count": 185,
   "metadata": {
    "collapsed": true
   },
   "outputs": [],
   "source": [
    "echo 'hi 1' > 1 ; echo 'hi 2' > 2"
   ]
  },
  {
   "cell_type": "code",
   "execution_count": 186,
   "metadata": {
    "collapsed": true
   },
   "outputs": [],
   "source": [
    "tar -cf 1.tar 1; tar -cf 2.tar 2;"
   ]
  },
  {
   "cell_type": "code",
   "execution_count": 187,
   "metadata": {
    "collapsed": true
   },
   "outputs": [],
   "source": [
    "rm 1 2"
   ]
  },
  {
   "cell_type": "code",
   "execution_count": 188,
   "metadata": {},
   "outputs": [
    {
     "name": "stdout",
     "output_type": "stream",
     "text": [
      "total 24\n",
      "-rw-rw-r-- 1 milad milad 10240 May  1 19:39 \u001b[0m\u001b[01;31m1.tar\u001b[0m\n",
      "-rw-rw-r-- 1 milad milad 10240 May  1 19:39 \u001b[01;31m2.tar\u001b[0m\n"
     ]
    }
   ],
   "source": [
    "ls -l"
   ]
  },
  {
   "cell_type": "code",
   "execution_count": 189,
   "metadata": {},
   "outputs": [
    {
     "name": "stdout",
     "output_type": "stream",
     "text": [
      "hi 1\n"
     ]
    }
   ],
   "source": [
    "tar -xOf 1.tar # -O: to the stdout"
   ]
  },
  {
   "cell_type": "code",
   "execution_count": 190,
   "metadata": {
    "collapsed": true
   },
   "outputs": [],
   "source": [
    "echo 'bye 1' > 1"
   ]
  },
  {
   "cell_type": "code",
   "execution_count": 191,
   "metadata": {
    "collapsed": true
   },
   "outputs": [],
   "source": [
    "tar -uf 1.tar 1  # update file 1 if it's newer"
   ]
  },
  {
   "cell_type": "code",
   "execution_count": 193,
   "metadata": {},
   "outputs": [
    {
     "name": "stdout",
     "output_type": "stream",
     "text": [
      "1\n",
      "1\n"
     ]
    }
   ],
   "source": [
    "tar -tf 1.tar # list files"
   ]
  },
  {
   "cell_type": "code",
   "execution_count": 192,
   "metadata": {},
   "outputs": [
    {
     "name": "stdout",
     "output_type": "stream",
     "text": [
      "hi 1\n",
      "bye 1\n"
     ]
    }
   ],
   "source": [
    "tar -xOf 1.tar"
   ]
  },
  {
   "cell_type": "code",
   "execution_count": null,
   "metadata": {
    "collapsed": true
   },
   "outputs": [],
   "source": [
    "tar -xf 2.tar --occurrence=1 filename"
   ]
  },
  {
   "cell_type": "code",
   "execution_count": null,
   "metadata": {
    "collapsed": true
   },
   "outputs": [],
   "source": [
    "tar -xf 2.tar --backup filename # 1 1~"
   ]
  },
  {
   "cell_type": "markdown",
   "metadata": {},
   "source": [
    "#### Appending a tarball into archive"
   ]
  },
  {
   "cell_type": "code",
   "execution_count": 194,
   "metadata": {
    "collapsed": true
   },
   "outputs": [],
   "source": [
    "tar -A 1.tar -f 2.tar # Appends 1.tar into 2.tar"
   ]
  },
  {
   "cell_type": "code",
   "execution_count": 196,
   "metadata": {},
   "outputs": [
    {
     "name": "stdout",
     "output_type": "stream",
     "text": [
      "2\n",
      "1\n",
      "1\n"
     ]
    }
   ],
   "source": [
    "tar -f 2.tar -t # list files"
   ]
  },
  {
   "cell_type": "code",
   "execution_count": 197,
   "metadata": {},
   "outputs": [
    {
     "name": "stdout",
     "output_type": "stream",
     "text": [
      "hi 2\n",
      "hi 1\n",
      "bye 1\n"
     ]
    }
   ],
   "source": [
    "tar -f 2.tar -xO"
   ]
  },
  {
   "cell_type": "code",
   "execution_count": 199,
   "metadata": {
    "collapsed": true
   },
   "outputs": [],
   "source": [
    "rm 1 # remove the new one we just creat it"
   ]
  },
  {
   "cell_type": "code",
   "execution_count": 200,
   "metadata": {
    "collapsed": true
   },
   "outputs": [],
   "source": [
    "tar -f 2.tar -x 1 # only extract file with the name `1`"
   ]
  },
  {
   "cell_type": "code",
   "execution_count": 201,
   "metadata": {},
   "outputs": [
    {
     "name": "stdout",
     "output_type": "stream",
     "text": [
      "1  \u001b[0m\u001b[01;31m1.tar\u001b[0m  \u001b[01;31m2.tar\u001b[0m\n"
     ]
    }
   ],
   "source": [
    "ls"
   ]
  },
  {
   "cell_type": "code",
   "execution_count": 202,
   "metadata": {},
   "outputs": [
    {
     "name": "stdout",
     "output_type": "stream",
     "text": [
      "bye 1\n"
     ]
    }
   ],
   "source": [
    "cat 1"
   ]
  },
  {
   "cell_type": "markdown",
   "metadata": {},
   "source": [
    "#### Append a file into archive"
   ]
  },
  {
   "cell_type": "code",
   "execution_count": 29,
   "metadata": {},
   "outputs": [
    {
     "name": "stdout",
     "output_type": "stream",
     "text": [
      "1\n"
     ]
    }
   ],
   "source": [
    "tar -tf 1.tar"
   ]
  },
  {
   "cell_type": "code",
   "execution_count": 30,
   "metadata": {
    "collapsed": true
   },
   "outputs": [],
   "source": [
    "tar -r -f 1.tar 2"
   ]
  },
  {
   "cell_type": "code",
   "execution_count": 31,
   "metadata": {},
   "outputs": [
    {
     "name": "stdout",
     "output_type": "stream",
     "text": [
      "1\n",
      "2\n"
     ]
    }
   ],
   "source": [
    "tar -tf 1.tar"
   ]
  },
  {
   "cell_type": "markdown",
   "metadata": {},
   "source": [
    "#### Delete"
   ]
  },
  {
   "cell_type": "code",
   "execution_count": 203,
   "metadata": {
    "collapsed": true
   },
   "outputs": [],
   "source": [
    "tar -f 2.tar --delete 1"
   ]
  },
  {
   "cell_type": "code",
   "execution_count": 204,
   "metadata": {},
   "outputs": [
    {
     "name": "stdout",
     "output_type": "stream",
     "text": [
      "2\n"
     ]
    }
   ],
   "source": [
    "tar -tf 2.tar # list files"
   ]
  },
  {
   "cell_type": "code",
   "execution_count": null,
   "metadata": {
    "collapsed": true
   },
   "outputs": [],
   "source": [
    "tar -f 2.tar --delete --occurrence=2 filename"
   ]
  },
  {
   "cell_type": "markdown",
   "metadata": {},
   "source": [
    "## cpio"
   ]
  },
  {
   "cell_type": "code",
   "execution_count": 205,
   "metadata": {},
   "outputs": [
    {
     "name": "stdout",
     "output_type": "stream",
     "text": [
      "cpio (1)             - copy files to and from archives\n"
     ]
    }
   ],
   "source": [
    "whatis cpio"
   ]
  },
  {
   "cell_type": "code",
   "execution_count": 209,
   "metadata": {},
   "outputs": [
    {
     "name": "stdout",
     "output_type": "stream",
     "text": [
      "/etc/grub.d\n",
      "/etc/grub.d/05_debian_theme\n",
      "/etc/grub.d/40_custom\n"
     ]
    }
   ],
   "source": [
    "find /etc/grub.d | head -3"
   ]
  },
  {
   "cell_type": "code",
   "execution_count": 210,
   "metadata": {},
   "outputs": [
    {
     "name": "stdout",
     "output_type": "stream",
     "text": [
      "106 blocks\n"
     ]
    }
   ],
   "source": [
    "find /etc/grub.d | cpio -o > grub-d.cpio"
   ]
  },
  {
   "cell_type": "code",
   "execution_count": 211,
   "metadata": {},
   "outputs": [
    {
     "name": "stdout",
     "output_type": "stream",
     "text": [
      "grub-d.cpio: cpio archive\n"
     ]
    }
   ],
   "source": [
    "file grub-d.cpio"
   ]
  },
  {
   "cell_type": "code",
   "execution_count": 219,
   "metadata": {},
   "outputs": [
    {
     "name": "stdout",
     "output_type": "stream",
     "text": [
      "cpio: Removing leading `/' from member names\n",
      "106 blocks\n"
     ]
    }
   ],
   "source": [
    "cpio -id --no-absolute-filenames < grub-d.cpio"
   ]
  },
  {
   "cell_type": "code",
   "execution_count": 220,
   "metadata": {},
   "outputs": [
    {
     "name": "stdout",
     "output_type": "stream",
     "text": [
      "\u001b[0m\u001b[01;34metc\u001b[0m  \u001b[01;31mgrub-d.cpio\u001b[0m\n"
     ]
    }
   ],
   "source": [
    "ls"
   ]
  },
  {
   "cell_type": "code",
   "execution_count": 8,
   "metadata": {
    "collapsed": true
   },
   "outputs": [],
   "source": [
    "rm -r etc grub-d.cpio"
   ]
  },
  {
   "cell_type": "code",
   "execution_count": 2,
   "metadata": {},
   "outputs": [
    {
     "name": "stdout",
     "output_type": "stream",
     "text": [
      "/boot/initrd.img-4.4.0-72-generic  /boot/initrd.img-4.4.0-75-generic\n"
     ]
    }
   ],
   "source": [
    "ls /boot/init*"
   ]
  },
  {
   "cell_type": "code",
   "execution_count": 4,
   "metadata": {
    "collapsed": true
   },
   "outputs": [],
   "source": [
    "cp /boot/initrd.img-4.4.0-75-generic ."
   ]
  },
  {
   "cell_type": "code",
   "execution_count": 11,
   "metadata": {},
   "outputs": [
    {
     "name": "stdout",
     "output_type": "stream",
     "text": [
      "initrd.img-4.4.0-75-generic: gzip compressed data, last modified: Fri Apr 28 10:16:15 2017, from Unix\n"
     ]
    }
   ],
   "source": [
    "file initrd.img-4.4.0-75-generic"
   ]
  },
  {
   "cell_type": "code",
   "execution_count": 12,
   "metadata": {},
   "outputs": [
    {
     "name": "stdout",
     "output_type": "stream",
     "text": [
      "192678 blocks\n"
     ]
    }
   ],
   "source": [
    "zcat initrd.img-4.4.0-75-generic | cpio -id --no-absolute-filenames"
   ]
  },
  {
   "cell_type": "code",
   "execution_count": 14,
   "metadata": {
    "collapsed": true
   },
   "outputs": [],
   "source": [
    "rm initrd.img-4.4.0-75-generic"
   ]
  },
  {
   "cell_type": "code",
   "execution_count": 15,
   "metadata": {},
   "outputs": [
    {
     "name": "stdout",
     "output_type": "stream",
     "text": [
      "\u001b[0m\u001b[01;34mbin\u001b[0m  \u001b[01;34mconf\u001b[0m  \u001b[01;34metc\u001b[0m  \u001b[01;32minit\u001b[0m  \u001b[01;34mlib\u001b[0m  \u001b[01;34mlib64\u001b[0m  \u001b[01;34mrun\u001b[0m  \u001b[01;34msbin\u001b[0m  \u001b[01;34mscripts\u001b[0m  \u001b[01;34musr\u001b[0m  \u001b[01;34mvar\u001b[0m\n"
     ]
    }
   ],
   "source": [
    "ls"
   ]
  },
  {
   "cell_type": "markdown",
   "metadata": {},
   "source": [
    "## zip, unzip\n",
    "The  zip program puts one or more compressed files into a single zip archive, along with information about the files (name, path, date, time of last modifica‐\n",
    "       tion, protection, and check information to verify file integrity). "
   ]
  },
  {
   "cell_type": "code",
   "execution_count": 14,
   "metadata": {},
   "outputs": [
    {
     "name": "stdout",
     "output_type": "stream",
     "text": [
      "  adding: grub.tar (deflated 79%)\n"
     ]
    }
   ],
   "source": [
    "zip my.zip grub.tar"
   ]
  },
  {
   "cell_type": "code",
   "execution_count": 15,
   "metadata": {},
   "outputs": [
    {
     "name": "stdout",
     "output_type": "stream",
     "text": [
      "total 76K\n",
      "-rw-rw-r-- 1 milad milad 60K May  2 12:13 \u001b[0m\u001b[01;31mgrub.tar\u001b[0m\n",
      "-rw-rw-r-- 1 milad milad 13K May  2 12:14 \u001b[01;31mmy.zip\u001b[0m\n"
     ]
    }
   ],
   "source": [
    "ls -lh"
   ]
  },
  {
   "cell_type": "code",
   "execution_count": 35,
   "metadata": {
    "collapsed": true
   },
   "outputs": [],
   "source": [
    "rm -r *"
   ]
  },
  {
   "cell_type": "code",
   "execution_count": 36,
   "metadata": {},
   "outputs": [
    {
     "name": "stdout",
     "output_type": "stream",
     "text": [
      "  adding: 05_debian_theme (deflated 58%)\n",
      "  adding: 40_custom (deflated 29%)\n",
      "  adding: 20_linux_xen (deflated 67%)\n",
      "  adding: 00_header (deflated 68%)\n",
      "  adding: 10_linux (deflated 67%)\n",
      "  adding: README (deflated 35%)\n",
      "  adding: 41_custom (deflated 46%)\n",
      "  adding: 30_uefi-firmware (deflated 42%)\n",
      "  adding: 30_os-prober (deflated 70%)\n"
     ]
    }
   ],
   "source": [
    "zip -jr9 grub.d.zip /etc/grub.d/  # junk the path"
   ]
  },
  {
   "cell_type": "code",
   "execution_count": 37,
   "metadata": {},
   "outputs": [
    {
     "name": "stdout",
     "output_type": "stream",
     "text": [
      "total 20K\n",
      "-rw-rw-r-- 1 milad milad 20K May  2 12:54 \u001b[0m\u001b[01;31mgrub.d.zip\u001b[0m\n"
     ]
    }
   ],
   "source": [
    "ls -lh"
   ]
  },
  {
   "cell_type": "code",
   "execution_count": 42,
   "metadata": {},
   "outputs": [
    {
     "name": "stdout",
     "output_type": "stream",
     "text": [
      "grub.d.zip: Zip archive data, at least v2.0 to extract\n"
     ]
    }
   ],
   "source": [
    "file grub.d.zip"
   ]
  },
  {
   "cell_type": "markdown",
   "metadata": {},
   "source": [
    "#### List files in a ZIP archive "
   ]
  },
  {
   "cell_type": "code",
   "execution_count": 47,
   "metadata": {},
   "outputs": [
    {
     "name": "stdout",
     "output_type": "stream",
     "text": [
      "Archive:  grub.d.zip\n",
      "  Length      Date    Time    Name\n",
      "---------  ---------- -----   ----\n",
      "     6258  2016-03-15 21:38   05_debian_theme\n",
      "      214  2016-07-23 04:39   40_custom\n",
      "    11082  2016-07-23 04:39   20_linux_xen\n",
      "     9791  2016-07-23 04:39   00_header\n",
      "    12512  2017-03-02 00:31   10_linux\n",
      "      483  2016-07-23 04:39   README\n",
      "      216  2016-07-23 04:39   41_custom\n",
      "     1418  2016-07-23 04:39   30_uefi-firmware\n",
      "    11692  2016-07-23 04:39   30_os-prober\n",
      "---------                     -------\n",
      "    53666                     9 files\n"
     ]
    }
   ],
   "source": [
    "unzip -l grub.d.zip"
   ]
  },
  {
   "cell_type": "markdown",
   "metadata": {},
   "source": [
    "the names, uncompressed file sizes and modification dates and times of the specified files are printed, along with totals for all files specified."
   ]
  },
  {
   "cell_type": "code",
   "execution_count": 48,
   "metadata": {},
   "outputs": [
    {
     "name": "stdout",
     "output_type": "stream",
     "text": [
      "Archive:  grub.d.zip\n",
      " Length   Method    Size  Cmpr    Date    Time   CRC-32   Name\n",
      "--------  ------  ------- ---- ---------- ----- --------  ----\n",
      "    6258  Defl:X     2634  58% 2016-03-15 21:38 495dc52b  05_debian_theme\n",
      "     214  Defl:X      151  29% 2016-07-23 04:39 7dc9d73d  40_custom\n",
      "   11082  Defl:X     3654  67% 2016-07-23 04:39 800a6f67  20_linux_xen\n",
      "    9791  Defl:X     3182  68% 2016-07-23 04:39 bc94e4f7  00_header\n",
      "   12512  Defl:X     4071  68% 2017-03-02 00:31 6fd29927  10_linux\n",
      "     483  Defl:X      314  35% 2016-07-23 04:39 84e28493  README\n",
      "     216  Defl:X      116  46% 2016-07-23 04:39 0d9cbda7  41_custom\n",
      "    1418  Defl:X      825  42% 2016-07-23 04:39 96573839  30_uefi-firmware\n",
      "   11692  Defl:X     3505  70% 2016-07-23 04:39 3c1d6615  30_os-prober\n",
      "--------          -------  ---                            -------\n",
      "   53666            18452  66%                            9 files\n"
     ]
    }
   ],
   "source": [
    "unzip -v grub.d.zip"
   ]
  },
  {
   "cell_type": "code",
   "execution_count": 56,
   "metadata": {},
   "outputs": [
    {
     "name": "stdout",
     "output_type": "stream",
     "text": [
      "etc/grub.d/\n",
      "etc/grub.d/05_debian_theme\n",
      "etc/grub.d/40_custom\n",
      "etc/grub.d/20_linux_xen\n",
      "etc/grub.d/00_header\n",
      "etc/grub.d/10_linux\n",
      "etc/grub.d/README\n",
      "etc/grub.d/41_custom\n",
      "etc/grub.d/30_uefi-firmware\n",
      "etc/grub.d/30_os-prober\n"
     ]
    }
   ],
   "source": [
    "zipinfo -2 grub.d.zip # read the man page, got a bunch of options to handle the list"
   ]
  },
  {
   "cell_type": "markdown",
   "metadata": {},
   "source": [
    "#### Zip Encryption"
   ]
  },
  {
   "cell_type": "code",
   "execution_count": null,
   "metadata": {
    "collapsed": true
   },
   "outputs": [],
   "source": [
    "zip -e my.zip /etc/ # encrypt using password"
   ]
  },
  {
   "cell_type": "code",
   "execution_count": null,
   "metadata": {
    "collapsed": true
   },
   "outputs": [],
   "source": [
    "zipcloak my.zip # after creation"
   ]
  },
  {
   "cell_type": "code",
   "execution_count": null,
   "metadata": {
    "collapsed": true
   },
   "outputs": [],
   "source": [
    "zipcloak -d my.zip # remove encryption"
   ]
  },
  {
   "cell_type": "markdown",
   "metadata": {},
   "source": [
    "#### Comment "
   ]
  },
  {
   "cell_type": "code",
   "execution_count": 57,
   "metadata": {},
   "outputs": [
    {
     "name": "stdout",
     "output_type": "stream",
     "text": [
      "  adding: config (deflated 50%)\n",
      "  adding: mailcap (deflated 5%)\n"
     ]
    }
   ],
   "source": [
    "zip -jj9r w3m.zip /etc/w3m/"
   ]
  },
  {
   "cell_type": "code",
   "execution_count": 58,
   "metadata": {},
   "outputs": [
    {
     "name": "stdout",
     "output_type": "stream",
     "text": [
      "Archive:  w3m.zip\n",
      " Length   Method    Size  Cmpr    Date    Time   CRC-32   Name\n",
      "--------  ------  ------- ---- ---------- ----- --------  ----\n",
      "    1262  Defl:X      625  51% 2017-03-02 00:16 6cde7dbe  config\n",
      "      44  Defl:X       42   5% 2017-03-02 00:16 eac7cd80  mailcap\n",
      "--------          -------  ---                            -------\n",
      "    1306              667  49%                            2 files\n"
     ]
    }
   ],
   "source": [
    "unzip -v w3m.zip"
   ]
  },
  {
   "cell_type": "code",
   "execution_count": 64,
   "metadata": {},
   "outputs": [
    {
     "name": "stdout",
     "output_type": "stream",
     "text": [
      "@ config\n",
      "@ (comment above this line)\n",
      "@ mailcap\n",
      "@ (comment above this line)\n",
      "@ (zip file comment below this line)\n"
     ]
    }
   ],
   "source": [
    "zipnote w3m.zip"
   ]
  },
  {
   "cell_type": "code",
   "execution_count": null,
   "metadata": {
    "collapsed": true
   },
   "outputs": [],
   "source": [
    "nano tmp"
   ]
  },
  {
   "cell_type": "markdown",
   "metadata": {},
   "source": [
    "`@ config\n",
    "Comment by ravexina (Milad As)\n",
    "@ (comment above this line)\n",
    "@ mailcap\n",
    "github.com/ravexina/\n",
    "@ (comment above this line)\n",
    "@ (zip file comment below this line)`"
   ]
  },
  {
   "cell_type": "code",
   "execution_count": 66,
   "metadata": {
    "collapsed": true
   },
   "outputs": [],
   "source": [
    "zipnote -w w3m.zip < tmp"
   ]
  },
  {
   "cell_type": "code",
   "execution_count": 67,
   "metadata": {},
   "outputs": [
    {
     "name": "stdout",
     "output_type": "stream",
     "text": [
      "@ config\n",
      "Comment by ravexina (Milad As)\n",
      "@ (comment above this line)\n",
      "@ mailcap\n",
      "github.com/ravexina/\n",
      "@ (comment above this line)\n",
      "@ (zip file comment below this line)\n"
     ]
    }
   ],
   "source": [
    "zipnote w3m.zip"
   ]
  },
  {
   "cell_type": "code",
   "execution_count": 74,
   "metadata": {},
   "outputs": [
    {
     "name": "stdout",
     "output_type": "stream",
     "text": [
      "Archive:  w3m.zip\n",
      "  Length      Date    Time    Name\n",
      "---------  ---------- -----   ----\n",
      "     1262  2017-03-02 00:16   config\n",
      "Comment by ravexina (Milad As)\n",
      "       44  2017-03-02 00:16   mailcap\n",
      "github.com/ravexina/\n",
      "---------                     -------\n",
      "     1306                     2 files\n"
     ]
    }
   ],
   "source": [
    "unzip -l w3m.zip"
   ]
  },
  {
   "cell_type": "markdown",
   "metadata": {},
   "source": [
    "#### Renaming\n",
    "Save it in tmp\n",
    "\n",
    "`@ config\n",
    "@=newconfig-name\n",
    "Comment by ravexina (Milad As)\n",
    "@ (comment above this line)\n",
    "@ mailcap\n",
    "github.com/ravexina/\n",
    "@ (comment above this line)\n",
    "@ (zip file comment below this line)`"
   ]
  },
  {
   "cell_type": "code",
   "execution_count": null,
   "metadata": {
    "collapsed": true
   },
   "outputs": [],
   "source": [
    "zipnote -w w3m.zip < tmp"
   ]
  },
  {
   "cell_type": "code",
   "execution_count": 76,
   "metadata": {},
   "outputs": [
    {
     "name": "stdout",
     "output_type": "stream",
     "text": [
      "newconfig-name\n",
      "mailcap\n"
     ]
    }
   ],
   "source": [
    "zipinfo -2 w3m.zip"
   ]
  },
  {
   "cell_type": "markdown",
   "metadata": {},
   "source": [
    "- - -\n",
    "#### References\n",
    "\n",
    "man pages of: `tar, gzip, bzip2, xz, zip, unzip, zipinfo, zipnote and cpio`\n",
    "\n",
    "https://www.gnu.org/software/cpio/manual/html_mono/cpio.html  \n",
    "https://www.gnu.org/software/tar/manual/tar.html  \n",
    "http://www.info-zip.org/mans/unzip.html  \n"
   ]
  },
  {
   "cell_type": "markdown",
   "metadata": {},
   "source": [
    "- - -\n",
    "## Lecture notes\n",
    "\n",
    "- All lecture notes are available at github in `ipynb` format: [https://github.com/ravexina/linux-notes](https://github.com/ravexina/linux-notes). \n",
    "\n",
    "\n",
    "- There are `html` exports of project available at: [https://ravexina.github.io/linux-notes](https://ravexina.github.io/linux-notes).\n",
    "\n",
    "## License\n",
    "<a rel=\"license\" href=\"http://creativecommons.org/licenses/by-nc-sa/4.0/\">\n",
    "<img alt=\"Creative Commons License\" style=\"border-width:0\" src=\"https://i.creativecommons.org/l/by-nc-sa/4.0/88x31.png\" />\n",
    "</a>\n",
    "\n",
    "<span property=\"dct:title\">Linux Notes</span> by \n",
    "<a href=\"http://github.com/ravexina/Linux-Notes\" property=\"cc:attributionName\" rel=\"cc:attributionURL\">Milad As (Ravexina)</a> is licensed under a <a rel=\"license\" href=\"http://creativecommons.org/licenses/by-nc-sa/4.0/\">Creative Commons Attribution-NonCommercial-ShareAlike 4.0 International License</a>.\n",
    "\n",
    "- - -\n",
    "\n",
    "<a rel=\"license\" href=\"https://gitlab.com/ravexina/\"><img alt=\"ravexina's gitlab\" style=\"display:inline;border-width:0;height:30px;float:left;\" src=\"img/logo/logo-square.png\" /></a> \n",
    "\n",
    "<a rel=\"license\" href=\"https://github.com/ravexina/\"><img alt=\"ravexina's github\" style=\"float:right;display:inline;border-width:0;height:30px;\" src=\"img/logo/GitHub_Logo.png\" /></a>"
   ]
  }
 ],
 "metadata": {
  "kernelspec": {
   "display_name": "Bash",
   "language": "bash",
   "name": "bash"
  },
  "language_info": {
   "codemirror_mode": "shell",
   "file_extension": ".sh",
   "mimetype": "text/x-sh",
   "name": "bash"
  }
 },
 "nbformat": 4,
 "nbformat_minor": 2
}
